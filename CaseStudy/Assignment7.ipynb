{
 "cells": [
  {
   "cell_type": "code",
   "execution_count": null,
   "id": "817cf7f0-99ab-4d8d-b7c8-a67aef2b0392",
   "metadata": {},
   "outputs": [],
   "source": [
    "\"\"\"Que A. Read data file university_rankings.csv in pandas dataframe and based\n",
    "on this data answer the following questions.\n",
    "1. Find out the data is for which years using the years column?\"\"\"\n",
    "\n",
    "import pandas as pd\n",
    "df=pd.read_csv(\"university_rankings.csv\")"
   ]
  },
  {
   "cell_type": "code",
   "execution_count": null,
   "id": "41f896fa-b99e-4a51-92d0-b6a20b68dec8",
   "metadata": {},
   "outputs": [],
   "source": [
    "#2. Find out which all columns have missing values?"
   ]
  },
  {
   "cell_type": "code",
   "execution_count": null,
   "id": "b5777eaf-c699-427c-9f4e-da6e683fcb6e",
   "metadata": {},
   "outputs": [],
   "source": [
    "#3. Universities from how many countries are available in this data?"
   ]
  },
  {
   "cell_type": "code",
   "execution_count": null,
   "id": "0ab26100-cdfb-43ab-93ae-6fb16f0db536",
   "metadata": {},
   "outputs": [],
   "source": [
    "#4. Which country has the highest number of universities for 2015?"
   ]
  },
  {
   "cell_type": "code",
   "execution_count": null,
   "id": "418cc073-9c1a-4eab-ab62-824b992f0bd5",
   "metadata": {},
   "outputs": [],
   "source": [
    "#5. Find out the top 10 Institute in terms of number of publications for 2014?"
   ]
  },
  {
   "cell_type": "code",
   "execution_count": null,
   "id": "17dd722a-5bfd-4b86-a61f-a201d9b3a065",
   "metadata": {},
   "outputs": [],
   "source": [
    "#6. How many Institutes from India are available in this data in each year?"
   ]
  },
  {
   "cell_type": "code",
   "execution_count": null,
   "id": "2400e238-8b93-4f9d-8846-c12babe8e1f6",
   "metadata": {},
   "outputs": [],
   "source": [
    "#7. Plot a bar graph showing the number of universities from each country for 2012."
   ]
  },
  {
   "cell_type": "code",
   "execution_count": null,
   "id": "c6325009-cf7d-4073-8e6a-e81b83c44dcc",
   "metadata": {},
   "outputs": [],
   "source": [
    "\"\"\"Que B. Data file covid19_testing.csv contains data of covid-19 testing, for the\n",
    "year 2020, done in various States and Union Territories of India. The following table\n",
    "describes each column in the dataset:\n",
    "Column Name              Description\n",
    "Month                 Month of the year\n",
    "Date                  Date of the corresponding month.\n",
    "State                 Name of the State or Union Territory.\n",
    "TotalSamples          Cumulative number of total samples tested till the given date.\n",
    "Negative              Cumulative number of negative samples till the given date.\n",
    "Positive              Cumulative number of positive samples till the given date.\n",
    "\n",
    "Read data file in a pandas data frame and based on this data answer the following\n",
    "questions:\n",
    "1. Check the last seven rows for Karnataka.\"\"\"\n",
    "import pandas as pd\n",
    "df=pd.read_csv(\"covid19_testing.csv\")"
   ]
  },
  {
   "cell_type": "code",
   "execution_count": null,
   "id": "a28bc821-21f4-4524-86b5-88c6caaa2b36",
   "metadata": {},
   "outputs": [],
   "source": [
    "\"\"\"2. Find out for how many days data is present in the dataset for states - Tripura and\n",
    "Jharkhand.\"\"\""
   ]
  },
  {
   "cell_type": "code",
   "execution_count": null,
   "id": "60cd6bbc-b5be-4cdd-8ea7-42d6a3e63809",
   "metadata": {},
   "outputs": [],
   "source": [
    "\"\"\"3. On which day the total number of positive cases crossed the mark of 1 lakh in\n",
    "Maharashtra?\"\"\""
   ]
  },
  {
   "cell_type": "code",
   "execution_count": null,
   "id": "4f483c8c-ed02-43e4-af6f-92b7b4f89640",
   "metadata": {},
   "outputs": [],
   "source": [
    "#4. In the year 2020, which state has tested the highest number of samples?"
   ]
  },
  {
   "cell_type": "code",
   "execution_count": null,
   "id": "a482ae3b-755c-49ac-ade8-3d31905abe1b",
   "metadata": {},
   "outputs": [],
   "source": [
    "#5. In the year 2020, which state/UT has tested the lowest number of samples?"
   ]
  }
 ],
 "metadata": {
  "kernelspec": {
   "display_name": "Python 3 (ipykernel)",
   "language": "python",
   "name": "python3"
  },
  "language_info": {
   "codemirror_mode": {
    "name": "ipython",
    "version": 3
   },
   "file_extension": ".py",
   "mimetype": "text/x-python",
   "name": "python",
   "nbconvert_exporter": "python",
   "pygments_lexer": "ipython3",
   "version": "3.11.7"
  }
 },
 "nbformat": 4,
 "nbformat_minor": 5
}
