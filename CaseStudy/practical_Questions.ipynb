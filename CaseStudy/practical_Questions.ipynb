{
 "cells": [
  {
   "cell_type": "code",
   "execution_count": null,
   "id": "bf14c1f4-38e4-47a8-8f0d-e47eca0af7f7",
   "metadata": {},
   "outputs": [],
   "source": [
    "\"\"\"1. Create a class ElectricityBill with data members as customer number,\n",
    "customer name, units consumed and methods as follows:\n",
    "● show_data() - to display the customer details\n",
    "● compute_bill() - to calculate and return electricity charges to be paid.\n",
    "Calculate the bill as specified below:\n",
    "Number of units Charges/unit\n",
    "< = 100 Rs.1.20\n",
    "for the next 200 units Rs. 2.00\n",
    "for the next 300 units Rs. 3.00\n",
    "for more Rs. 5.00\n",
    "ex: input = 320 units output = 100*1.20 +200*2.00+20*3.00 = Rs. 580\"\"\""
   ]
  },
  {
   "cell_type": "code",
   "execution_count": null,
   "id": "2ca4ef2c-7c96-419b-9154-0f10ca964bc3",
   "metadata": {},
   "outputs": [],
   "source": [
    "\"\"\"2. Write a program to implement a simple calculator that can add, subtract, multiply\n",
    "and divide two integers. The program should handle two kinds of exceptions,\n",
    "ZeroDivisionError and ValueError.\"\"\""
   ]
  },
  {
   "cell_type": "code",
   "execution_count": null,
   "id": "4ecb8e57-1fb9-41ff-9bf8-f1c536ec3439",
   "metadata": {},
   "outputs": [],
   "source": [
    "\"\"\"3. In cryptography, a Caesar cipher is a very simple encryption technique in which\n",
    "each letter in the plain text is replaced by a letter some fixed number of positions\n",
    "down the alphabet. For example, with a shift of 3, A would be replaced by D, B\n",
    "would become E, and so on. The method is named after Julius Caesar, who used\n",
    "it to communicate with his generals. ROT-13 (\"rotate by 13 places\") is a widely\n",
    "used example of a Caesar cipher where the shift is 13. In Python, the key for\n",
    "ROT-13 may be represented by means of the following dictionary:\n",
    "key = {'a': 'n', 'b': 'o', 'c': 'p', 'd': 'q', 'e': 'r', 'f':\n",
    "'s', 'g': 't', 'h': 'u', 'i': 'v', 'T': 'G', 'k': 'x', 'm': 'z',\n",
    "'n': 'a', 'o': 'b', 'p': 'c', 'q': 'd', 'r': 'e', 's': 'f', 't':\n",
    "'g', 'u': 'h', 'v': 'i', 'w': 'j', 'x': 'k', 'y': 'l', 'z': 'm',\n",
    "'A': 'N', 'B': 'O', 'C': 'P', 'D': 'Q', 'E': 'R', 'F': 'S', 'G':\n",
    "'T', 'H': 'U', 'I': 'V', 'J': 'W', 'K': 'X', 'L': 'Y', 'M': 'Z',\n",
    "'N': 'A', 'O': 'B', 'P': 'C', 'Q': 'D', 'R': 'E', 'S': 'F', 'U':\n",
    "'H', 'V': 'T', 'W': 'J', 'X': 'K', 'Y': 'L', 'Z': 'M', 'l': 'y',\n",
    "'j': 'w'}\n",
    "Your task in this exercise is to implement an encoder/decoder of ROT-13. Once\n",
    "you're done, you will be able to read the following secret messages:\n",
    "● Pnrfne pvcure? Vbb zhpu, cersre Pnrfne fnynq!\n",
    "● V ybir zl Vaqvn\n",
    "● xnouv xuhfuv xnouv tunz, xnouv wnlnqn xnouv xnz\n",
    "Note that since English has 26 characters, your ROT-13 program will be able to\n",
    "both encode and decode texts written in English.\"\"\""
   ]
  },
  {
   "cell_type": "code",
   "execution_count": 1,
   "id": "5b795fbc-bae5-4a44-a5c0-ed5487334a97",
   "metadata": {},
   "outputs": [
    {
     "data": {
      "text/plain": [
       "\"4. File zomato_blr_data.csv contains data about restaurants in Bengaluru\\nfrom the Zomato website. Based on this data answer the following questions\\nusing pandas dataframe.\\na. How many Domino's Pizza outlets are in Bengaluru?\\nb. Which location in Bengaluru has the highest number of restaurants with\\nNorth Indian cuisine?\\nc. Which are the highest-rated restaurants in Whitefield?\""
      ]
     },
     "execution_count": 1,
     "metadata": {},
     "output_type": "execute_result"
    }
   ],
   "source": [
    "\"\"\"4. File zomato_blr_data.csv contains data about restaurants in Bengaluru\n",
    "from the Zomato website. Based on this data answer the following questions\n",
    "using pandas dataframe.\n",
    "a. How many Domino's Pizza outlets are in Bengaluru?\n",
    "b. Which location in Bengaluru has the highest number of restaurants with\n",
    "North Indian cuisine?\n",
    "c. Which are the highest-rated restaurants in Whitefield?\"\"\"\n"
   ]
  },
  {
   "cell_type": "code",
   "execution_count": null,
   "id": "78dd4018-5969-42d3-b6b9-759514257830",
   "metadata": {},
   "outputs": [],
   "source": [
    "\"\"\"5. File \"airports.csv\" contains data on airports around the world. Load this file in\n",
    "a pandas dataframe and based on this data answer the following questions:\n",
    "a. Find out the country in each continent having the highest number of\n",
    "airports?\n",
    "b. Which state in India has the highest number of Airports?\n",
    "c. Which states in India have more than one large airport?\"\"\""
   ]
  },
  {
   "cell_type": "code",
   "execution_count": null,
   "id": "8ce46614-a487-4830-ba71-d1d4a2a4b87d",
   "metadata": {},
   "outputs": [],
   "source": [
    "\"\"\"6. Data file Top_650-FIFA.csv contains data of top 650 players in FIFA 22.\n",
    "Based on this data answer the following questions using pandas dataframe:\n",
    "a. Who is the French defender player for Manchester United?\n",
    "b. Find the name of the Player with maximum height, who was born in the\n",
    "80s.\n",
    "c. Generate a plot/graph to display the number of players from each country\n",
    "using the inbuilt plot method of pandas.\"\"\""
   ]
  },
  {
   "cell_type": "code",
   "execution_count": null,
   "id": "12ade4ce-a0c1-4802-952e-a819f24126cf",
   "metadata": {},
   "outputs": [],
   "source": [
    "\"\"\"7. Datafile Beijing_2022.csv contains data of the Medals won by participating\n",
    "countries/NOCs as well as by Athletes in the 2022 Winter Olympics, which was\n",
    "held in February 2022 in Beijing, China. Based on this data answer the following\n",
    "questions using pandas dataframe:\n",
    "a. Who won the Bronze Medal in Men's Aerials?\n",
    "b. Who won the Silver Medal in Women's 1500m Speed Skating?\n",
    "c. Which country has won the highest number of Gold Medals?\n",
    "d. Generate a plot/graph to display the number of players from each country\n",
    "using the inbuilt plot method of pandas.\"\"\""
   ]
  }
 ],
 "metadata": {
  "kernelspec": {
   "display_name": "Python 3 (ipykernel)",
   "language": "python",
   "name": "python3"
  },
  "language_info": {
   "codemirror_mode": {
    "name": "ipython",
    "version": 3
   },
   "file_extension": ".py",
   "mimetype": "text/x-python",
   "name": "python",
   "nbconvert_exporter": "python",
   "pygments_lexer": "ipython3",
   "version": "3.9.13"
  }
 },
 "nbformat": 4,
 "nbformat_minor": 5
}
