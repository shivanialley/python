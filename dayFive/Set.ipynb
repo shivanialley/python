{
 "cells": [
  {
   "cell_type": "code",
   "execution_count": 20,
   "id": "d2c5ac8d-3998-47a1-8d57-9892d5f8667e",
   "metadata": {},
   "outputs": [
    {
     "ename": "KeyError",
     "evalue": "'Good'",
     "output_type": "error",
     "traceback": [
      "\u001b[1;31m---------------------------------------------------------------------------\u001b[0m",
      "\u001b[1;31mKeyError\u001b[0m                                  Traceback (most recent call last)",
      "Cell \u001b[1;32mIn[20], line 6\u001b[0m\n\u001b[0;32m      4\u001b[0m mySet3\u001b[38;5;241m=\u001b[39m{\u001b[38;5;124m\"\u001b[39m\u001b[38;5;124mHi\u001b[39m\u001b[38;5;124m\"\u001b[39m,\u001b[38;5;124m\"\u001b[39m\u001b[38;5;124mHello\u001b[39m\u001b[38;5;124m\"\u001b[39m,\u001b[38;5;241m3\u001b[39m,\u001b[38;5;28;01mTrue\u001b[39;00m, \u001b[38;5;28;01mFalse\u001b[39;00m}\n\u001b[0;32m      5\u001b[0m \u001b[38;5;66;03m#mySet3.add(\"Friday\")\u001b[39;00m\n\u001b[1;32m----> 6\u001b[0m mySet3\u001b[38;5;241m.\u001b[39mremove(\u001b[38;5;124m\"\u001b[39m\u001b[38;5;124mGood\u001b[39m\u001b[38;5;124m\"\u001b[39m)\n\u001b[0;32m      7\u001b[0m \u001b[38;5;28mprint\u001b[39m(mySet3)\n\u001b[0;32m      8\u001b[0m \u001b[38;5;28mprint\u001b[39m(mySet2)\n",
      "\u001b[1;31mKeyError\u001b[0m: 'Good'"
     ]
    }
   ],
   "source": [
    "#Sets\n",
    "mySet={\"Hi\",\"Hello\",\"Good Day\"}\n",
    "mySet2=[1,2,3]\n",
    "mySet3={\"Hi\",\"Hello\",3,True, False}\n",
    "#mySet3.add(\"Friday\")\n",
    "mySet3.remove(\"Good\")\n",
    "print(mySet3)\n",
    "print(mySet2)\n",
    "mySet3.update(mySet2)\n",
    "print(mySet3)\n",
    "#for x in mySet3:\n",
    " #   print(x)\n",
    "#print(len(mySet3))\n",
    "\n",
    "#print(mySet)\n",
    "#print(mySet2)\n",
    "#print(mySet3)"
   ]
  },
  {
   "cell_type": "code",
   "execution_count": null,
   "id": "db055be7-c70e-4eac-959c-92d408c7c3d8",
   "metadata": {},
   "outputs": [],
   "source": []
  }
 ],
 "metadata": {
  "kernelspec": {
   "display_name": "Python 3 (ipykernel)",
   "language": "python",
   "name": "python3"
  },
  "language_info": {
   "codemirror_mode": {
    "name": "ipython",
    "version": 3
   },
   "file_extension": ".py",
   "mimetype": "text/x-python",
   "name": "python",
   "nbconvert_exporter": "python",
   "pygments_lexer": "ipython3",
   "version": "3.11.7"
  }
 },
 "nbformat": 4,
 "nbformat_minor": 5
}
