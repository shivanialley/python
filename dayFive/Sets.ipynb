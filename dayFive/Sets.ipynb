{
 "cells": [
  {
   "cell_type": "code",
   "execution_count": 1,
   "id": "b19f4c8f-ab20-433c-84f3-ead6c40fcba7",
   "metadata": {},
   "outputs": [
    {
     "name": "stdout",
     "output_type": "stream",
     "text": [
      "{'hello', 'Good Day', 'Hi'}\n"
     ]
    }
   ],
   "source": [
    "mySet={\"Hi\",\"hello\",\"Good Day\"}\n",
    "print(mySet)"
   ]
  },
  {
   "cell_type": "code",
   "execution_count": 2,
   "id": "b722c591-2479-4b05-b209-6e1a528281e0",
   "metadata": {},
   "outputs": [
    {
     "name": "stdout",
     "output_type": "stream",
     "text": [
      "{'hello', 'Good Day', 'Hi'}\n",
      "{1, 3, 4}\n"
     ]
    }
   ],
   "source": [
    "mySet={\"Hi\",\"hello\",\"Good Day\"}\n",
    "mySet2={1,3,4}\n",
    "print(mySet)\n",
    "print(mySet2)"
   ]
  },
  {
   "cell_type": "code",
   "execution_count": 3,
   "id": "d0ab3a5f-3fa8-4fc5-8c22-da3024623f43",
   "metadata": {},
   "outputs": [
    {
     "name": "stdout",
     "output_type": "stream",
     "text": [
      "6\n",
      "{'hello', 'Good Day', 'Hi'}\n",
      "{1, 3, 4}\n",
      "False\n",
      "1\n",
      "3\n",
      "Friday\n",
      "4\n",
      "Hello\n",
      "Hi\n",
      "22\n"
     ]
    }
   ],
   "source": [
    "mySet={\"Hi\",\"hello\",\"Good Day\"}\n",
    "mySet2={1,3,4}\n",
    "mySet3={22,1,True,\"Hi\",\"Hello\",False,0}#whatever it 1 = True & 0= False So whatever we write first it take that & ignore second one\n",
    "mySet3.add(\"Friday\")#to add 1 more value\n",
    "print(len(mySet3))#as duplicated not considered so we dont have length according to that\n",
    "mySet3.update(mySet2)\n",
    "print(mySet)\n",
    "print(mySet2)\n",
    "for x in mySet3:\n",
    "    print(x)"
   ]
  },
  {
   "cell_type": "code",
   "execution_count": 4,
   "id": "d312fe1a-0ef1-4779-b223-9534788ec85c",
   "metadata": {},
   "outputs": [
    {
     "name": "stdout",
     "output_type": "stream",
     "text": [
      "{False, 1, 'Hello', 'Hi', 3, 22, 4}\n"
     ]
    }
   ],
   "source": [
    "mySet2=[1,3,4]\n",
    "mySet3={22,1,True,\"Hi\",\"Hello\",False,0}\n",
    "mySet3.update(mySet2)\n",
    "print(mySet3)"
   ]
  },
  {
   "cell_type": "code",
   "execution_count": 5,
   "id": "2181fc02-eb5d-415e-aca3-e90a625ed342",
   "metadata": {},
   "outputs": [
    {
     "name": "stdout",
     "output_type": "stream",
     "text": [
      "{False, 1, 'Hello', 22}\n"
     ]
    }
   ],
   "source": [
    "mySet3={22,1,True,\"Hi\",\"Hello\",False,0}\n",
    "mySet3.remove(\"Hi\")#remove will do if exit otherwise it show error\n",
    "print(mySet3)"
   ]
  },
  {
   "cell_type": "code",
   "execution_count": 6,
   "id": "ef432291-e61e-446f-bc1c-42ba542ccb3f",
   "metadata": {},
   "outputs": [
    {
     "name": "stdout",
     "output_type": "stream",
     "text": [
      "{False, 1, 'Hello', 'Hi', 22}\n"
     ]
    }
   ],
   "source": [
    "mySet3={22,1,True,\"Hi\",\"Hello\",False,0}\n",
    "mySet3.discard(\"Good\")#it does not exit but it is not showing error\n",
    "print(mySet3)"
   ]
  },
  {
   "cell_type": "code",
   "execution_count": 7,
   "id": "b180fdd3-ccbe-469a-824e-df6d7e8f996f",
   "metadata": {},
   "outputs": [
    {
     "name": "stdout",
     "output_type": "stream",
     "text": [
      "{'c', 1, 4, 5, 'a', 'b'}\n"
     ]
    }
   ],
   "source": [
    "set1={\"a\",\"b\",\"c\"}\n",
    "set2={1,4,5}\n",
    "set3=set1.union(set2)\n",
    "print(set3)"
   ]
  },
  {
   "cell_type": "code",
   "execution_count": 8,
   "id": "7e028f9e-e8d3-40ea-a74b-aa9a94ee7b92",
   "metadata": {},
   "outputs": [
    {
     "name": "stdout",
     "output_type": "stream",
     "text": [
      "<class 'set'>\n"
     ]
    }
   ],
   "source": [
    "set1={\"a\",\"b\",\"c\"}\n",
    "print(type(set1))"
   ]
  },
  {
   "cell_type": "code",
   "execution_count": 9,
   "id": "f32fd85d-f17b-401c-a8de-b2f6a4c538d2",
   "metadata": {},
   "outputs": [
    {
     "name": "stdout",
     "output_type": "stream",
     "text": [
      "b\n",
      "{'c', 'a'}\n"
     ]
    }
   ],
   "source": [
    "set1={\"a\",\"b\",\"c\"}\n",
    "print(set1.pop())#remove first element in set\n",
    "print(set1)"
   ]
  },
  {
   "cell_type": "code",
   "execution_count": 10,
   "id": "0e18585d-0ab6-415d-bfaf-ca024bd1234b",
   "metadata": {},
   "outputs": [
    {
     "name": "stdout",
     "output_type": "stream",
     "text": [
      "None\n",
      "set()\n"
     ]
    }
   ],
   "source": [
    "set1={\"a\",\"b\",\"c\"}\n",
    "print(set1.clear())\n",
    "print(set1)"
   ]
  },
  {
   "cell_type": "code",
   "execution_count": 11,
   "id": "5db24b34-a109-464a-8d7b-05d621701aa9",
   "metadata": {},
   "outputs": [
    {
     "name": "stdout",
     "output_type": "stream",
     "text": [
      "{'b', 'c', 'a'}\n"
     ]
    }
   ],
   "source": [
    "set1={\"a\",\"b\",\"c\"}\n",
    "\n",
    "print(set1)"
   ]
  },
  {
   "cell_type": "code",
   "execution_count": 12,
   "id": "1adc8994-9185-48ba-b0e2-b955b5b69904",
   "metadata": {},
   "outputs": [
    {
     "name": "stdout",
     "output_type": "stream",
     "text": [
      "{'c', 1, 4, 5, 'a', 'b'}\n"
     ]
    }
   ],
   "source": [
    "set1={\"a\",\"b\",\"c\"}\n",
    "set2={1,4,5}\n",
    "set3=set1.union(set2)\n",
    "print(set3)"
   ]
  },
  {
   "cell_type": "code",
   "execution_count": 13,
   "id": "5366a24a-f538-4e38-b243-aefa4001359d",
   "metadata": {},
   "outputs": [
    {
     "name": "stdout",
     "output_type": "stream",
     "text": [
      "{'c', 1, 4, 5, 'a', 'b'}\n"
     ]
    }
   ],
   "source": [
    "set1={\"a\",\"b\",\"c\"}\n",
    "set2={1,4,5}\n",
    "set3 =set1 | set2#same as union\n",
    "print(set3)"
   ]
  },
  {
   "cell_type": "code",
   "execution_count": 14,
   "id": "b1bf6e31-38c6-49ef-a793-f375a8e4faab",
   "metadata": {},
   "outputs": [
    {
     "name": "stdout",
     "output_type": "stream",
     "text": [
      "{'c', 1, 4, 5, 'Anjana', 'a', 'b', 'Urvish', 'Chaitali', 'Shivani'}\n"
     ]
    }
   ],
   "source": [
    "set1={\"a\",\"b\",\"c\"}\n",
    "set2={1,4,5}\n",
    "set3={\"Shivani\",\"Chaitali\"}\n",
    "set4={\"Urvish\",\"Anjana\"}\n",
    "set5=set1.union(set2,set3,set4)\n",
    "print(set5)"
   ]
  },
  {
   "cell_type": "code",
   "execution_count": 15,
   "id": "900c7ccb-d13f-40c7-bcf0-8be2e394ef67",
   "metadata": {},
   "outputs": [
    {
     "name": "stdout",
     "output_type": "stream",
     "text": [
      "{'c', 1, 4, 5, 'Anjana', 'a', 'b', 'Urvish', 'Chaitali', 'Shivani'}\n"
     ]
    }
   ],
   "source": [
    "set1={\"a\",\"b\",\"c\"}\n",
    "set2={1,4,5}\n",
    "set3={\"Shivani\",\"Chaitali\"}\n",
    "set4={\"Urvish\",\"Anjana\"}\n",
    "set5=set1 | set2 | set3 | set4\n",
    "print(set5)"
   ]
  },
  {
   "cell_type": "code",
   "execution_count": 18,
   "id": "810bfa1f-8752-48d9-820e-1b46a7939501",
   "metadata": {},
   "outputs": [
    {
     "name": "stdout",
     "output_type": "stream",
     "text": [
      "{1}\n"
     ]
    }
   ],
   "source": [
    "set1={\"a\",\"b\",\"c\",1}\n",
    "set2={1,4,5}\n",
    "set3={\"Shivani\",\"Chaitali\"}\n",
    "set4={\"Urvish\",\"Anjana\"}\n",
    "set5=set1.intersection(set2)\n",
    "print(set5)"
   ]
  },
  {
   "cell_type": "code",
   "execution_count": 19,
   "id": "1619b57e-e4d6-4efd-bc90-65dd6ef66272",
   "metadata": {},
   "outputs": [
    {
     "name": "stdout",
     "output_type": "stream",
     "text": [
      "{'b', 'c', 'a'}\n"
     ]
    }
   ],
   "source": [
    "set1={\"a\",\"b\",\"c\",1}\n",
    "set2={1,4,5}\n",
    "set5=set1.difference(set2)\n",
    "print(set5)"
   ]
  },
  {
   "cell_type": "code",
   "execution_count": 21,
   "id": "b5b48061-17fb-40f5-9b7b-3d778ac96511",
   "metadata": {},
   "outputs": [
    {
     "name": "stdout",
     "output_type": "stream",
     "text": [
      "{'c', 4, 5, 'a', 'b'}\n"
     ]
    }
   ],
   "source": [
    "set1={\"a\",\"b\",\"c\",1}\n",
    "set2={1,4,5}\n",
    "set5=set1.symmetric_difference(set2)\n",
    "print(set5)"
   ]
  },
  {
   "cell_type": "code",
   "execution_count": null,
   "id": "6c4d4038-827e-494b-8822-87276bfcf6ec",
   "metadata": {},
   "outputs": [],
   "source": []
  }
 ],
 "metadata": {
  "kernelspec": {
   "display_name": "Python 3 (ipykernel)",
   "language": "python",
   "name": "python3"
  },
  "language_info": {
   "codemirror_mode": {
    "name": "ipython",
    "version": 3
   },
   "file_extension": ".py",
   "mimetype": "text/x-python",
   "name": "python",
   "nbconvert_exporter": "python",
   "pygments_lexer": "ipython3",
   "version": "3.11.7"
  }
 },
 "nbformat": 4,
 "nbformat_minor": 5
}
