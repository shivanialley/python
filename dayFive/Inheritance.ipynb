{
 "cells": [
  {
   "cell_type": "code",
   "execution_count": 4,
   "id": "80c864bf-261a-42c4-a50f-bff797452e33",
   "metadata": {},
   "outputs": [
    {
     "name": "stdout",
     "output_type": "stream",
     "text": [
      "Shivani Garg\n",
      "Anjana Garg\n"
     ]
    }
   ],
   "source": [
    "class Person:\n",
    "    def __init__(self,fname,lname):\n",
    "        self.firstname = fname\n",
    "        self.lastname = lname\n",
    "        \n",
    "    def printname(self):\n",
    "        print(self.firstname,self.lastname)\n",
    "\n",
    "class student(Person):\n",
    "    pass\n",
    "\n",
    "x= student(\"Shivani\",\"Garg\")\n",
    "x.printname()\n",
    "y= Person(\"Anjana\",\"Garg\")\n",
    "y.printname()"
   ]
  },
  {
   "cell_type": "code",
   "execution_count": null,
   "id": "cebccdcd-a21b-4b02-9216-dd33ddccf530",
   "metadata": {},
   "outputs": [],
   "source": []
  }
 ],
 "metadata": {
  "kernelspec": {
   "display_name": "Python 3 (ipykernel)",
   "language": "python",
   "name": "python3"
  },
  "language_info": {
   "codemirror_mode": {
    "name": "ipython",
    "version": 3
   },
   "file_extension": ".py",
   "mimetype": "text/x-python",
   "name": "python",
   "nbconvert_exporter": "python",
   "pygments_lexer": "ipython3",
   "version": "3.9.13"
  }
 },
 "nbformat": 4,
 "nbformat_minor": 5
}
