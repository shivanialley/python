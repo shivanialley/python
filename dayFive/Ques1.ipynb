{
 "cells": [
  {
   "cell_type": "code",
   "execution_count": 5,
   "id": "520a245a-0c26-47b3-a9cb-97a71b8ca4db",
   "metadata": {},
   "outputs": [
    {
     "name": "stdout",
     "output_type": "stream",
     "text": [
      "Inventory:  [[1001 1002 1003 1004]\n",
      " [  10   20   30   40]]\n"
     ]
    }
   ],
   "source": [
    "\"\"\"Ques1 Consider warehouse inventory system. [2D Array]\n",
    "    1. Create an array consisting of product code & corresponding quantity\"\"\"\n",
    "import numpy as np\n",
    "\n",
    "inventory=np.array([[1001,1002,1003,1004],[10,20,30,40]])\n",
    "\n",
    "print(\"Inventory: \",inventory)\n"
   ]
  },
  {
   "cell_type": "code",
   "execution_count": 8,
   "id": "7acc0160-1cf6-49f6-8cb6-f8ca9366d76b",
   "metadata": {},
   "outputs": [
    {
     "name": "stdout",
     "output_type": "stream",
     "text": [
      "Inventory:  [[1001 1002 1003 1004]\n",
      " [  10   20   30   40]] \n",
      "\n",
      "Dimension of inventory 2\n"
     ]
    }
   ],
   "source": [
    "#2. Determine the dimension of the inventory array\n",
    "import numpy as np\n",
    "\n",
    "inventory=np.array([[1001,1002,1003,1004],[10,20,30,40]])\n",
    "\n",
    "print(\"Inventory: \",inventory,\"\\n\")\n",
    "print(\"Dimension of inventory\",inventory.ndim)"
   ]
  },
  {
   "cell_type": "code",
   "execution_count": 10,
   "id": "fb763423-8638-4043-838b-ef1c96106186",
   "metadata": {},
   "outputs": [
    {
     "name": "stdout",
     "output_type": "stream",
     "text": [
      "Inventory:  [[1001 1002 1003 1004]\n",
      " [  10   20   30   40]] \n",
      "\n",
      "Dimension of inventory 2 \n",
      "\n",
      "product code with quantity:  [[1001   10]\n",
      " [1002   20]\n",
      " [1003   30]\n",
      " [1004   40]]\n"
     ]
    }
   ],
   "source": [
    "#3. Given a product code search through the array to find quantity of array index column stack\n",
    "import numpy as np\n",
    "\n",
    "inventory=np.array([[1001,1002,1003,1004],[10,20,30,40]])\n",
    "\n",
    "print(\"Inventory: \",inventory,\"\\n\")\n",
    "print(\"Dimension of inventory\",inventory.ndim,\"\\n\")\n",
    "print(\"product code with quantity: \",np.column_stack(inventory))"
   ]
  },
  {
   "cell_type": "code",
   "execution_count": 15,
   "id": "f819226d-ac2e-4ed2-9f96-63925e473326",
   "metadata": {},
   "outputs": [
    {
     "name": "stdout",
     "output_type": "stream",
     "text": [
      "Inventory:  [[1001 1002 1003 1004]\n",
      " [  10   20   30   40]] \n",
      "\n",
      "Dimension of inventory 2 \n",
      "\n",
      "product code with quantity:  [[1001   10]\n",
      " [1002   20]\n",
      " [1003   30]\n",
      " [1004   40]] \n",
      "\n",
      "Spliting:  [array([[1001, 1002, 1003, 1004]]), array([[10, 20, 30, 40]])]\n"
     ]
    }
   ],
   "source": [
    "#4. Split the array to 2 arrays \n",
    "import numpy as np\n",
    "\n",
    "inventory=np.array([[1001,1002,1003,1004],[10,20,30,40]])\n",
    "\n",
    "print(\"Inventory: \",inventory,\"\\n\")\n",
    "print(\"Dimension of inventory\",inventory.ndim,\"\\n\")\n",
    "print(\"product code with quantity: \",np.column_stack(inventory),\"\\n\")\n",
    "print(\"Spliting: \",np.array_split(inventory,2))"
   ]
  },
  {
   "cell_type": "code",
   "execution_count": 18,
   "id": "dd3258b8-83b9-4568-a973-276485808b42",
   "metadata": {},
   "outputs": [
    {
     "name": "stdout",
     "output_type": "stream",
     "text": [
      "Inventory:  [[1001 1002 1003 1004]\n",
      " [  10   20   30   40]] \n",
      "\n",
      "Dimension of inventory 2 \n",
      "\n",
      "product code with quantity:  [[1001   10]\n",
      " [1002   20]\n",
      " [1003   30]\n",
      " [1004   40]] \n",
      "\n",
      "Spliting:  [array([[1001, 1002, 1003, 1004]]), array([[10, 20, 30, 40]])] \n",
      "\n",
      "Quantity:  [[10 20 30 40]]\n"
     ]
    }
   ],
   "source": [
    "# 5. Reterive the quantity using array index \n",
    "import numpy as np\n",
    "\n",
    "inventory=np.array([[1001,1002,1003,1004],[10,20,30,40]])\n",
    "\n",
    "print(\"Inventory: \",inventory,\"\\n\")\n",
    "print(\"Dimension of inventory\",inventory.ndim,\"\\n\")\n",
    "print(\"product code with quantity: \",np.column_stack(inventory),\"\\n\")\n",
    "print(\"Spliting: \",np.array_split(inventory,2),\"\\n\")\n",
    "print(\"Quantity: \",inventory[1:2])"
   ]
  },
  {
   "cell_type": "code",
   "execution_count": 20,
   "id": "cfba5469-3a25-4ac6-a074-ff27c9ed328a",
   "metadata": {},
   "outputs": [
    {
     "name": "stdout",
     "output_type": "stream",
     "text": [
      "Inventory:  [[1001 1002 1003 1004]\n",
      " [  10   20   30   40]] \n",
      "\n",
      "Dimension of inventory 2 \n",
      "\n",
      "product code with quantity:  [[1001   10]\n",
      " [1002   20]\n",
      " [1003   30]\n",
      " [1004   40]] \n",
      "\n",
      "Spliting:  [array([[1001, 1002, 1003, 1004]]), array([[10, 20, 30, 40]])] \n",
      "\n",
      "Quantity:  [[10 20 30 40]] \n",
      "\n",
      "Shape of array:  (2, 4)\n"
     ]
    }
   ],
   "source": [
    "#6. Check the shape of the inventory array\n",
    "import numpy as np\n",
    "\n",
    "inventory=np.array([[1001,1002,1003,1004],[10,20,30,40]])\n",
    "\n",
    "print(\"Inventory: \",inventory,\"\\n\")\n",
    "print(\"Dimension of inventory\",inventory.ndim,\"\\n\")\n",
    "print(\"product code with quantity: \",np.column_stack(inventory),\"\\n\")\n",
    "print(\"Spliting: \",np.array_split(inventory,2),\"\\n\")\n",
    "print(\"Quantity: \",inventory[1:2],\"\\n\")\n",
    "print(\"Shape of array: \",inventory.shape)"
   ]
  },
  {
   "cell_type": "code",
   "execution_count": 26,
   "id": "ccd78971-31a1-48fb-9c12-073bae6d037a",
   "metadata": {},
   "outputs": [
    {
     "name": "stdout",
     "output_type": "stream",
     "text": [
      "Inventory:  [[1001 1002 1003 1004]\n",
      " [  10   20   30   40]] \n",
      "\n",
      "Dimension of inventory 2 \n",
      "\n",
      "product code with quantity:  [[1001   10]\n",
      " [1002   20]\n",
      " [1003   30]\n",
      " [1004   40]] \n",
      "\n",
      "Spliting:  [array([[1001, 1002, 1003, 1004]]), array([[10, 20, 30, 40]])] \n",
      "\n",
      "Quantity:  [[10 20 30 40]] \n",
      "\n",
      "Shape of array:  (2, 4) \n",
      "\n",
      "Reshape of array:  [[1001 1002]\n",
      " [1003 1004]\n",
      " [  10   20]\n",
      " [  30   40]]\n"
     ]
    }
   ],
   "source": [
    "#7. reshape the inventory onto 2D array\n",
    "import numpy as np\n",
    "\n",
    "inventory=np.array([[1001,1002,1003,1004],[10,20,30,40]])\n",
    "\n",
    "print(\"Inventory: \",inventory,\"\\n\")\n",
    "print(\"Dimension of inventory\",inventory.ndim,\"\\n\")\n",
    "print(\"product code with quantity: \",np.column_stack(inventory),\"\\n\")\n",
    "print(\"Spliting: \",np.array_split(inventory,2),\"\\n\")\n",
    "print(\"Quantity: \",inventory[1:2],\"\\n\")\n",
    "print(\"Shape of array: \",inventory.shape,\"\\n\")\n",
    "newinventory=inventory.reshape(4,2)\n",
    "print(\"Reshape of array: \",newinventory)"
   ]
  },
  {
   "cell_type": "code",
   "execution_count": 1,
   "id": "83744c99-b57f-45e2-bc23-0d5a6d428879",
   "metadata": {},
   "outputs": [
    {
     "name": "stdout",
     "output_type": "stream",
     "text": [
      "Inventory:  [[1001 1002 1003 1004]\n",
      " [  10   20   30   40]] \n",
      "\n",
      "Dimension of inventory 2 \n",
      "\n",
      "product code with quantity:  [[1001   10]\n",
      " [1002   20]\n",
      " [1003   30]\n",
      " [1004   40]] \n",
      "\n",
      "Spliting:  [array([[1001, 1002, 1003, 1004]]), array([[10, 20, 30, 40]])] \n",
      "\n",
      "Quantity:  [[10 20 30 40]] \n",
      "\n",
      "Shape of array:  (2, 4) \n",
      "\n",
      "Reshape of array:  [[1001 1002]\n",
      " [1003 1004]\n",
      " [  10   20]\n",
      " [  30   40]] \n",
      "\n",
      "Copy of inventory:  [[1001 1002 1003 1004]\n",
      " [  10   20   30   40]]\n"
     ]
    }
   ],
   "source": [
    "#8. Create a copy of the inventory array\n",
    "import numpy as np\n",
    "\n",
    "inventory=np.array([[1001,1002,1003,1004],[10,20,30,40]])\n",
    "\n",
    "print(\"Inventory: \",inventory,\"\\n\")\n",
    "print(\"Dimension of inventory\",inventory.ndim,\"\\n\")\n",
    "print(\"product code with quantity: \",np.column_stack(inventory),\"\\n\")\n",
    "print(\"Spliting: \",np.array_split(inventory,2),\"\\n\")\n",
    "print(\"Quantity: \",inventory[1:2],\"\\n\")\n",
    "print(\"Shape of array: \",inventory.shape,\"\\n\")\n",
    "newinventory=inventory.reshape(4,2)\n",
    "print(\"Reshape of array: \",newinventory,\"\\n\")\n",
    "updateinventory=inventory.copy()\n",
    "print(\"Copy of inventory: \",updateinventory)"
   ]
  },
  {
   "cell_type": "code",
   "execution_count": 3,
   "id": "53e7d12b-e29a-4d4f-8ed7-31aabd649741",
   "metadata": {},
   "outputs": [
    {
     "name": "stdout",
     "output_type": "stream",
     "text": [
      "Inventory:  [[1001 1002 1003 1004]\n",
      " [  10   20   30   40]] \n",
      "\n",
      "Dimension of inventory 2 \n",
      "\n",
      "product code with quantity:  [[1001   10]\n",
      " [1002   20]\n",
      " [1003   30]\n",
      " [1004   40]] \n",
      "\n",
      "Spliting:  [array([[1001, 1002, 1003, 1004]]), array([[10, 20, 30, 40]])] \n",
      "\n",
      "Quantity:  [[10 20 30 40]] \n",
      "\n",
      "Shape of array:  (2, 4) \n",
      "\n",
      "Reshape of array:  [[1001 1002]\n",
      " [1003 1004]\n",
      " [  10   20]\n",
      " [  30   40]] \n",
      "\n",
      "Copy of inventory:  [[1001 1002 1003 1004]\n",
      " [  10   20   30   40]] \n",
      "\n",
      "Updated Inventory:  [[1001 1002 1003 1004]\n",
      " [  10   20   30   40]\n",
      " [1005 1006 1007 1008]\n",
      " [  50   60   70   80]]\n"
     ]
    }
   ],
   "source": [
    "#9. Add new items to the inventory\n",
    "import numpy as np\n",
    "\n",
    "inventory=np.array([[1001,1002,1003,1004],[10,20,30,40]])\n",
    "\n",
    "print(\"Inventory: \",inventory,\"\\n\")\n",
    "print(\"Dimension of inventory\",inventory.ndim,\"\\n\")\n",
    "print(\"product code with quantity: \",np.column_stack(inventory),\"\\n\")\n",
    "print(\"Spliting: \",np.array_split(inventory,2),\"\\n\")\n",
    "print(\"Quantity: \",inventory[1:2],\"\\n\")\n",
    "print(\"Shape of array: \",inventory.shape,\"\\n\")\n",
    "newinventory=inventory.reshape(4,2)\n",
    "print(\"Reshape of array: \",newinventory,\"\\n\")\n",
    "updateinventory=inventory.copy()\n",
    "print(\"Copy of inventory: \",updateinventory,\"\\n\")\n",
    "newitem=np.array([[1005,1006,1007,1008],[50,60,70,80]])\n",
    "modifyinventory=np.concatenate((inventory,newitem))\n",
    "print(\"Updated Inventory: \",modifyinventory)"
   ]
  },
  {
   "cell_type": "code",
   "execution_count": null,
   "id": "df6fdc5e-06dd-4987-b46d-daf0144b44d1",
   "metadata": {},
   "outputs": [],
   "source": []
  }
 ],
 "metadata": {
  "kernelspec": {
   "display_name": "Python 3 (ipykernel)",
   "language": "python",
   "name": "python3"
  },
  "language_info": {
   "codemirror_mode": {
    "name": "ipython",
    "version": 3
   },
   "file_extension": ".py",
   "mimetype": "text/x-python",
   "name": "python",
   "nbconvert_exporter": "python",
   "pygments_lexer": "ipython3",
   "version": "3.11.7"
  }
 },
 "nbformat": 4,
 "nbformat_minor": 5
}
