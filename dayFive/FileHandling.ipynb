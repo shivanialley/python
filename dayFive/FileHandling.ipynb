{
 "cells": [
  {
   "cell_type": "code",
   "execution_count": 10,
   "id": "8e21c2b1-1274-449c-ae4d-b60d32327708",
   "metadata": {},
   "outputs": [
    {
     "name": "stdout",
     "output_type": "stream",
     "text": [
      "Hi, Welcome!\n",
      "Python programming course\n",
      "\n",
      "\n",
      "\n"
     ]
    }
   ],
   "source": [
    "f=open(\"MyFile.txt\")\n",
    "print(f.read())\n",
    "print(f.read(2))\n",
    "print(f.readline())\n",
    "print(f.readline())"
   ]
  },
  {
   "cell_type": "code",
   "execution_count": 8,
   "id": "e1159adf-199b-4b79-a66c-2f8eebb15c7a",
   "metadata": {},
   "outputs": [
    {
     "name": "stdout",
     "output_type": "stream",
     "text": [
      "Hi, Welcome!\n",
      "\n",
      "Python programming course\n"
     ]
    }
   ],
   "source": [
    "f=open(\"MyFile.txt\")\n",
    "for x in f:\n",
    "    print(x)"
   ]
  },
  {
   "cell_type": "code",
   "execution_count": 18,
   "id": "5a48295f-7698-4363-8a97-bf34a1e73088",
   "metadata": {},
   "outputs": [
    {
     "name": "stdout",
     "output_type": "stream",
     "text": [
      "HelloHello, Hi\n"
     ]
    }
   ],
   "source": [
    "f=open(\"New_File.txt\",\"a\")\n",
    "f1=open(\"File1.txt\")\n",
    "for x in f1:\n",
    "    f.write(x)\n",
    "f=open(\"New_File.txt\",\"r\")\n",
    "print(f.read())"
   ]
  },
  {
   "cell_type": "code",
   "execution_count": 14,
   "id": "242487a5-c22b-4280-886f-6777337b6293",
   "metadata": {},
   "outputs": [],
   "source": [
    "import os\n",
    "os.remove(\"MyFile.txt\")"
   ]
  },
  {
   "cell_type": "code",
   "execution_count": null,
   "id": "c463420d-cbbd-42f1-8b78-2b3fc744512e",
   "metadata": {},
   "outputs": [],
   "source": []
  }
 ],
 "metadata": {
  "kernelspec": {
   "display_name": "Python 3 (ipykernel)",
   "language": "python",
   "name": "python3"
  },
  "language_info": {
   "codemirror_mode": {
    "name": "ipython",
    "version": 3
   },
   "file_extension": ".py",
   "mimetype": "text/x-python",
   "name": "python",
   "nbconvert_exporter": "python",
   "pygments_lexer": "ipython3",
   "version": "3.11.7"
  }
 },
 "nbformat": 4,
 "nbformat_minor": 5
}
