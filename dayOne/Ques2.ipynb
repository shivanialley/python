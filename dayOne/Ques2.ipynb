{
 "cells": [
  {
   "cell_type": "code",
   "execution_count": 2,
   "id": "f2b9b6a6-ba36-46fa-a607-e3b97a59b0bc",
   "metadata": {},
   "outputs": [
    {
     "name": "stdin",
     "output_type": "stream",
     "text": [
      "Enter student id 1001\n",
      "Enter student name Shivani Garg\n",
      "Enter branch Electronics & Communication\n",
      "Enter the university A.K.T.U\n"
     ]
    },
    {
     "name": "stdout",
     "output_type": "stream",
     "text": [
      "Student id 1001\n",
      "Student name Shivani Garg\n",
      "Student branch Electronics & Communication\n",
      "Student university A.K.T.U\n"
     ]
    }
   ],
   "source": [
    "\"\"\"Write a program to take input from user with student number, name, branch & university\n",
    "print the details print the details\"\"\" \n",
    "id=input(\"Enter student id\")\n",
    "name=input(\"Enter student name\")\n",
    "branch=input(\"Enter branch\")\n",
    "uni=input(\"Enter the university\")\n",
    "print(\"Student id \" +id)\n",
    "print(\"Student name \" +name)\n",
    "print(\"Student branch \" +branch)\n",
    "print(\"Student university \" +uni)"
   ]
  },
  {
   "cell_type": "code",
   "execution_count": null,
   "id": "c36562eb-a6d1-4cb9-81eb-b1b0b27d2690",
   "metadata": {},
   "outputs": [],
   "source": []
  }
 ],
 "metadata": {
  "kernelspec": {
   "display_name": "Python 3 (ipykernel)",
   "language": "python",
   "name": "python3"
  },
  "language_info": {
   "codemirror_mode": {
    "name": "ipython",
    "version": 3
   },
   "file_extension": ".py",
   "mimetype": "text/x-python",
   "name": "python",
   "nbconvert_exporter": "python",
   "pygments_lexer": "ipython3",
   "version": "3.11.7"
  }
 },
 "nbformat": 4,
 "nbformat_minor": 5
}
