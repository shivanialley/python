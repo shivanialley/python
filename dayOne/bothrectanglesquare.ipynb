{
 "cells": [
  {
   "cell_type": "code",
   "execution_count": 2,
   "id": "d3f2af24-80af-412b-a419-3b99c3bd94b0",
   "metadata": {},
   "outputs": [
    {
     "name": "stdout",
     "output_type": "stream",
     "text": [
      "Area of square 529\n",
      "Area of rectangle 804\n"
     ]
    }
   ],
   "source": [
    "import square\n",
    "import rectangle\n",
    "\n",
    "square.square_area(23)\n",
    "rectangle.rectangle_area(12,67)"
   ]
  }
 ],
 "metadata": {
  "kernelspec": {
   "display_name": "Python 3 (ipykernel)",
   "language": "python",
   "name": "python3"
  },
  "language_info": {
   "codemirror_mode": {
    "name": "ipython",
    "version": 3
   },
   "file_extension": ".py",
   "mimetype": "text/x-python",
   "name": "python",
   "nbconvert_exporter": "python",
   "pygments_lexer": "ipython3",
   "version": "3.11.7"
  }
 },
 "nbformat": 4,
 "nbformat_minor": 5
}
