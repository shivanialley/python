{
 "cells": [
  {
   "cell_type": "code",
   "execution_count": 1,
   "id": "cd56cd65-06b0-4ff3-b00c-2a57c6185b0d",
   "metadata": {},
   "outputs": [
    {
     "name": "stdout",
     "output_type": "stream",
     "text": [
      "Hi\n"
     ]
    }
   ],
   "source": [
    "import mod1\n",
    "\n",
    "a=mod1.person1[\"Name\"]\n",
    "print(a)"
   ]
  },
  {
   "cell_type": "code",
   "execution_count": 7,
   "id": "38452d04-310c-4647-ae0c-b11108e0d628",
   "metadata": {},
   "outputs": [
    {
     "name": "stdout",
     "output_type": "stream",
     "text": [
      "Windows\n"
     ]
    }
   ],
   "source": [
    "import platform\n",
    "\n",
    "x = platform.system()\n",
    "print(x)"
   ]
  },
  {
   "cell_type": "code",
   "execution_count": 2,
   "id": "e9ea0890-52b3-40c4-a545-2d8b81ab73bb",
   "metadata": {},
   "outputs": [
    {
     "name": "stdout",
     "output_type": "stream",
     "text": [
      "Hello All \n",
      "Welcome to cdac\n",
      "Go to study\n"
     ]
    }
   ],
   "source": [
    "print(\"Hello All \\nWelcome to cdac\\nGo to study\")"
   ]
  },
  {
   "cell_type": "code",
   "execution_count": 11,
   "id": "d5f6cdc9-9f05-44a0-83ba-cdaeb9c5b5ce",
   "metadata": {},
   "outputs": [
    {
     "name": "stdout",
     "output_type": "stream",
     "text": [
      "Hello All\n",
      "      Welcome to cdac\n",
      "      Go to study\n"
     ]
    }
   ],
   "source": [
    "print(\"\"\"Hello All\n",
    "      Welcome to cdac\n",
    "      Go to study\"\"\")"
   ]
  },
  {
   "cell_type": "code",
   "execution_count": 12,
   "id": "c872bcf6-ce47-49b1-aac2-7a7be9600267",
   "metadata": {},
   "outputs": [
    {
     "name": "stdin",
     "output_type": "stream",
     "text": [
      "Enter student id 1323\n",
      "Enter student name shivani\n",
      "Enter branch electronic & Communication\n",
      "Enter the university AKTU\n"
     ]
    },
    {
     "name": "stdout",
     "output_type": "stream",
     "text": [
      "Student id 1323\n",
      "Student name shivani\n",
      "Student branchelectronic & Communication\n",
      "Student university AKTU\n"
     ]
    }
   ],
   "source": [
    "id=input(\"Enter student id\")\n",
    "name=input(\"Enter student name\")\n",
    "branch=input(\"Enter branch\")\n",
    "uni=input(\"Enter the university\")\n",
    "print(\"Student id \" +id)\n",
    "print(\"Student name \" +name)\n",
    "print(\"Student branch\" +branch)\n",
    "print(\"Student university \" +uni)"
   ]
  },
  {
   "cell_type": "code",
   "execution_count": null,
   "id": "bff09ba3-e0e1-4e30-ae42-794c228e6294",
   "metadata": {},
   "outputs": [],
   "source": []
  }
 ],
 "metadata": {
  "kernelspec": {
   "display_name": "Python 3 (ipykernel)",
   "language": "python",
   "name": "python3"
  },
  "language_info": {
   "codemirror_mode": {
    "name": "ipython",
    "version": 3
   },
   "file_extension": ".py",
   "mimetype": "text/x-python",
   "name": "python",
   "nbconvert_exporter": "python",
   "pygments_lexer": "ipython3",
   "version": "3.11.7"
  }
 },
 "nbformat": 4,
 "nbformat_minor": 5
}
