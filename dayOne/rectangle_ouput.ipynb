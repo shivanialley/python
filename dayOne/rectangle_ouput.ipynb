{
 "cells": [
  {
   "cell_type": "code",
   "execution_count": 2,
   "id": "a3d238e4-aee7-409a-8287-233b9db6a1fb",
   "metadata": {},
   "outputs": [
    {
     "name": "stdin",
     "output_type": "stream",
     "text": [
      "Enter the length 23\n",
      "Enter the breadth 67\n"
     ]
    },
    {
     "name": "stdout",
     "output_type": "stream",
     "text": [
      "Area of rectangle 1541\n"
     ]
    }
   ],
   "source": [
    "import rectangle\n",
    "\n",
    "length=int(input(\"Enter the length\"))\n",
    "breadth=int(input(\"Enter the breadth\"))\n",
    "rectangle.rectangle_area(length,breadth)"
   ]
  }
 ],
 "metadata": {
  "kernelspec": {
   "display_name": "Python 3 (ipykernel)",
   "language": "python",
   "name": "python3"
  },
  "language_info": {
   "codemirror_mode": {
    "name": "ipython",
    "version": 3
   },
   "file_extension": ".py",
   "mimetype": "text/x-python",
   "name": "python",
   "nbconvert_exporter": "python",
   "pygments_lexer": "ipython3",
   "version": "3.11.7"
  }
 },
 "nbformat": 4,
 "nbformat_minor": 5
}
