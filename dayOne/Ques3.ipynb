{
 "cells": [
  {
   "cell_type": "code",
   "execution_count": 1,
   "id": "2e4265f1-a87e-4216-8c48-04c83e08a9ae",
   "metadata": {},
   "outputs": [
    {
     "name": "stdout",
     "output_type": "stream",
     "text": [
      "Area of square 100\n"
     ]
    }
   ],
   "source": [
    "#Create a module consisting of 2 function area of rectangle & area of square from the main program \n",
    "#do the following\n",
    "#1st program calclate the area of square only\n",
    "import square_area\n",
    "square_area.square(10)"
   ]
  },
  {
   "cell_type": "code",
   "execution_count": 2,
   "id": "fae0455c-2594-4135-ac2c-f5c4fb94a439",
   "metadata": {},
   "outputs": [
    {
     "name": "stdout",
     "output_type": "stream",
     "text": [
      "Area of rectangle 1800\n"
     ]
    }
   ],
   "source": [
    "#2nd program calculate area of rectangle only\n",
    "import rectangle\n",
    "rectangle.rectangle_area(30,60)"
   ]
  },
  {
   "cell_type": "code",
   "execution_count": 3,
   "id": "92620162-2448-4d95-9240-c3d220d39ea6",
   "metadata": {},
   "outputs": [
    {
     "name": "stdout",
     "output_type": "stream",
     "text": [
      "Area of square 100\n",
      "Area of rectangle 1800\n"
     ]
    }
   ],
   "source": [
    "#3rd program calculate area of both\n",
    "import rectangle\n",
    "import square_area\n",
    "\n",
    "square_area.square(10)\n",
    "rectangle.rectangle_area(30,60)"
   ]
  },
  {
   "cell_type": "code",
   "execution_count": 5,
   "id": "20e320e0-d380-4e98-aa3e-4b4869477cea",
   "metadata": {},
   "outputs": [
    {
     "name": "stdin",
     "output_type": "stream",
     "text": [
      "Enter the number 4\n"
     ]
    },
    {
     "name": "stdout",
     "output_type": "stream",
     "text": [
      "Area of square 16\n"
     ]
    }
   ],
   "source": [
    "#1st program calclate the area of square only\n",
    "import square_area\n",
    "num1=int(input(\"Enter the number\"))#asking from user\n",
    "square_area.square(num1)"
   ]
  },
  {
   "cell_type": "code",
   "execution_count": 6,
   "id": "e24a63e7-5d29-4902-8182-123d76cf791f",
   "metadata": {},
   "outputs": [
    {
     "name": "stdin",
     "output_type": "stream",
     "text": [
      "Enter the length 4\n",
      "Enter the breadth 6\n"
     ]
    },
    {
     "name": "stdout",
     "output_type": "stream",
     "text": [
      "Area of rectangle 24\n"
     ]
    }
   ],
   "source": [
    "#2nd program calculate area of rectangle only\n",
    "import rectangle\n",
    "\n",
    "length=int(input(\"Enter the length\"))\n",
    "breadth=int(input(\"Enter the breadth\"))\n",
    "rectangle.rectangle_area(length,breadth)"
   ]
  },
  {
   "cell_type": "code",
   "execution_count": 7,
   "id": "dde3c35a-ba3f-49bc-8e29-a1661dac1212",
   "metadata": {},
   "outputs": [
    {
     "name": "stdin",
     "output_type": "stream",
     "text": [
      "Enter the number 4\n",
      "Enter the length 6\n",
      "Enter the breadth 7\n"
     ]
    },
    {
     "name": "stdout",
     "output_type": "stream",
     "text": [
      "Area of square 16\n",
      "Area of rectangle 42\n"
     ]
    }
   ],
   "source": [
    "#3rd program calculate area of both\n",
    "import square_area\n",
    "import rectangle\n",
    "\n",
    "num1=int(input(\"Enter the number\"))\n",
    "length=int(input(\"Enter the length\"))\n",
    "breadth=int(input(\"Enter the breadth\"))\n",
    "square_area.square(num1)\n",
    "rectangle.rectangle_area(length,breadth)"
   ]
  },
  {
   "cell_type": "code",
   "execution_count": null,
   "id": "e288123d-6128-4de1-9ec6-9c579ddc2006",
   "metadata": {},
   "outputs": [],
   "source": []
  }
 ],
 "metadata": {
  "kernelspec": {
   "display_name": "Python 3 (ipykernel)",
   "language": "python",
   "name": "python3"
  },
  "language_info": {
   "codemirror_mode": {
    "name": "ipython",
    "version": 3
   },
   "file_extension": ".py",
   "mimetype": "text/x-python",
   "name": "python",
   "nbconvert_exporter": "python",
   "pygments_lexer": "ipython3",
   "version": "3.11.7"
  }
 },
 "nbformat": 4,
 "nbformat_minor": 5
}
