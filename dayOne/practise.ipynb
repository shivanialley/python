{
 "cells": [
  {
   "cell_type": "code",
   "execution_count": 1,
   "id": "2e28bf3e-f248-42e7-8c07-3f7be07af75b",
   "metadata": {},
   "outputs": [
    {
     "name": "stdout",
     "output_type": "stream",
     "text": [
      "Hello World\n"
     ]
    }
   ],
   "source": [
    "print(\"Hello World\")"
   ]
  },
  {
   "cell_type": "code",
   "execution_count": 6,
   "id": "36c245b4-b6fa-473a-87be-5da71631b8c0",
   "metadata": {},
   "outputs": [
    {
     "name": "stdout",
     "output_type": "stream",
     "text": [
      "4 is the greater\n"
     ]
    }
   ],
   "source": [
    "if (4>2):\n",
    "    print(\"4 is the greater\")"
   ]
  },
  {
   "cell_type": "code",
   "execution_count": 8,
   "id": "9b70cfb9-d438-4038-acf0-54f55c2523ea",
   "metadata": {},
   "outputs": [
    {
     "name": "stdout",
     "output_type": "stream",
     "text": [
      "20\n",
      "hello\n"
     ]
    }
   ],
   "source": [
    "x=20\n",
    "y='hello'\n",
    "print(x)\n",
    "print(y)"
   ]
  },
  {
   "cell_type": "code",
   "execution_count": 11,
   "id": "d5d60eb0-2037-45ec-b525-d1bc15a71898",
   "metadata": {},
   "outputs": [
    {
     "name": "stdout",
     "output_type": "stream",
     "text": [
      "Shivani\n"
     ]
    }
   ],
   "source": [
    "\"\"\"Learn\n",
    "Python\n",
    "Shivani\"\"\"\n",
    "x=20\n",
    "#print(x)\n",
    "x=\"Shivani\"\n",
    "print(x)"
   ]
  },
  {
   "cell_type": "code",
   "execution_count": 14,
   "id": "bbeab599-b961-41a1-9420-6059cf6e6d82",
   "metadata": {},
   "outputs": [
    {
     "name": "stdout",
     "output_type": "stream",
     "text": [
      "30\n"
     ]
    }
   ],
   "source": [
    "x=10\n",
    "y=20\n",
    "#y=\"Hello\"\n",
    "print(x+y)"
   ]
  },
  {
   "cell_type": "code",
   "execution_count": 15,
   "id": "63626e80-a0bb-4d2c-9aed-beb20a2e66f3",
   "metadata": {},
   "outputs": [
    {
     "name": "stdout",
     "output_type": "stream",
     "text": [
      "3\n",
      "3\n",
      "3.0\n",
      "<class 'str'>\n",
      "<class 'int'>\n"
     ]
    }
   ],
   "source": [
    "x=str(3)\n",
    "y=int(3)\n",
    "z=float(3)\n",
    "print(x)\n",
    "print(y)\n",
    "print(z)\n",
    "print(type(x))\n",
    "print(type(y))"
   ]
  },
  {
   "cell_type": "code",
   "execution_count": 23,
   "id": "d17a276f-62f5-4323-819d-50765eb64d0c",
   "metadata": {},
   "outputs": [
    {
     "name": "stdout",
     "output_type": "stream",
     "text": [
      "Hi Hello Bye\n",
      "10 23213.32 Shivi\n",
      "('Hello', 'SHivani', 'Bhavi') ('Hello', 'SHivani', 'Bhavi') ('Hello', 'SHivani', 'Bhavi')\n"
     ]
    }
   ],
   "source": [
    "x,y,z=\"Hi\",\"Hello\",\"Bye\"#Many values to many variables\n",
    "a,b,c=10,23213.32,\"Shivi\"\n",
    "g=h=i=\"Hello\",\"SHivani\",\"Bhavi\"#one value to many variables\n",
    "print(x,y,z)\n",
    "print(a,b,c)\n",
    "print(g,h,i)"
   ]
  },
  {
   "cell_type": "code",
   "execution_count": 25,
   "id": "1f296249-3484-40a4-8dd2-a2dc91912e53",
   "metadata": {},
   "outputs": [
    {
     "name": "stdout",
     "output_type": "stream",
     "text": [
      "10\n"
     ]
    }
   ],
   "source": [
    "_z=10\n",
    "print(_z)"
   ]
  },
  {
   "cell_type": "code",
   "execution_count": 27,
   "id": "fb968474-d391-4f77-b98a-5625c457ed37",
   "metadata": {},
   "outputs": [
    {
     "name": "stdout",
     "output_type": "stream",
     "text": [
      "Urvish\n",
      "Anjana\n",
      "Neeraj\n"
     ]
    }
   ],
   "source": [
    "name=[\"Urvish\",\"Anjana\",\"Neeraj\"]\n",
    "x,y,z=name\n",
    "print(x)\n",
    "print(y)\n",
    "print(z)"
   ]
  },
  {
   "cell_type": "code",
   "execution_count": 35,
   "id": "4f5c7623-9663-4e41-bf64-e74ad9347097",
   "metadata": {},
   "outputs": [
    {
     "name": "stdout",
     "output_type": "stream",
     "text": [
      "12\n",
      "31\n",
      "41\n",
      "12\n",
      "56\n",
      "35\n"
     ]
    }
   ],
   "source": [
    "variable=[12,31,41,12,35,56]\n",
    "x,y,z,r,e,u=variable\n",
    "print(x)\n",
    "print(y)\n",
    "print(z)\n",
    "print(r)\n",
    "print(u)\n",
    "print(e)"
   ]
  },
  {
   "cell_type": "code",
   "execution_count": 42,
   "id": "b69eeb17-b37d-4548-837f-b20e7561fb78",
   "metadata": {},
   "outputs": [
    {
     "name": "stdout",
     "output_type": "stream",
     "text": [
      "todayismonday\n",
      "today is monday\n"
     ]
    }
   ],
   "source": [
    "x=\"today\"\n",
    "y=\"is\"\n",
    "#y=10\n",
    "z=\"monday\"\n",
    "print(x+y+z)\n",
    "print(x,y,z)"
   ]
  },
  {
   "cell_type": "code",
   "execution_count": 59,
   "id": "6c9910f7-089a-4154-9303-b3c3eaceff2d",
   "metadata": {},
   "outputs": [],
   "source": [
    "x=\"monday\"#declaration of variable\n",
    "def myfunc(): #function declaration\n",
    "    print(\"today is\",x)\n",
    "    print(\"today is\"+x)\n",
    "    print(\"today is \"+x)\n",
    "    myfunc() #inside a function\n",
    "#myfunc() #calling a function "
   ]
  },
  {
   "cell_type": "code",
   "execution_count": 57,
   "id": "4065e269-54a6-46b5-a741-ce32b9581d4c",
   "metadata": {},
   "outputs": [
    {
     "name": "stdout",
     "output_type": "stream",
     "text": [
      "2j\n",
      "<class 'complex'>\n"
     ]
    }
   ],
   "source": [
    "x=2j#complex datatype\n",
    "print(x)\n",
    "print(type(x))"
   ]
  },
  {
   "cell_type": "code",
   "execution_count": 66,
   "id": "02daea8e-c4d5-4f44-ad5c-41a36cecb4f2",
   "metadata": {},
   "outputs": [
    {
     "name": "stdout",
     "output_type": "stream",
     "text": [
      "200\n",
      "50.0\n",
      "100\n"
     ]
    }
   ],
   "source": [
    "x=2\n",
    "y=100\n",
    "mult=x*y\n",
    "print(mult)\n",
    "print(y/x)\n",
    "if(y>x):\n",
    "    print(y)"
   ]
  },
  {
   "cell_type": "code",
   "execution_count": 20,
   "id": "6d5c0d1e-0296-4f82-88ba-1f8e2ff4b96b",
   "metadata": {},
   "outputs": [
    {
     "ename": "TypeError",
     "evalue": "square() takes 0 positional arguments but 1 was given",
     "output_type": "error",
     "traceback": [
      "\u001b[1;31m---------------------------------------------------------------------------\u001b[0m",
      "\u001b[1;31mTypeError\u001b[0m                                 Traceback (most recent call last)",
      "Cell \u001b[1;32mIn[20], line 2\u001b[0m\n\u001b[0;32m      1\u001b[0m \u001b[38;5;28;01mimport\u001b[39;00m \u001b[38;5;21;01msquare_area\u001b[39;00m\n\u001b[1;32m----> 2\u001b[0m square_area\u001b[38;5;241m.\u001b[39msquare(\u001b[38;5;241m10\u001b[39m)\n",
      "\u001b[1;31mTypeError\u001b[0m: square() takes 0 positional arguments but 1 was given"
     ]
    }
   ],
   "source": [
    "import square_area\n",
    "square_area.square(10)"
   ]
  },
  {
   "cell_type": "code",
   "execution_count": 1,
   "id": "b22abb68-d95d-487f-80b9-3c45de3dff0c",
   "metadata": {},
   "outputs": [
    {
     "name": "stdin",
     "output_type": "stream",
     "text": [
      " 10\n"
     ]
    },
    {
     "name": "stdout",
     "output_type": "stream",
     "text": [
      "100\n"
     ]
    }
   ],
   "source": [
    "def func_sq():\n",
    "    num=input()\n",
    "    a=int(num)\n",
    "    area=a*a\n",
    "    print(area)\n",
    "\n",
    "func_sq()"
   ]
  },
  {
   "cell_type": "code",
   "execution_count": 2,
   "id": "6a340bd7-6d7f-4b4f-ba23-811b313887c8",
   "metadata": {},
   "outputs": [
    {
     "name": "stdout",
     "output_type": "stream",
     "text": [
      "Area of square 100\n"
     ]
    }
   ],
   "source": [
    "import square_area\n",
    "square_area.square(10)"
   ]
  },
  {
   "cell_type": "code",
   "execution_count": 3,
   "id": "bbaa8189-452f-428b-bf74-f49629bcce86",
   "metadata": {},
   "outputs": [
    {
     "name": "stdout",
     "output_type": "stream",
     "text": [
      "1800\n"
     ]
    }
   ],
   "source": [
    "import rectangle\n",
    "rectangle.rectangle_area(30,60)"
   ]
  },
  {
   "cell_type": "code",
   "execution_count": 1,
   "id": "e3876fee-e32f-4528-a5a2-73e2abfc453a",
   "metadata": {},
   "outputs": [
    {
     "name": "stdout",
     "output_type": "stream",
     "text": [
      "Area of square 100\n",
      "Area of rectangle 1800\n"
     ]
    }
   ],
   "source": [
    "import rectangle\n",
    "import square_area\n",
    "\n",
    "square_area.square(10)\n",
    "rectangle.rectangle_area(30,60)"
   ]
  },
  {
   "cell_type": "code",
   "execution_count": null,
   "id": "b5b34c81-5234-4121-a4c3-303977b08bf7",
   "metadata": {},
   "outputs": [],
   "source": []
  }
 ],
 "metadata": {
  "kernelspec": {
   "display_name": "Python 3 (ipykernel)",
   "language": "python",
   "name": "python3"
  },
  "language_info": {
   "codemirror_mode": {
    "name": "ipython",
    "version": 3
   },
   "file_extension": ".py",
   "mimetype": "text/x-python",
   "name": "python",
   "nbconvert_exporter": "python",
   "pygments_lexer": "ipython3",
   "version": "3.11.7"
  }
 },
 "nbformat": 4,
 "nbformat_minor": 5
}
