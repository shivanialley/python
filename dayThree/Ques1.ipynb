{
 "cells": [
  {
   "cell_type": "code",
   "execution_count": 2,
   "id": "69836070-6e0c-4121-bd87-4c224b7af36c",
   "metadata": {},
   "outputs": [
    {
     "name": "stdin",
     "output_type": "stream",
     "text": [
      "Enter the employee id 1\n",
      "Enter the employee name v\n",
      "Enter the employee designation fv\n",
      "Enter the employee Joining date re\n",
      "Enter the salary 23\n",
      "Enter the employee id 2\n",
      "Enter the employee name re\n",
      "Enter the employee designation re\n",
      "Enter the employee Joining date 2fe\n",
      "Enter the salary 3233\n",
      "Enter the employee id 3\n",
      "Enter the employee name reg\n",
      "Enter the employee designation fd\n",
      "Enter the employee Joining date fd\n",
      "Enter the salary 32432\n",
      "Enter the employee id 4\n",
      "Enter the employee name gfg\n",
      "Enter the employee designation vf\n",
      "Enter the employee Joining date vd\n",
      "Enter the salary 5\n",
      "Enter the employee id 5\n",
      "Enter the employee name fg\n",
      "Enter the employee designation gfb\n",
      "Enter the employee Joining date ggb\n",
      "Enter the salary 4335\n"
     ]
    },
    {
     "name": "stdout",
     "output_type": "stream",
     "text": [
      "Employee Details:\n",
      "{'id': 1, 'name': 'v', 'job_role': 'fv', 'join_date': 're', 'sal': 23.0}\n",
      "{'id': 2, 'name': 're', 'job_role': 're', 'join_date': '2fe', 'sal': 3233.0}\n",
      "{'id': 3, 'name': 'reg', 'job_role': 'fd', 'join_date': 'fd', 'sal': 32432.0}\n",
      "{'id': 4, 'name': 'gfg', 'job_role': 'vf', 'join_date': 'vd', 'sal': 5.0}\n",
      "{'id': 5, 'name': 'fg', 'job_role': 'gfb', 'join_date': 'ggb', 'sal': 4335.0}\n"
     ]
    },
    {
     "name": "stdin",
     "output_type": "stream",
     "text": [
      "Enter the employee id 6\n",
      "Enter the employee name rtg\n",
      "Enter the employee designation tgr\n",
      "Enter the employee Joining date rtg\n",
      "Enter the salary 343\n"
     ]
    },
    {
     "name": "stdout",
     "output_type": "stream",
     "text": [
      "Modifed list\n",
      "[{'id': 1, 'name': 'v', 'job_role': 'fv', 'join_date': 're', 'sal': 23.0}, {'id': 2, 'name': 're', 'job_role': 're', 'join_date': '2fe', 'sal': 3233.0}, {'id': 3, 'name': 'reg', 'job_role': 'fd', 'join_date': 'fd', 'sal': 32432.0}, {'id': 4, 'name': 'gfg', 'job_role': 'vf', 'join_date': 'vd', 'sal': 5.0}, {'id': 5, 'name': 'fg', 'job_role': 'gfb', 'join_date': 'ggb', 'sal': 4335.0}, {'id': 6, 'name': 'rtg', 'job_role': 'tgr', 'join_date': 'rtg', 'sal': 343.0}]\n"
     ]
    }
   ],
   "source": [
    "\"\"\"Ques1 Write a program using python data structure(tuple, list & dictionary) create a directory consistring of employee detail in {id, name, job role, joining date & salary}\n",
    "        perform following operation\n",
    "        1. add 5 employee to directory\n",
    "        2. check senior most employee from the directory#maxof()#optional\n",
    "        3. add a new employee to the directory\n",
    "        4. remove an employee from the directory\n",
    "        5. sort the employee \n",
    "        6. with the help of function display full name(prefix like mr. & mrs.,first name & last name)\n",
    "        7. list employee who's salary is above 80\"\"\"\n",
    "employee_list=[]\n",
    "\n",
    "num=5\n",
    "\n",
    "for i in range(num):\n",
    "    employee={}\n",
    "    empid=int(input(\"Enter the employee id\"))\n",
    "    emp_name=input(\"Enter the employee name\")\n",
    "    designation=input(\"Enter the employee designation\")\n",
    "    joining_date=input(\"Enter the employee Joining date\")\n",
    "    salary=float(input(\"Enter the salary\"))\n",
    "    \n",
    "    employee[\"id\"]=empid\n",
    "    employee[\"name\"]=emp_name\n",
    "    employee[\"job_role\"]=designation\n",
    "    employee[\"join_date\"]=joining_date\n",
    "    employee[\"sal\"]=salary\n",
    "\n",
    "    employee_list.append(employee)\n",
    "    \n",
    "print(\"Employee Details:\")\n",
    "for emp in employee_list:\n",
    "    print(emp)"
   ]
  },
  {
   "cell_type": "code",
   "execution_count": null,
   "id": "4bdd777b-23b3-4f07-a667-ca5c7076ed58",
   "metadata": {},
   "outputs": [],
   "source": []
  }
 ],
 "metadata": {
  "kernelspec": {
   "display_name": "Python 3 (ipykernel)",
   "language": "python",
   "name": "python3"
  },
  "language_info": {
   "codemirror_mode": {
    "name": "ipython",
    "version": 3
   },
   "file_extension": ".py",
   "mimetype": "text/x-python",
   "name": "python",
   "nbconvert_exporter": "python",
   "pygments_lexer": "ipython3",
   "version": "3.11.7"
  }
 },
 "nbformat": 4,
 "nbformat_minor": 5
}
