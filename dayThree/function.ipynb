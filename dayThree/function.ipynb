{
 "cells": [
  {
   "cell_type": "code",
   "execution_count": 4,
   "id": "c41147cf-be02-4d89-963a-000ad510b625",
   "metadata": {},
   "outputs": [
    {
     "name": "stdout",
     "output_type": "stream",
     "text": [
      "The youngest child is Urvish\n",
      "The youngest child is  ('Shivani', 'Urvish', 'Anjana')\n"
     ]
    }
   ],
   "source": [
    "def my_function(*kids):\n",
    "    print(\"The youngest child is \"+kids[1])\n",
    "    # print(\"The youngest child is \"+kids)#getting error\n",
    "    print(\"The youngest child is \",kids)\n",
    "my_function(\"Shivani\",\"Urvish\",\"Anjana\")"
   ]
  },
  {
   "cell_type": "code",
   "execution_count": 5,
   "id": "2aab7fa0-1dc2-430f-98ff-dffc51ea5552",
   "metadata": {},
   "outputs": [
    {
     "name": "stdout",
     "output_type": "stream",
     "text": [
      "The younger child is Urvish\n"
     ]
    }
   ],
   "source": [
    "def my_function(child3,child2,child1):\n",
    "    print(\"The younger child is \" +child3)\n",
    "    \n",
    "my_function(child1=\"Shubham\",child2=\"Shivani\",child3=\"Urvish\")"
   ]
  },
  {
   "cell_type": "code",
   "execution_count": 6,
   "id": "76b6be32-22b8-421e-a062-2b094df3d339",
   "metadata": {},
   "outputs": [
    {
     "name": "stdout",
     "output_type": "stream",
     "text": [
      "The younger child is Urvish\n"
     ]
    }
   ],
   "source": [
    "def my_function(**kid):\n",
    "    print(\"The younger child is \" +kid[\"child3\"])\n",
    "    \n",
    "my_function(child1=\"Shubham\",child2=\"Shivani\",child3=\"Urvish\")"
   ]
  },
  {
   "cell_type": "code",
   "execution_count": 4,
   "id": "fae1bef5-4ec1-47f2-9e87-049c9a5b269a",
   "metadata": {},
   "outputs": [
    {
     "name": "stdout",
     "output_type": "stream",
     "text": [
      "\n",
      " Recursion\n",
      "1\n",
      "3\n",
      "6\n",
      "10\n",
      "15\n",
      "21\n",
      "28\n"
     ]
    },
    {
     "data": {
      "text/plain": [
       "28"
      ]
     },
     "execution_count": 4,
     "metadata": {},
     "output_type": "execute_result"
    }
   ],
   "source": [
    "def tri_recursion(k):\n",
    "    if (k>0):\n",
    "        result=k+tri_recursion(k-1)\n",
    "        print(result)\n",
    "    else:\n",
    "        result = 0\n",
    "    return result\n",
    "    \n",
    "print(\"\\n Recursion\")\n",
    "tri_recursion(7)"
   ]
  },
  {
   "cell_type": "code",
   "execution_count": null,
   "id": "4125608b-4a21-4b35-b4ac-1db36504207d",
   "metadata": {},
   "outputs": [],
   "source": []
  }
 ],
 "metadata": {
  "kernelspec": {
   "display_name": "Python 3 (ipykernel)",
   "language": "python",
   "name": "python3"
  },
  "language_info": {
   "codemirror_mode": {
    "name": "ipython",
    "version": 3
   },
   "file_extension": ".py",
   "mimetype": "text/x-python",
   "name": "python",
   "nbconvert_exporter": "python",
   "pygments_lexer": "ipython3",
   "version": "3.9.13"
  }
 },
 "nbformat": 4,
 "nbformat_minor": 5
}
