{
 "cells": [
  {
   "cell_type": "code",
   "execution_count": 1,
   "id": "c87a14d9-3e70-4942-ae64-7ee58ce8c61e",
   "metadata": {},
   "outputs": [
    {
     "name": "stdout",
     "output_type": "stream",
     "text": [
      "5\n"
     ]
    }
   ],
   "source": [
    "class Myclass:\n",
    "    x=5#class variable\n",
    "p1=Myclass()\n",
    "print(p1.x)"
   ]
  },
  {
   "cell_type": "code",
   "execution_count": 1,
   "id": "415740ae-3c12-4831-9735-62ac02f573d0",
   "metadata": {},
   "outputs": [
    {
     "name": "stdout",
     "output_type": "stream",
     "text": [
      "John\n",
      "34\n"
     ]
    }
   ],
   "source": [
    "class Person:\n",
    "    def __init__(self,name,age):#two underscore is this function\n",
    "        self.name = name#instanse variable\n",
    "        self.age = age\n",
    "        \n",
    "p1=Person(\"John\",34)\n",
    "print(p1.name)\n",
    "print(p1.age)"
   ]
  },
  {
   "cell_type": "code",
   "execution_count": 2,
   "id": "e676a218-31a0-463a-b182-2b3dfc8c5dc7",
   "metadata": {},
   "outputs": [
    {
     "name": "stdout",
     "output_type": "stream",
     "text": [
      "<__main__.Person object at 0x000000383AEBE910>\n"
     ]
    }
   ],
   "source": [
    "class Person:\n",
    "    def __init__(self,name,age):#two underscore is this function\n",
    "        self.name = name#instanse variable\n",
    "        self.age = age\n",
    "        \n",
    "p1=Person(\"John\",34)\n",
    "print(p1)#address of object"
   ]
  },
  {
   "cell_type": "code",
   "execution_count": 5,
   "id": "8dd647b4-b4b7-4ee6-9d32-31086e21188a",
   "metadata": {},
   "outputs": [
    {
     "name": "stdout",
     "output_type": "stream",
     "text": [
      "John,34\n"
     ]
    }
   ],
   "source": [
    "class Person:\n",
    "    def __init__(self,name,age):#two underscore is this function\n",
    "        self.name = name#instanse variable\n",
    "        self.age = age\n",
    "    def __str__(self):#use this for accessing the object whole data we need __str__()\n",
    "        return f\"{self.name},{self.age}\"#f is for format in quotes we ,() in whatever way we want\n",
    "p1=Person(\"John\",34)\n",
    "print(p1)"
   ]
  },
  {
   "cell_type": "code",
   "execution_count": 4,
   "id": "efdfa2f7-51e7-4350-822d-2562344a2688",
   "metadata": {},
   "outputs": [
    {
     "name": "stdout",
     "output_type": "stream",
     "text": [
      "John,34\n",
      "in class John\n"
     ]
    }
   ],
   "source": [
    "class Person:\n",
    "    def __init__(self,name,age):#two underscore is this function\n",
    "        self.name = name#instanse variable\n",
    "        self.age = age\n",
    "    def __str__(self):#use this for accessing the object whole data we need __str__()\n",
    "        return f\"{self.name},{self.age}\"#f is for format in quotes we ,() in whatever way we want\n",
    "    def myfunc(self):\n",
    "        print(\"in class \"+self.name)\n",
    "        \n",
    "p1=Person(\"John\",34)\n",
    "print(p1)\n",
    "p1.myfunc()"
   ]
  },
  {
   "cell_type": "code",
   "execution_count": 5,
   "id": "3adddd2a-7927-4127-a495-1fc8e14696ef",
   "metadata": {},
   "outputs": [
    {
     "name": "stdout",
     "output_type": "stream",
     "text": [
      "John,40\n",
      "in class John\n"
     ]
    }
   ],
   "source": [
    "class Person:\n",
    "    def __init__(self,name,age):#two underscore is this function\n",
    "        self.name = name#instanse variable\n",
    "        self.age = age\n",
    "    def __str__(self):#use this for accessing the object whole data we need __str__()\n",
    "        return f\"{self.name},{self.age}\"#f is for format in quotes we ,() in whatever way we want\n",
    "    def myfunc(self):\n",
    "        print(\"in class \"+self.name)\n",
    "        \n",
    "p1=Person(\"John\",34)\n",
    "p1.age=40#modify the value\n",
    "print(p1)\n",
    "p1.myfunc()"
   ]
  },
  {
   "cell_type": "code",
   "execution_count": 14,
   "id": "dd5677fa-3af5-46b8-9d0c-7a570e9b7699",
   "metadata": {},
   "outputs": [],
   "source": [
    "class Person:\n",
    "    def __init__(self,name,age):#two underscore is this function\n",
    "        self.name = name#instanse variable\n",
    "        self.age = age\n",
    "    def __str__(self):#use this for accessing the object whole data we need __str__()\n",
    "        return f\"{self.name},{self.age}\"#f is for format in quotes we ,() in whatever way we want\n",
    "    def myfunc(self):\n",
    "        print(\"in class \"+self.name)\n",
    "        \n",
    "p1=Person(\"John\",34)\n",
    "del p1#delete the object\n",
    "#print(p1)"
   ]
  },
  {
   "cell_type": "code",
   "execution_count": 13,
   "id": "2366b94f-bed4-4ada-bab7-7a2be435d332",
   "metadata": {},
   "outputs": [
    {
     "name": "stdout",
     "output_type": "stream",
     "text": [
      "in class John\n"
     ]
    }
   ],
   "source": [
    "class Person:\n",
    "    def __init__(self,name,age):#two underscore is this function\n",
    "        self.name = name#instanse variable\n",
    "        self.age = age\n",
    "    def __str__(self):#use this for accessing the object whole data we need __str__()\n",
    "        return f\"{self.name},{self.age}\"#f is for format in quotes we ,() in whatever way we want\n",
    "    def myfunc(self):\n",
    "        print(\"in class \"+self.name)\n",
    "        \n",
    "p1=Person(\"John\",34)\n",
    "del p1.age#delecte one variable\n",
    "#print(p1.age)\n",
    "p1.myfunc()"
   ]
  },
  {
   "cell_type": "code",
   "execution_count": 11,
   "id": "28df3ff8-98f1-4ebb-b30c-26fbd0831277",
   "metadata": {},
   "outputs": [
    {
     "name": "stdout",
     "output_type": "stream",
     "text": [
      "An exception occured\n"
     ]
    }
   ],
   "source": [
    "try:\n",
    "    print(x)\n",
    "except:\n",
    "    print(\"An exception occured\")"
   ]
  },
  {
   "cell_type": "code",
   "execution_count": 15,
   "id": "ffefedb0-bbe8-4a87-a789-bf5a2255fe39",
   "metadata": {},
   "outputs": [
    {
     "name": "stdout",
     "output_type": "stream",
     "text": [
      "Variable x is not defined\n"
     ]
    }
   ],
   "source": [
    "try:\n",
    "    print(x)\n",
    "except NameError:#NameError is inbuild\n",
    "    print(\"Variable x is not defined\")\n",
    "except:\n",
    "    print(\"Something else went wrong\")"
   ]
  },
  {
   "cell_type": "code",
   "execution_count": 20,
   "id": "05eede40-0f3a-4082-b6e7-9e444d755b52",
   "metadata": {},
   "outputs": [
    {
     "name": "stdout",
     "output_type": "stream",
     "text": [
      "Something went wrong\n"
     ]
    }
   ],
   "source": [
    "try:\n",
    "    print(\"Hello\")\n",
    "    #print(x)\n",
    "except:\n",
    "    print(\"Something went wrong\")\n",
    "else:\n",
    "    print(\"Come to else\")"
   ]
  },
  {
   "cell_type": "code",
   "execution_count": 18,
   "id": "6773e1a5-60a5-45c9-911a-03906fb683b1",
   "metadata": {},
   "outputs": [
    {
     "name": "stdout",
     "output_type": "stream",
     "text": [
      "Something went wrong\n",
      "try except is finished\n"
     ]
    }
   ],
   "source": [
    "try:\n",
    "    print(x)\n",
    "except:\n",
    "    print(\"Something went wrong\")\n",
    "finally:#it will executed it will go except or not\n",
    "    print(\"try except is finished\")"
   ]
  },
  {
   "cell_type": "code",
   "execution_count": 21,
   "id": "b01a71b1-9799-4c26-b5ce-71d270fa52dd",
   "metadata": {},
   "outputs": [
    {
     "ename": "Exception",
     "evalue": "Sorry, no numbers belows zero",
     "output_type": "error",
     "traceback": [
      "\u001b[1;31m---------------------------------------------------------------------------\u001b[0m",
      "\u001b[1;31mException\u001b[0m                                 Traceback (most recent call last)",
      "\u001b[1;32m~\\AppData\\Local\\Temp\\ipykernel_9400\\3628864744.py\u001b[0m in \u001b[0;36m<module>\u001b[1;34m\u001b[0m\n\u001b[0;32m      1\u001b[0m \u001b[0mx\u001b[0m\u001b[1;33m=\u001b[0m\u001b[1;33m-\u001b[0m\u001b[1;36m1\u001b[0m\u001b[1;33m\u001b[0m\u001b[1;33m\u001b[0m\u001b[0m\n\u001b[0;32m      2\u001b[0m \u001b[1;32mif\u001b[0m \u001b[0mx\u001b[0m\u001b[1;33m<\u001b[0m\u001b[1;36m0\u001b[0m\u001b[1;33m:\u001b[0m\u001b[1;33m\u001b[0m\u001b[1;33m\u001b[0m\u001b[0m\n\u001b[1;32m----> 3\u001b[1;33m     \u001b[1;32mraise\u001b[0m \u001b[0mException\u001b[0m\u001b[1;33m(\u001b[0m\u001b[1;34m\"Sorry, no numbers belows zero\"\u001b[0m\u001b[1;33m)\u001b[0m\u001b[1;33m\u001b[0m\u001b[1;33m\u001b[0m\u001b[0m\n\u001b[0m",
      "\u001b[1;31mException\u001b[0m: Sorry, no numbers belows zero"
     ]
    }
   ],
   "source": [
    "x=-1\n",
    "if x<0:\n",
    "    raise Exception(\"Sorry, no numbers belows zero\")"
   ]
  },
  {
   "cell_type": "code",
   "execution_count": 22,
   "id": "6b8ff436-1ee8-4463-87bb-4506d7ebde9b",
   "metadata": {},
   "outputs": [
    {
     "ename": "TypeError",
     "evalue": "Only integers are not allowed",
     "output_type": "error",
     "traceback": [
      "\u001b[1;31m---------------------------------------------------------------------------\u001b[0m",
      "\u001b[1;31mTypeError\u001b[0m                                 Traceback (most recent call last)",
      "\u001b[1;32m~\\AppData\\Local\\Temp\\ipykernel_9400\\3123889360.py\u001b[0m in \u001b[0;36m<module>\u001b[1;34m\u001b[0m\n\u001b[0;32m      1\u001b[0m \u001b[0mx\u001b[0m\u001b[1;33m=\u001b[0m\u001b[1;34m\"hello\"\u001b[0m\u001b[1;33m\u001b[0m\u001b[1;33m\u001b[0m\u001b[0m\n\u001b[0;32m      2\u001b[0m \u001b[1;32mif\u001b[0m \u001b[1;32mnot\u001b[0m \u001b[0mtype\u001b[0m\u001b[1;33m(\u001b[0m\u001b[0mx\u001b[0m\u001b[1;33m)\u001b[0m \u001b[1;32mis\u001b[0m \u001b[0mint\u001b[0m\u001b[1;33m:\u001b[0m\u001b[1;33m\u001b[0m\u001b[1;33m\u001b[0m\u001b[0m\n\u001b[1;32m----> 3\u001b[1;33m     \u001b[1;32mraise\u001b[0m \u001b[0mTypeError\u001b[0m\u001b[1;33m(\u001b[0m\u001b[1;34m\"Only integers are not allowed\"\u001b[0m\u001b[1;33m)\u001b[0m\u001b[1;33m\u001b[0m\u001b[1;33m\u001b[0m\u001b[0m\n\u001b[0m",
      "\u001b[1;31mTypeError\u001b[0m: Only integers are not allowed"
     ]
    }
   ],
   "source": [
    "x=\"hello\"\n",
    "if not type(x) is int:\n",
    "    raise TypeError(\"Only integers are not allowed\")"
   ]
  },
  {
   "cell_type": "code",
   "execution_count": null,
   "id": "44979da7-ca89-496e-9e00-037d9f143a61",
   "metadata": {},
   "outputs": [],
   "source": []
  }
 ],
 "metadata": {
  "kernelspec": {
   "display_name": "Python 3 (ipykernel)",
   "language": "python",
   "name": "python3"
  },
  "language_info": {
   "codemirror_mode": {
    "name": "ipython",
    "version": 3
   },
   "file_extension": ".py",
   "mimetype": "text/x-python",
   "name": "python",
   "nbconvert_exporter": "python",
   "pygments_lexer": "ipython3",
   "version": "3.9.13"
  }
 },
 "nbformat": 4,
 "nbformat_minor": 5
}
