{
 "cells": [
  {
   "cell_type": "code",
   "execution_count": 1,
   "id": "4216eb0a-f27a-4e01-a703-25af21bc8f7b",
   "metadata": {},
   "outputs": [
    {
     "name": "stdout",
     "output_type": "stream",
     "text": [
      "['banana', 'kiwi', 'orange', 'mango']\n"
     ]
    }
   ],
   "source": [
    "fruits=[\"banana\",\"kiwi\",\"orange\",\"mango\"]\n",
    "print(fruits)"
   ]
  },
  {
   "cell_type": "code",
   "execution_count": 4,
   "id": "32753223-8c75-4119-a29f-42e01d802caa",
   "metadata": {},
   "outputs": [
    {
     "name": "stdout",
     "output_type": "stream",
     "text": [
      "['banana', 'kiwi', 'orange', 'mango', 2, 56.45, True]\n"
     ]
    }
   ],
   "source": [
    "fruits=[\"banana\",\"kiwi\",\"orange\",\"mango\",2,56.45,True]\n",
    "print(fruits)#print list"
   ]
  },
  {
   "cell_type": "code",
   "execution_count": 5,
   "id": "f4c7e944-b570-445c-ae57-aa87627e7db7",
   "metadata": {},
   "outputs": [
    {
     "name": "stdout",
     "output_type": "stream",
     "text": [
      "7\n"
     ]
    }
   ],
   "source": [
    "fruits=[\"banana\",\"kiwi\",\"orange\",\"mango\",2,56.45,True]\n",
    "print(len(fruits))#print in length"
   ]
  },
  {
   "cell_type": "code",
   "execution_count": 8,
   "id": "ccc540b1-c34b-456d-9afd-acb4f0dcb07b",
   "metadata": {},
   "outputs": [
    {
     "name": "stdout",
     "output_type": "stream",
     "text": [
      "banana\n",
      "kiwi\n",
      "orange\n",
      "mango\n",
      "2\n",
      "56.45\n",
      "True\n"
     ]
    }
   ],
   "source": [
    "fruits=[\"banana\",\"kiwi\",\"orange\",\"mango\",2,56.45,True]\n",
    "print(fruits[0])#print in index\n",
    "print(fruits[1])\n",
    "print(fruits[2])\n",
    "print(fruits[3])\n",
    "print(fruits[4])\n",
    "print(fruits[5])\n",
    "print(fruits[6])"
   ]
  },
  {
   "cell_type": "code",
   "execution_count": 12,
   "id": "3375742d-d8d6-4c67-98d2-d63ebf1b0b97",
   "metadata": {},
   "outputs": [
    {
     "name": "stdout",
     "output_type": "stream",
     "text": [
      "['orange', 'mango', 2]\n",
      "['banana', 'kiwi', 'orange', 'mango', 2]\n",
      "['orange', 'mango', 2, 56.45, True]\n",
      "['orange', 'mango', 2]\n"
     ]
    }
   ],
   "source": [
    "fruits=[\"banana\",\"kiwi\",\"orange\",\"mango\",2,56.45,True]\n",
    "print(fruits[2:5])#print in range\n",
    "print(fruits[:5])\n",
    "print(fruits[2:])\n",
    "print(fruits[-5:-2])"
   ]
  },
  {
   "cell_type": "code",
   "execution_count": 35,
   "id": "feeb913d-9852-4ceb-922e-8a685125ca55",
   "metadata": {},
   "outputs": [
    {
     "name": "stdout",
     "output_type": "stream",
     "text": [
      "['banana', 'lemon', 'kiwi', 'strwberry', 'mango', 2, 56.45, True, 'watermelon']\n",
      "['banana', 'lemon', 'kiwi', 'strwberry', 2, 56.45, True, 'watermelon']\n",
      "['banana', 'lemon', 'kiwi', 'strwberry', 2, 56.45, True]\n",
      "['banana', 'kiwi', 'strwberry', 2, 56.45, True]\n",
      "['banana', 'kiwi', 2, 56.45, True]\n",
      "[]\n"
     ]
    }
   ],
   "source": [
    "fruits=[\"banana\",\"kiwi\",\"orange\",\"mango\",2,56.45,True]\n",
    "fruits[2]=\"strwberry\"#modify list\n",
    "fruits.append(\"watermelon\")#add at last\n",
    "fruits.insert(1,\"lemon\")#add at position\n",
    "print(fruits)\n",
    "fruits.remove(\"mango\")#remove element\n",
    "print(fruits)\n",
    "fruits.pop()#remove last element\n",
    "print(fruits)\n",
    "fruits.pop(1)#remove at location\n",
    "print(fruits)\n",
    "del fruits[2]#remove at location\n",
    "print(fruits)\n",
    "fruits.clear()#clear element only\n",
    "print(fruits)\n",
    "del fruits#delete whole list so we cant print that list\n",
    "#print(fruits)"
   ]
  },
  {
   "cell_type": "code",
   "execution_count": 22,
   "id": "6db4562a-8593-4869-a779-19c4c106712c",
   "metadata": {},
   "outputs": [
    {
     "name": "stdout",
     "output_type": "stream",
     "text": [
      "['banana', 'kiwi', 'orange', 'mango', 2, 56.45, True, 'i10', 'ertiga', 'i20', 'nano']\n"
     ]
    }
   ],
   "source": [
    "fruits=[\"banana\",\"kiwi\",\"orange\",\"mango\",2,56.45,True]\n",
    "car=[\"i10\",\"ertiga\",\"i20\",\"nano\"]\n",
    "fruits.extend(car)#merge 2 list\n",
    "print(fruits)"
   ]
  },
  {
   "cell_type": "code",
   "execution_count": 23,
   "id": "dc6bb0ff-2985-4a2e-b241-007df94bb501",
   "metadata": {},
   "outputs": [
    {
     "name": "stdout",
     "output_type": "stream",
     "text": [
      "['banana', 'kiwi', 'orange', 'mango', 2, 56.45, True, 'i10', 'ertiga', 'i20', 'nano']\n"
     ]
    }
   ],
   "source": [
    "fruits=[\"banana\",\"kiwi\",\"orange\",\"mango\",2,56.45,True]\n",
    "car=(\"i10\",\"ertiga\",\"i20\",\"nano\")\n",
    "fruits.extend(car)#merge with tuple\n",
    "print(fruits)"
   ]
  },
  {
   "cell_type": "code",
   "execution_count": 32,
   "id": "40edbd6f-c27b-4fbf-b16a-75a535407ebe",
   "metadata": {},
   "outputs": [
    {
     "name": "stdout",
     "output_type": "stream",
     "text": [
      "banana\n",
      "kiwi\n",
      "orange\n",
      "mango\n",
      "2\n",
      "56.45\n",
      "True\n"
     ]
    }
   ],
   "source": [
    "fruits=[\"banana\",\"kiwi\",\"orange\",\"mango\",2,56.45,True]\n",
    "for x in fruits:\n",
    "    if x==\"orange\":\n",
    "        #print(x,\"in the list\")\n",
    "        #break\n",
    "        #continue\n",
    "        pass#pass means whole list will print\n",
    "    print(x)\n"
   ]
  },
  {
   "cell_type": "code",
   "execution_count": 33,
   "id": "71daf7d8-d4b2-44f3-8236-4f68135c0ed3",
   "metadata": {},
   "outputs": [
    {
     "name": "stdout",
     "output_type": "stream",
     "text": [
      "banana\n",
      "kiwi\n",
      "orange\n",
      "mango\n",
      "2\n",
      "56.45\n",
      "True\n"
     ]
    }
   ],
   "source": [
    "fruits=[\"banana\",\"kiwi\",\"orange\",\"mango\",2,56.45,True]\n",
    "i=0\n",
    "while i<len(fruits):\n",
    "    print(fruits[i])\n",
    "    i+=1"
   ]
  },
  {
   "cell_type": "code",
   "execution_count": 34,
   "id": "48a5d7ca-f34a-4d81-9780-4ddcb9dbd9e5",
   "metadata": {},
   "outputs": [
    {
     "name": "stdout",
     "output_type": "stream",
     "text": [
      "banana\n",
      "kiwi\n",
      "orange\n",
      "mango\n",
      "2\n",
      "56.45\n",
      "True\n"
     ]
    },
    {
     "data": {
      "text/plain": [
       "[None, None, None, None, None, None, None]"
      ]
     },
     "execution_count": 34,
     "metadata": {},
     "output_type": "execute_result"
    }
   ],
   "source": [
    "#short hand for loop\n",
    "fruits=[\"banana\",\"kiwi\",\"orange\",\"mango\",2,56.45,True]\n",
    "[print(x) for x in fruits]"
   ]
  },
  {
   "cell_type": "code",
   "execution_count": 37,
   "id": "c8fb0b5b-8c28-41b2-8528-979eb7f8ec4e",
   "metadata": {},
   "outputs": [
    {
     "name": "stdout",
     "output_type": "stream",
     "text": [
      "['banana', 'kiwi', 'mango', 'orange']\n"
     ]
    }
   ],
   "source": [
    "fruits=[\"banana\",\"kiwi\",\"orange\",\"mango\"]\n",
    "fruits.sort()#sort in ascending order\n",
    "print(fruits)"
   ]
  },
  {
   "cell_type": "code",
   "execution_count": 38,
   "id": "3c667ff9-55db-4f58-b472-7bd22c6afae1",
   "metadata": {},
   "outputs": [
    {
     "name": "stdout",
     "output_type": "stream",
     "text": [
      "['orange', 'mango', 'kiwi', 'banana']\n"
     ]
    }
   ],
   "source": [
    "fruits=[\"banana\",\"kiwi\",\"orange\",\"mango\"]\n",
    "fruits.sort(reverse=True)#sort in descending order\n",
    "print(fruits)"
   ]
  },
  {
   "cell_type": "code",
   "execution_count": 40,
   "id": "5923351a-9b2f-4111-b23f-286c85718f4d",
   "metadata": {},
   "outputs": [
    {
     "name": "stdout",
     "output_type": "stream",
     "text": [
      "[50, 65, 23, 82, 100]\n"
     ]
    }
   ],
   "source": [
    "def myfunc(n):\n",
    "    return abs(n-50)\n",
    "thislist=[100,50,65,82,23]\n",
    "thislist.sort(key=myfunc)//according to function it will sort\n",
    "print(thislist)"
   ]
  },
  {
   "cell_type": "code",
   "execution_count": 42,
   "id": "c46a1a59-3994-4fa5-b9de-62f10febc6ef",
   "metadata": {},
   "outputs": [
    {
     "name": "stdout",
     "output_type": "stream",
     "text": [
      "['Kiwi', 'Orange', 'banana', 'mango']\n",
      "['banana', 'Kiwi', 'mango', 'Orange']\n"
     ]
    }
   ],
   "source": [
    "fruits=[\"banana\",\"Kiwi\",\"Orange\",\"mango\"]\n",
    "fruits.sort()//case sensitive\n",
    "print(fruits)\n",
    "fruits.sort(key=str.lower)#sort in ascending order\n",
    "print(fruits)"
   ]
  },
  {
   "cell_type": "code",
   "execution_count": 44,
   "id": "3860a41b-388a-4e37-af48-94dcedce1bd2",
   "metadata": {},
   "outputs": [
    {
     "name": "stdout",
     "output_type": "stream",
     "text": [
      "['banana', 'kiwi', 'orange', 'mango']\n"
     ]
    }
   ],
   "source": [
    "fruits=[\"banana\",\"kiwi\",\"orange\",\"mango\"]\n",
    "mylist=fruits.copy()#list copy\n",
    "print(mylist)"
   ]
  },
  {
   "cell_type": "code",
   "execution_count": 45,
   "id": "c5d488c6-2f86-4b12-b7ce-6343ad091d24",
   "metadata": {},
   "outputs": [
    {
     "name": "stdout",
     "output_type": "stream",
     "text": [
      "['banana', 'kiwi', 'orange', 'mango']\n"
     ]
    }
   ],
   "source": [
    "fruits=[\"banana\",\"kiwi\",\"orange\",\"mango\"]\n",
    "mylist=list(fruits)#list copy with list method\n",
    "print(mylist)"
   ]
  },
  {
   "cell_type": "code",
   "execution_count": null,
   "id": "539d27f7-69f9-4ec7-a319-35341c292016",
   "metadata": {},
   "outputs": [],
   "source": []
  }
 ],
 "metadata": {
  "kernelspec": {
   "display_name": "Python 3 (ipykernel)",
   "language": "python",
   "name": "python3"
  },
  "language_info": {
   "codemirror_mode": {
    "name": "ipython",
    "version": 3
   },
   "file_extension": ".py",
   "mimetype": "text/x-python",
   "name": "python",
   "nbconvert_exporter": "python",
   "pygments_lexer": "ipython3",
   "version": "3.11.7"
  }
 },
 "nbformat": 4,
 "nbformat_minor": 5
}
