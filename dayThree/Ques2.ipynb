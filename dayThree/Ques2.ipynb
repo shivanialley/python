{
 "cells": [
  {
   "cell_type": "code",
   "execution_count": 1,
   "id": "a65b5ddc-1dd4-4fee-a66b-9e942df9ee26",
   "metadata": {},
   "outputs": [
    {
     "name": "stdin",
     "output_type": "stream",
     "text": [
      "Enter the number of terms for Fibonacci series:  9\n"
     ]
    },
    {
     "name": "stdout",
     "output_type": "stream",
     "text": [
      "Fibonacci series:\n",
      "[0, 1, 1, 2, 3, 5, 8, 13, 21]\n"
     ]
    }
   ],
   "source": [
    "#Ques2 Program to demostrate fibonacci series using recursion\n",
    "def fibonacci(num):\n",
    "    if num <= 0:\n",
    "        return []\n",
    "    elif num == 1:\n",
    "        return [0]\n",
    "    elif num == 2:\n",
    "        return [0, 1]\n",
    "    else:\n",
    "        fib_series = [0, 1]\n",
    "        for i in range(2, num):\n",
    "            fib_series.append(fib_series[-1] + fib_series[-2])\n",
    "        return fib_series\n",
    "\n",
    "num = int(input(\"Enter the number of terms for Fibonacci series: \"))\n",
    "fib_series = fibonacci(num)\n",
    "print(\"Fibonacci series:\")\n",
    "print(fib_series)"
   ]
  },
  {
   "cell_type": "markdown",
   "id": "8876c5f3-883f-4cc4-b90b-8813f2410222",
   "metadata": {},
   "source": [
    "###### "
   ]
  },
  {
   "cell_type": "code",
   "execution_count": 20,
   "id": "a5b29e20-ed09-4e79-975a-7400de7c13cc",
   "metadata": {},
   "outputs": [
    {
     "name": "stdout",
     "output_type": "stream",
     "text": [
      "<U5\n",
      "0\n",
      "2\n",
      "\n",
      "\n",
      "[[1 2 3 4]\n",
      " [5 6 7 8]]\n",
      "\n",
      "\n",
      "8\n",
      "\n",
      "\n",
      "[[[1 2 3 5 6]\n",
      "  [4 5 6 7 8]]\n",
      "\n",
      " [[1 2 3 6 7]\n",
      "  [4 5 6 8 9]]]\n",
      "\n",
      "\n",
      "6\n",
      "(2, 2, 5)\n",
      "[[[1 2 3 5 6]\n",
      "  [4 5 6 7 8]]\n",
      "\n",
      " [[1 2 3 6 7]\n",
      "  [4 5 6 8 9]]]\n"
     ]
    }
   ],
   "source": [
    "import numpy as np\n",
    "\n",
    "arr0=np.array(23)\n",
    "arr=np.array([1,2,3,4])\n",
    "arr2=np.array([[1,2,3,4],[5,6,7,8]])\n",
    "arr3=np.array([[[1,2,3,5,6],[4,5,6,7,8]],[[1,2,3,6,7],[4,5,6,8,9]]])\n",
    "arr4=np.array([\"Hi\",\"Hello\"])\n",
    "print(arr4.dtype)\n",
    "print(arr0.ndim)\n",
    "print(arr[1])\n",
    "print(\"\\n\")\n",
    "print(arr2)\n",
    "print(\"\\n\")\n",
    "print(arr2[1,3])\n",
    "print(\"\\n\")\n",
    "print(arr3)\n",
    "print(\"\\n\")\n",
    "print(arr3[1,1,2])\n",
    "print(arr3.shape)\n",
    "arr5=arr3.copy()\n",
    "print(arr5)"
   ]
  },
  {
   "cell_type": "code",
   "execution_count": 25,
   "id": "06e8b43f-b43a-49cb-982a-749418f6f222",
   "metadata": {},
   "outputs": [
    {
     "name": "stdout",
     "output_type": "stream",
     "text": [
      "[1 2 3 4 0 2 6 8]\n",
      "(array([3], dtype=int64),)\n",
      "[0 2 6 8]\n"
     ]
    }
   ],
   "source": [
    "import numpy as np\n",
    "\n",
    "arr1=np.array([1,2,3,4])\n",
    "arr2=np.array([0,2,6,8])\n",
    "newarr=np.concatenate((arr1,arr2))\n",
    "print(newarr)\n",
    "finalArr=np.where(arr1==4)\n",
    "print(finalArr)\n",
    "print(np.sort(arr2))"
   ]
  }
 ],
 "metadata": {
  "kernelspec": {
   "display_name": "Python 3 (ipykernel)",
   "language": "python",
   "name": "python3"
  },
  "language_info": {
   "codemirror_mode": {
    "name": "ipython",
    "version": 3
   },
   "file_extension": ".py",
   "mimetype": "text/x-python",
   "name": "python",
   "nbconvert_exporter": "python",
   "pygments_lexer": "ipython3",
   "version": "3.11.7"
  }
 },
 "nbformat": 4,
 "nbformat_minor": 5
}
