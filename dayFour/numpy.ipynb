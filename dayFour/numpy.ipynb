{
 "cells": [
  {
   "cell_type": "code",
   "execution_count": 51,
   "id": "62e6b712-cd7f-4665-baa1-706df199f487",
   "metadata": {},
   "outputs": [
    {
     "name": "stdout",
     "output_type": "stream",
     "text": [
      "[1 3 4 5]\n",
      "1\n"
     ]
    }
   ],
   "source": [
    "import numpy as np\n",
    "\n",
    "arr=np.array([1,3,4,5])\n",
    "print(arr)\n",
    "print(arr.ndim)"
   ]
  },
  {
   "cell_type": "code",
   "execution_count": 52,
   "id": "bd2e35be-5455-4483-af94-9b8815a76fe9",
   "metadata": {},
   "outputs": [
    {
     "name": "stdout",
     "output_type": "stream",
     "text": [
      "[1 3 4 5]\n",
      "\n",
      "\n",
      "[[2 4 5 7]\n",
      " [9 5 3 2]]\n",
      "2\n"
     ]
    }
   ],
   "source": [
    "import numpy as np\n",
    "\n",
    "arr=np.array([1,3,4,5])\n",
    "arr2=np.array([[2,4,5,7],[9,5,3,2]])\n",
    "print(arr)\n",
    "print(\"\\n\")\n",
    "print(arr2)\n",
    "print(arr2.ndim)"
   ]
  },
  {
   "cell_type": "code",
   "execution_count": 53,
   "id": "7ff8e2a5-4f9f-478f-8acd-6bf7cc3c463a",
   "metadata": {},
   "outputs": [
    {
     "name": "stdout",
     "output_type": "stream",
     "text": [
      "[1 3 4 5]\n",
      "\n",
      "\n",
      "[[2 4 5 7]\n",
      " [9 5 3 2]]\n",
      "\n",
      "\n",
      "[[[2 5 6]\n",
      "  [3 5 9]]\n",
      "\n",
      " [[3 5 7]\n",
      "  [8 3 2]]]\n",
      "3\n"
     ]
    }
   ],
   "source": [
    "import numpy as np\n",
    "\n",
    "arr=np.array([1,3,4,5])\n",
    "arr2=np.array([[2,4,5,7],[9,5,3,2]])\n",
    "arr3=np.array([[[2,5,6],[3,5,9]],[[3,5,7],[8,3,2]]])\n",
    "print(arr)\n",
    "print(\"\\n\")\n",
    "print(arr2)\n",
    "print(\"\\n\")\n",
    "print(arr3)\n",
    "print(arr3.ndim)"
   ]
  },
  {
   "cell_type": "code",
   "execution_count": 6,
   "id": "2e2d6dcc-6123-401b-a4a0-caeaeaa464ad",
   "metadata": {},
   "outputs": [
    {
     "name": "stdout",
     "output_type": "stream",
     "text": [
      "[1 3 4 5]\n",
      "3\n",
      "\n",
      "\n",
      "[[2 4 5 7]\n",
      " [9 5 3 2]]\n",
      "\n",
      "\n",
      "[[[2 5 6]\n",
      "  [3 5 9]]\n",
      "\n",
      " [[3 5 7]\n",
      "  [8 3 2]]]\n"
     ]
    }
   ],
   "source": [
    "import numpy as np\n",
    "\n",
    "arr=np.array([1,3,4,5])\n",
    "arr2=np.array([[2,4,5,7],[9,5,3,2]])\n",
    "arr3=np.array([[[2,5,6],[3,5,9]],[[3,5,7],[8,3,2]]])\n",
    "print(arr)\n",
    "print(arr[1])\n",
    "print(\"\\n\")\n",
    "print(arr2)\n",
    "print(\"\\n\")\n",
    "print(arr3)"
   ]
  },
  {
   "cell_type": "code",
   "execution_count": 7,
   "id": "9090ee40-cbd6-4d0a-b016-d3b13f604b12",
   "metadata": {},
   "outputs": [
    {
     "name": "stdout",
     "output_type": "stream",
     "text": [
      "[1 3 4 5]\n",
      "3\n",
      "\n",
      "\n",
      "[[2 4 5 7]\n",
      " [9 5 3 2]]\n",
      "3\n",
      "\n",
      "\n",
      "[[[2 5 6]\n",
      "  [3 5 9]]\n",
      "\n",
      " [[3 5 7]\n",
      "  [8 3 2]]]\n"
     ]
    }
   ],
   "source": [
    "import numpy as np\n",
    "\n",
    "arr=np.array([1,3,4,5])\n",
    "arr2=np.array([[2,4,5,7],[9,5,3,2]])\n",
    "arr3=np.array([[[2,5,6],[3,5,9]],[[3,5,7],[8,3,2]]])\n",
    "print(arr)\n",
    "print(arr[1])\n",
    "print(\"\\n\")\n",
    "print(arr2)\n",
    "print(arr2[1,2])\n",
    "print(\"\\n\")\n",
    "print(arr3)"
   ]
  },
  {
   "cell_type": "code",
   "execution_count": 19,
   "id": "cabe4528-e963-4f1a-96e2-a46ce288dc2e",
   "metadata": {},
   "outputs": [
    {
     "name": "stdout",
     "output_type": "stream",
     "text": [
      "[1 3 4 5]\n",
      "3\n",
      "\n",
      "\n",
      "[[2 4 5 7]\n",
      " [9 5 3 2]]\n",
      "3\n",
      "\n",
      "\n",
      "[[[2 5 6]\n",
      "  [3 5 9]]\n",
      "\n",
      " [[3 5 7]\n",
      "  [8 3 2]]]\n",
      "9\n"
     ]
    }
   ],
   "source": [
    "import numpy as np\n",
    "\n",
    "arr=np.array([1,3,4,5])\n",
    "arr2=np.array([[2,4,5,7],[9,5,3,2]])\n",
    "arr3=np.array([[[2,5,6],[3,5,9]],[[3,5,7],[8,3,2]]])\n",
    "print(arr)\n",
    "print(arr[1])\n",
    "print(\"\\n\")\n",
    "print(arr2)\n",
    "print(arr2[1,2])\n",
    "print(\"\\n\")\n",
    "print(arr3)\n",
    "print(arr3[0,1,2])"
   ]
  },
  {
   "cell_type": "code",
   "execution_count": 29,
   "id": "d4548a59-7dde-40db-ac1a-834dd1cffa80",
   "metadata": {},
   "outputs": [
    {
     "name": "stdout",
     "output_type": "stream",
     "text": [
      "[1 3 4 5]\n",
      "3\n",
      "\n",
      "\n",
      "[[2 4 5 7]\n",
      " [9 5 3 2]]\n",
      "\n",
      "\n",
      "[[2 4 5 7]]\n",
      "\n",
      "\n",
      "[[9 5 3 2]]\n",
      "\n",
      "\n",
      "[[[2 5 6]\n",
      "  [3 5 9]]\n",
      "\n",
      " [[3 5 7]\n",
      "  [8 3 2]]]\n"
     ]
    }
   ],
   "source": [
    "import numpy as np\n",
    "\n",
    "arr=np.array([1,3,4,5])\n",
    "arr2=np.array([[2,4,5,7],[9,5,3,2]])\n",
    "arr3=np.array([[[2,5,6],[3,5,9]],[[3,5,7],[8,3,2]]])\n",
    "print(arr)\n",
    "print(arr[1])\n",
    "print(\"\\n\")\n",
    "print(arr2)\n",
    "print(\"\\n\")\n",
    "print(arr2[0:1])\n",
    "print(\"\\n\")\n",
    "print(arr2[1:2])\n",
    "print(\"\\n\")\n",
    "print(arr3)"
   ]
  },
  {
   "cell_type": "code",
   "execution_count": 48,
   "id": "2ce6e71a-66c3-416c-85dd-3ac2320f1440",
   "metadata": {},
   "outputs": [
    {
     "name": "stdout",
     "output_type": "stream",
     "text": [
      "[1 3 4 5]\n",
      "3\n",
      "\n",
      "\n",
      "[[2 4 5 7]\n",
      " [9 5 3 2]]\n",
      "3\n",
      "\n",
      "\n",
      "[[[2 5 6]\n",
      "  [3 5 9]]\n",
      "\n",
      " [[3 5 7]\n",
      "  [8 3 2]]]\n",
      "9\n",
      "\n",
      "\n",
      "[[3 5 9]]\n",
      "\n",
      "\n",
      "[[3 5 7]]\n"
     ]
    }
   ],
   "source": [
    "import numpy as np\n",
    "\n",
    "arr=np.array([1,3,4,5])\n",
    "arr2=np.array([[2,4,5,7],[9,5,3,2]])\n",
    "arr3=np.array([[[2,5,6],[3,5,9]],[[3,5,7],[8,3,2]]])\n",
    "print(arr)\n",
    "print(arr[1])\n",
    "print(\"\\n\")\n",
    "print(arr2)\n",
    "print(arr2[1,2])\n",
    "print(\"\\n\")\n",
    "print(arr3)\n",
    "print(arr3[0,1,2])\n",
    "print(\"\\n\")\n",
    "print(arr3[0,1:2])\n",
    "print(\"\\n\")\n",
    "print(arr3[1,0:1])"
   ]
  },
  {
   "cell_type": "code",
   "execution_count": 49,
   "id": "fab493ec-313d-4cb2-ab92-870c61b037b9",
   "metadata": {},
   "outputs": [
    {
     "name": "stdout",
     "output_type": "stream",
     "text": [
      "23\n"
     ]
    }
   ],
   "source": [
    "import numpy as np\n",
    "arr0=np.array(23)\n",
    "print(arr0)"
   ]
  },
  {
   "cell_type": "code",
   "execution_count": 50,
   "id": "ca697c97-0b45-4139-838b-0f93cbcb4b70",
   "metadata": {},
   "outputs": [
    {
     "name": "stdout",
     "output_type": "stream",
     "text": [
      "0\n"
     ]
    }
   ],
   "source": [
    "import numpy as np\n",
    "arr0=np.array(23)\n",
    "print(arr0.ndim)"
   ]
  },
  {
   "cell_type": "code",
   "execution_count": 54,
   "id": "e4698674-5c82-4d76-bafa-919641b87c0d",
   "metadata": {},
   "outputs": [
    {
     "name": "stdout",
     "output_type": "stream",
     "text": [
      "4\n",
      "1\n"
     ]
    }
   ],
   "source": [
    "import numpy as np\n",
    "\n",
    "arr=np.array([1,3,4,5])\n",
    "print(arr[-2])\n",
    "print(arr.ndim)"
   ]
  },
  {
   "cell_type": "code",
   "execution_count": 57,
   "id": "c9d9fa71-2cb9-4e44-a977-74862c4ad524",
   "metadata": {},
   "outputs": [
    {
     "name": "stdout",
     "output_type": "stream",
     "text": [
      "[1 3]\n",
      "(2, 2)\n"
     ]
    }
   ],
   "source": [
    "import numpy as np\n",
    "\n",
    "arr=np.array([[1,3],[4,5]])\n",
    "print(arr[-2])\n",
    "print(arr.shape)"
   ]
  },
  {
   "cell_type": "code",
   "execution_count": 58,
   "id": "dcd1214a-37da-415d-a68f-3e7530e583cd",
   "metadata": {},
   "outputs": [
    {
     "name": "stdout",
     "output_type": "stream",
     "text": [
      "[1 3 4 5]\n"
     ]
    }
   ],
   "source": [
    "import numpy as np\n",
    "\n",
    "arr=np.array([1,3,4,5])\n",
    "arr2=arr.copy()\n",
    "print(arr2)"
   ]
  },
  {
   "cell_type": "code",
   "execution_count": 63,
   "id": "03d573e7-2a3b-4a3d-ba03-091833079049",
   "metadata": {},
   "outputs": [
    {
     "name": "stdout",
     "output_type": "stream",
     "text": [
      "[1 3 4 5 9 8 7 6]\n"
     ]
    }
   ],
   "source": [
    "import numpy as np\n",
    "\n",
    "arr=np.array([1,3,4,5])\n",
    "arr1=np.array([9,8,7,6])\n",
    "arr3=np.concatenate((arr,arr1))\n",
    "print(arr3)"
   ]
  },
  {
   "cell_type": "code",
   "execution_count": 64,
   "id": "6aa9718f-7a95-4cd0-a786-bb3374efa67e",
   "metadata": {},
   "outputs": [
    {
     "name": "stdout",
     "output_type": "stream",
     "text": [
      "[array([1, 3]), array([4, 5])]\n"
     ]
    }
   ],
   "source": [
    "import numpy as np\n",
    "\n",
    "arr=np.array([1,3,4,5])\n",
    "narr2=np.array_split(arr,2)\n",
    "print(narr2)"
   ]
  },
  {
   "cell_type": "code",
   "execution_count": 65,
   "id": "4f82b15a-5077-4604-9da2-2a309fec6356",
   "metadata": {},
   "outputs": [
    {
     "name": "stdout",
     "output_type": "stream",
     "text": [
      "(array([], dtype=int64),)\n"
     ]
    }
   ],
   "source": [
    "import numpy as np\n",
    "\n",
    "arr=np.array([1,3,4,5])\n",
    "arr1=np.where(arr==2)\n",
    "print(arr1)"
   ]
  },
  {
   "cell_type": "code",
   "execution_count": 66,
   "id": "2c663fcd-b08a-41ab-b2b9-a2e93cf0a961",
   "metadata": {},
   "outputs": [
    {
     "name": "stdout",
     "output_type": "stream",
     "text": [
      "(array([3], dtype=int64),)\n"
     ]
    }
   ],
   "source": [
    "import numpy as np\n",
    "\n",
    "arr=np.array([1,3,4,5])\n",
    "arr1=np.where(arr==5)\n",
    "print(arr1)"
   ]
  },
  {
   "cell_type": "code",
   "execution_count": 68,
   "id": "245364ee-5b62-41ff-9f85-038098b8cc17",
   "metadata": {},
   "outputs": [
    {
     "name": "stdout",
     "output_type": "stream",
     "text": [
      "[1 2 5 9]\n"
     ]
    }
   ],
   "source": [
    "import numpy as np\n",
    "\n",
    "arr=np.array([9,1,5,2])\n",
    "print(np.sort(arr))"
   ]
  },
  {
   "cell_type": "code",
   "execution_count": 69,
   "id": "5d4ffae8-65f1-4b34-82ca-ae2fccdde9d6",
   "metadata": {},
   "outputs": [
    {
     "name": "stdout",
     "output_type": "stream",
     "text": [
      "[18  9 12  8]\n"
     ]
    }
   ],
   "source": [
    "import numpy as np\n",
    "\n",
    "arr=np.array([9,1,5,2])\n",
    "arr1=np.array([9,8,7,6])\n",
    "arr2=arr+arr1\n",
    "print(arr2)"
   ]
  },
  {
   "cell_type": "code",
   "execution_count": 70,
   "id": "8d026be5-dbee-4083-a8d9-751653099ff7",
   "metadata": {},
   "outputs": [
    {
     "name": "stdout",
     "output_type": "stream",
     "text": [
      "[[9 1 5 2]\n",
      " [3 4 6 7]]\n"
     ]
    }
   ],
   "source": [
    "import numpy as np\n",
    "\n",
    "arr=np.array([9,1,5,2,3,4,6,7])\n",
    "newarr=arr.reshape(2,4)\n",
    "print(newarr)"
   ]
  },
  {
   "cell_type": "code",
   "execution_count": null,
   "id": "9e87f354-03a4-4e59-a0c7-040e65548786",
   "metadata": {},
   "outputs": [],
   "source": []
  }
 ],
 "metadata": {
  "kernelspec": {
   "display_name": "Python 3 (ipykernel)",
   "language": "python",
   "name": "python3"
  },
  "language_info": {
   "codemirror_mode": {
    "name": "ipython",
    "version": 3
   },
   "file_extension": ".py",
   "mimetype": "text/x-python",
   "name": "python",
   "nbconvert_exporter": "python",
   "pygments_lexer": "ipython3",
   "version": "3.11.7"
  }
 },
 "nbformat": 4,
 "nbformat_minor": 5
}
