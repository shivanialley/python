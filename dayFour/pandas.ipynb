{
 "cells": [
  {
   "cell_type": "code",
   "execution_count": 1,
   "id": "0a9288dc-93d7-4195-bd94-d8950a2b5b17",
   "metadata": {},
   "outputs": [
    {
     "name": "stdout",
     "output_type": "stream",
     "text": [
      "0    3\n",
      "1    5\n",
      "2    6\n",
      "dtype: int64\n"
     ]
    }
   ],
   "source": [
    "import pandas as pd\n",
    "\n",
    "a=[3,5,6]\n",
    "myvar=pd.Series(a)\n",
    "print(myvar)"
   ]
  },
  {
   "cell_type": "code",
   "execution_count": 2,
   "id": "026335a3-5760-4e25-8c13-ab4389d8e193",
   "metadata": {},
   "outputs": [
    {
     "name": "stdout",
     "output_type": "stream",
     "text": [
      "0     Mon\n",
      "1    Tues\n",
      "2     Wed\n",
      "dtype: object\n"
     ]
    }
   ],
   "source": [
    "import pandas as pd\n",
    "\n",
    "a=[\"Mon\",\"Tues\",\"Wed\"]\n",
    "myvar=pd.Series(a)\n",
    "print(myvar)"
   ]
  },
  {
   "cell_type": "code",
   "execution_count": 21,
   "id": "85c02a37-7dd5-47fb-9c42-4ee4b657c5ba",
   "metadata": {},
   "outputs": [
    {
     "name": "stdout",
     "output_type": "stream",
     "text": [
      "     car  passings\n",
      "0    BMW         3\n",
      "1  Volvo         5\n",
      "2   Ford         7\n",
      "3   oddi         9\n",
      "car         BMW\n",
      "passings      3\n",
      "Name: 0, dtype: object\n",
      "    car  passings\n",
      "0   BMW         3\n",
      "2  Ford         7\n",
      "     car  passings\n",
      "0    BMW         3\n",
      "1  Volvo         5\n",
      "2   Ford         7\n",
      "     car  passings\n",
      "1  Volvo         5\n",
      "2   Ford         7\n",
      "3   oddi         9\n"
     ]
    }
   ],
   "source": [
    "#DataFrames\n",
    "import pandas as pd\n",
    "\n",
    "mydataset={\n",
    "    'car':[\"BMW\",\"Volvo\",\"Ford\",\"oddi\"],\n",
    "    'passings':[3,5,7,9]\n",
    "}\n",
    "\n",
    "myvar = pd.DataFrame(mydataset)\n",
    "print(myvar)\n",
    "print(myvar.loc[0])#location of row only \n",
    "print(myvar.loc[[0,2]])\n",
    "print(myvar.head(3))\n",
    "print(myvar.tail(3))"
   ]
  },
  {
   "cell_type": "code",
   "execution_count": 4,
   "id": "038133a7-4dc4-4951-994f-69f7ec9ed31e",
   "metadata": {},
   "outputs": [
    {
     "name": "stdout",
     "output_type": "stream",
     "text": [
      "Mon\n"
     ]
    }
   ],
   "source": [
    "import pandas as pd\n",
    "\n",
    "a=[\"Mon\",\"Tues\",\"Wed\"]\n",
    "myvar=pd.Series(a)\n",
    "print(myvar[0])"
   ]
  },
  {
   "cell_type": "code",
   "execution_count": 9,
   "id": "8418bfd6-cab5-41ff-a0a9-d623fd6a708c",
   "metadata": {},
   "outputs": [
    {
     "name": "stdout",
     "output_type": "stream",
     "text": [
      "day1     Mon\n",
      "day2    Tues\n",
      "day3     Wed\n",
      "dtype: object\n",
      "Wed\n"
     ]
    }
   ],
   "source": [
    "import pandas as pd\n",
    "\n",
    "a=[\"Mon\",\"Tues\",\"Wed\"]\n",
    "myvar=pd.Series(a,index=[\"day1\",\"day2\",\"day3\"])\n",
    "print(myvar)\n",
    "print(myvar[\"day3\"])"
   ]
  },
  {
   "cell_type": "code",
   "execution_count": 11,
   "id": "9a20b639-d8bf-4535-a8bc-4e508731d238",
   "metadata": {},
   "outputs": [
    {
     "name": "stdout",
     "output_type": "stream",
     "text": [
      "day1     Mon\n",
      "day2    Tues\n",
      "day3     Wed\n",
      "dtype: object\n",
      "Wed\n"
     ]
    }
   ],
   "source": [
    "import pandas as pd\n",
    "\n",
    "a={\"day1\":\"Mon\",\"day2\":\"Tues\",\"day3\":\"Wed\"}\n",
    "myvar=pd.Series(a)\n",
    "print(myvar)\n",
    "print(myvar[\"day3\"])"
   ]
  },
  {
   "cell_type": "code",
   "execution_count": 26,
   "id": "a03119bb-192b-4434-8436-044400642861",
   "metadata": {},
   "outputs": [
    {
     "name": "stdout",
     "output_type": "stream",
     "text": [
      "    S.No.     Grocery  Quantity\n",
      "0       1       Bread         1\n",
      "1       2        Ragi         6\n",
      "2       3     Biscuit         5\n",
      "3       4     Namkeen         3\n",
      "4       5      Maggie         2\n",
      "5       6  Vermicilli         9\n",
      "6       7        Aata         5\n",
      "7       8       Bread         1\n",
      "8       9        Ragi         6\n",
      "9      10     Biscuit         5\n",
      "10     11     Namkeen         3\n",
      "11     12      Maggie         2\n",
      "12     13  Vermicilli         9\n",
      "13     14        Aata         5\n",
      "14     15       Bread         1\n",
      "15     16        Ragi         6\n",
      "16     17     Biscuit         5\n",
      "17     18     Namkeen         3\n",
      "18     19      Maggie         2\n",
      "19     20  Vermicilli         9\n",
      "20     21        Aata         5\n"
     ]
    }
   ],
   "source": [
    "import pandas as pd\n",
    "\n",
    "df=pd.read_csv(\"Book2.csv\")\n",
    "print(df)"
   ]
  },
  {
   "cell_type": "code",
   "execution_count": 27,
   "id": "6442cbba-0e51-455b-88c3-1381b685e6c1",
   "metadata": {},
   "outputs": [
    {
     "name": "stdout",
     "output_type": "stream",
     "text": [
      "   S.No.  Grocery  Quantity\n",
      "0      1    Bread         1\n",
      "1      2     Ragi         6\n",
      "2      3  Biscuit         5\n",
      "3      4  Namkeen         3\n",
      "4      5   Maggie         2\n"
     ]
    }
   ],
   "source": [
    "import pandas as pd\n",
    "\n",
    "df=pd.read_csv(\"Book2.csv\")\n",
    "print(df.head(5))"
   ]
  },
  {
   "cell_type": "code",
   "execution_count": 28,
   "id": "b262a97a-a399-4cdf-8828-511ed9c93067",
   "metadata": {},
   "outputs": [
    {
     "name": "stdout",
     "output_type": "stream",
     "text": [
      "    S.No.     Grocery  Quantity\n",
      "16     17     Biscuit         5\n",
      "17     18     Namkeen         3\n",
      "18     19      Maggie         2\n",
      "19     20  Vermicilli         9\n",
      "20     21        Aata         5\n"
     ]
    }
   ],
   "source": [
    "import pandas as pd\n",
    "\n",
    "df=pd.read_csv(\"Book2.csv\")\n",
    "print(df.tail(5))"
   ]
  },
  {
   "cell_type": "code",
   "execution_count": 29,
   "id": "8a2d3b2e-c712-4868-8bed-6ded4a4e573d",
   "metadata": {},
   "outputs": [
    {
     "name": "stdout",
     "output_type": "stream",
     "text": [
      "<class 'pandas.core.frame.DataFrame'>\n",
      "RangeIndex: 21 entries, 0 to 20\n",
      "Data columns (total 3 columns):\n",
      " #   Column    Non-Null Count  Dtype \n",
      "---  ------    --------------  ----- \n",
      " 0   S.No.     21 non-null     int64 \n",
      " 1   Grocery   21 non-null     object\n",
      " 2   Quantity  21 non-null     int64 \n",
      "dtypes: int64(2), object(1)\n",
      "memory usage: 632.0+ bytes\n",
      "None\n"
     ]
    }
   ],
   "source": [
    "import pandas as pd\n",
    "\n",
    "df=pd.read_csv(\"Book2.csv\")\n",
    "print(df.info())"
   ]
  },
  {
   "cell_type": "code",
   "execution_count": 30,
   "id": "7fd8d00f-fbb6-4855-baee-edd7f7d2d616",
   "metadata": {},
   "outputs": [
    {
     "name": "stdout",
     "output_type": "stream",
     "text": [
      "    S.No.     Grocery  Quantity\n",
      "0       1       Bread         1\n",
      "1       2        Ragi         6\n",
      "2       3     Biscuit         5\n",
      "3       4     Namkeen         3\n",
      "4       5      Maggie         2\n",
      "5       6  Vermicilli         9\n",
      "6       7        Aata         5\n",
      "7       8       Bread         1\n",
      "8       9        Ragi         6\n",
      "9      10     Biscuit         5\n",
      "10     11     Namkeen         3\n",
      "11     12      Maggie         2\n",
      "12     13  Vermicilli         9\n",
      "13     14        Aata         5\n",
      "14     15       Bread         1\n",
      "15     16        Ragi         6\n",
      "16     17     Biscuit         5\n",
      "17     18     Namkeen         3\n",
      "18     19      Maggie         2\n",
      "19     20  Vermicilli         9\n",
      "20     21        Aata         5\n"
     ]
    }
   ],
   "source": [
    "import pandas as pd\n",
    "\n",
    "df=pd.read_csv(\"Book2.csv\")\n",
    "print(df.to_string())"
   ]
  },
  {
   "cell_type": "code",
   "execution_count": 32,
   "id": "896f629a-d2bb-4ced-94f6-61746a839407",
   "metadata": {},
   "outputs": [
    {
     "name": "stdout",
     "output_type": "stream",
     "text": [
      "    S.No.     Grocery  Quantity\n",
      "0       1       Bread       1.0\n",
      "1       2        Ragi       6.0\n",
      "2       3     Biscuit       NaN\n",
      "3       4     Namkeen       3.0\n",
      "4       5      Maggie       2.0\n",
      "5       6  Vermicilli       9.0\n",
      "6       7        Aata       5.0\n",
      "7       8       Bread       NaN\n",
      "8       9        Ragi       6.0\n",
      "9      10     Biscuit       5.0\n",
      "10     11     Namkeen       NaN\n",
      "11     12      Maggie       2.0\n",
      "12     13  Vermicilli       9.0\n",
      "13     14        Aata       NaN\n",
      "14     15       Bread       1.0\n",
      "15     16        Ragi       6.0\n",
      "16     17     Biscuit       5.0\n",
      "17     18     Namkeen       3.0\n",
      "18     19      Maggie       2.0\n",
      "19     20  Vermicilli       9.0\n",
      "20     21        Aata       5.0\n",
      "    S.No.     Grocery  Quantity\n",
      "0       1       Bread       1.0\n",
      "1       2        Ragi       6.0\n",
      "3       4     Namkeen       3.0\n",
      "4       5      Maggie       2.0\n",
      "5       6  Vermicilli       9.0\n",
      "6       7        Aata       5.0\n",
      "8       9        Ragi       6.0\n",
      "9      10     Biscuit       5.0\n",
      "11     12      Maggie       2.0\n",
      "12     13  Vermicilli       9.0\n",
      "14     15       Bread       1.0\n",
      "15     16        Ragi       6.0\n",
      "16     17     Biscuit       5.0\n",
      "17     18     Namkeen       3.0\n",
      "18     19      Maggie       2.0\n",
      "19     20  Vermicilli       9.0\n",
      "20     21        Aata       5.0\n"
     ]
    }
   ],
   "source": [
    "import pandas as pd\n",
    "\n",
    "df=pd.read_csv(\"Book3.csv\")\n",
    "print(df)\n",
    "newdf=df.dropna()\n",
    "print(newdf)"
   ]
  },
  {
   "cell_type": "code",
   "execution_count": 33,
   "id": "8d821647-40f9-4d05-baa0-5f1ff68ae0e3",
   "metadata": {},
   "outputs": [
    {
     "name": "stdout",
     "output_type": "stream",
     "text": [
      "    S.No.     Grocery  Quantity\n",
      "0       1       Bread       1.0\n",
      "1       2        Ragi       6.0\n",
      "3       4     Namkeen       3.0\n",
      "4       5      Maggie       2.0\n",
      "5       6  Vermicilli       9.0\n",
      "6       7        Aata       5.0\n",
      "8       9        Ragi       6.0\n",
      "9      10     Biscuit       5.0\n",
      "11     12      Maggie       2.0\n",
      "12     13  Vermicilli       9.0\n",
      "14     15       Bread       1.0\n",
      "15     16        Ragi       6.0\n",
      "16     17     Biscuit       5.0\n",
      "17     18     Namkeen       3.0\n",
      "18     19      Maggie       2.0\n",
      "19     20  Vermicilli       9.0\n",
      "20     21        Aata       5.0\n"
     ]
    }
   ],
   "source": [
    "import pandas as pd\n",
    "\n",
    "df=pd.read_csv(\"Book3.csv\")\n",
    "\n",
    "df.dropna(inplace=True)\n",
    "print(df)"
   ]
  },
  {
   "cell_type": "code",
   "execution_count": 35,
   "id": "0e827b8a-09cc-4702-93ab-3cb980157ee8",
   "metadata": {},
   "outputs": [
    {
     "name": "stdout",
     "output_type": "stream",
     "text": [
      "    S.No.     Grocery  Quantity\n",
      "0       1       Bread       1.0\n",
      "1       2        Ragi       6.0\n",
      "2       3     Biscuit       2.0\n",
      "3       4     Namkeen       3.0\n",
      "4       5      Maggie       2.0\n",
      "5       6  Vermicilli       9.0\n",
      "6       7        Aata       5.0\n",
      "7       8       Bread       2.0\n",
      "8       9        Ragi       6.0\n",
      "9      10     Biscuit       5.0\n",
      "10     11     Namkeen       2.0\n",
      "11     12      Maggie       2.0\n",
      "12     13  Vermicilli       9.0\n",
      "13     14        Aata       2.0\n",
      "14     15       Bread       1.0\n",
      "15     16        Ragi       6.0\n",
      "16     17     Biscuit       5.0\n",
      "17     18     Namkeen       3.0\n",
      "18     19      Maggie       2.0\n",
      "19     20  Vermicilli       9.0\n",
      "20     21        Aata       5.0\n"
     ]
    }
   ],
   "source": [
    "import pandas as pd\n",
    "\n",
    "df=pd.read_csv(\"Book3.csv\")\n",
    "\n",
    "df.fillna(2,inplace=True)\n",
    "print(df)"
   ]
  },
  {
   "cell_type": "code",
   "execution_count": 36,
   "id": "90f28053-e49f-42d8-9831-720fef926230",
   "metadata": {},
   "outputs": [
    {
     "name": "stdout",
     "output_type": "stream",
     "text": [
      "    S.No.     Grocery  Quantity\n",
      "0       1       Bread       1.0\n",
      "1       2        Ragi       6.0\n",
      "2       3     Biscuit       2.0\n",
      "3       4     Namkeen       3.0\n",
      "4       5           2       2.0\n",
      "5       6  Vermicilli       9.0\n",
      "6       7        Aata       5.0\n",
      "7       8       Bread       2.0\n",
      "8       9        Ragi       6.0\n",
      "9      10     Biscuit       5.0\n",
      "10     11     Namkeen       2.0\n",
      "11     12      Maggie       2.0\n",
      "12     13  Vermicilli       9.0\n",
      "13     14        Aata       2.0\n",
      "14     15       Bread       1.0\n",
      "15     16        Ragi       6.0\n",
      "16     17           2       5.0\n",
      "17     18     Namkeen       3.0\n",
      "18     19      Maggie       2.0\n",
      "19     20  Vermicilli       9.0\n",
      "20     21           2       5.0\n"
     ]
    }
   ],
   "source": [
    "import pandas as pd\n",
    "\n",
    "df=pd.read_csv(\"Book3.csv\")\n",
    "\n",
    "df.fillna(2,inplace=True)\n",
    "print(df)"
   ]
  },
  {
   "cell_type": "code",
   "execution_count": 37,
   "id": "08563c72-9d9e-4b76-a93e-238b01127dd8",
   "metadata": {},
   "outputs": [
    {
     "name": "stdout",
     "output_type": "stream",
     "text": [
      "    S.No.     Grocery  Quantity\n",
      "0       1       Bread       1.0\n",
      "1       2        Ragi       6.0\n",
      "2       3     Biscuit       2.0\n",
      "3       4     Namkeen       3.0\n",
      "4       5         NaN       2.0\n",
      "5       6  Vermicilli       9.0\n",
      "6       7        Aata       5.0\n",
      "7       8       Bread       2.0\n",
      "8       9        Ragi       6.0\n",
      "9      10     Biscuit       5.0\n",
      "10     11     Namkeen       2.0\n",
      "11     12      Maggie       2.0\n",
      "12     13  Vermicilli       9.0\n",
      "13     14        Aata       2.0\n",
      "14     15       Bread       1.0\n",
      "15     16        Ragi       6.0\n",
      "16     17         NaN       5.0\n",
      "17     18     Namkeen       3.0\n",
      "18     19      Maggie       2.0\n",
      "19     20  Vermicilli       9.0\n",
      "20     21         NaN       5.0\n"
     ]
    }
   ],
   "source": [
    "import pandas as pd\n",
    "\n",
    "df=pd.read_csv(\"Book3.csv\")\n",
    "\n",
    "df[\"Quantity\"].fillna(2,inplace=True)\n",
    "print(df)"
   ]
  },
  {
   "cell_type": "code",
   "execution_count": 38,
   "id": "c2f3953a-7150-4f7a-a221-811593e41ce3",
   "metadata": {},
   "outputs": [
    {
     "name": "stdout",
     "output_type": "stream",
     "text": [
      "    S.No.     Grocery  Quantity\n",
      "0       1       Bread       1.0\n",
      "1       2        Ragi       6.0\n",
      "2       3     Biscuit       2.0\n",
      "3       4     Namkeen       3.0\n",
      "4       5       Lemon       2.0\n",
      "5       6  Vermicilli       9.0\n",
      "6       7        Aata       5.0\n",
      "7       8       Bread       2.0\n",
      "8       9        Ragi       6.0\n",
      "9      10     Biscuit       5.0\n",
      "10     11     Namkeen       2.0\n",
      "11     12      Maggie       2.0\n",
      "12     13  Vermicilli       9.0\n",
      "13     14        Aata       2.0\n",
      "14     15       Bread       1.0\n",
      "15     16        Ragi       6.0\n",
      "16     17       Lemon       5.0\n",
      "17     18     Namkeen       3.0\n",
      "18     19      Maggie       2.0\n",
      "19     20  Vermicilli       9.0\n",
      "20     21       Lemon       5.0\n"
     ]
    }
   ],
   "source": [
    "import pandas as pd\n",
    "\n",
    "df=pd.read_csv(\"Book3.csv\")\n",
    "\n",
    "df[\"Quantity\"].fillna(2,inplace=True)\n",
    "df[\"Grocery\"].fillna(\"Lemon\",inplace=True)\n",
    "print(df)"
   ]
  },
  {
   "cell_type": "code",
   "execution_count": 1,
   "id": "81539b24-91fb-4a0c-8f43-7ff70a712a66",
   "metadata": {},
   "outputs": [
    {
     "name": "stdout",
     "output_type": "stream",
     "text": [
      "   S.No       Date  Pulse\n",
      "0     1 2020-12-30    130\n",
      "1     2 2020-02-28     98\n",
      "2     3 2020-03-25    110\n",
      "3     4 2020-05-22     90\n",
      "4     5 2020-04-20     89\n"
     ]
    },
    {
     "name": "stderr",
     "output_type": "stream",
     "text": [
      "C:\\Users\\corporate\\AppData\\Local\\Temp\\ipykernel_7880\\2122317958.py:3: UserWarning: Parsing '30-12-2020' in DD/MM/YYYY format. Provide format or specify infer_datetime_format=True for consistent parsing.\n",
      "  df[\"Date\"]=pd.to_datetime(df[\"Date\"])\n",
      "C:\\Users\\corporate\\AppData\\Local\\Temp\\ipykernel_7880\\2122317958.py:3: UserWarning: Parsing '28-02-2020' in DD/MM/YYYY format. Provide format or specify infer_datetime_format=True for consistent parsing.\n",
      "  df[\"Date\"]=pd.to_datetime(df[\"Date\"])\n",
      "C:\\Users\\corporate\\AppData\\Local\\Temp\\ipykernel_7880\\2122317958.py:3: UserWarning: Parsing '22-05-2020' in DD/MM/YYYY format. Provide format or specify infer_datetime_format=True for consistent parsing.\n",
      "  df[\"Date\"]=pd.to_datetime(df[\"Date\"])\n",
      "C:\\Users\\corporate\\AppData\\Local\\Temp\\ipykernel_7880\\2122317958.py:3: UserWarning: Parsing '20-04-2020' in DD/MM/YYYY format. Provide format or specify infer_datetime_format=True for consistent parsing.\n",
      "  df[\"Date\"]=pd.to_datetime(df[\"Date\"])\n"
     ]
    }
   ],
   "source": [
    "import pandas as pd\n",
    "df=pd.read_csv(\"Book5.csv\")\n",
    "df[\"Date\"]=pd.to_datetime(df[\"Date\"])\n",
    "print(df)"
   ]
  },
  {
   "cell_type": "code",
   "execution_count": 1,
   "id": "ba238112-942a-493d-9e35-97a38c492c7c",
   "metadata": {},
   "outputs": [
    {
     "name": "stdout",
     "output_type": "stream",
     "text": [
      "    S.No.     Grocery  Quantity\n",
      "0       1       Bread       1.0\n",
      "1       2        Ragi       6.0\n",
      "2       3     Biscuit       NaN\n",
      "3       4     Namkeen       3.0\n",
      "4       5         NaN       2.0\n",
      "5       6  Vermicilli       9.0\n",
      "6       7        Aata       5.0\n",
      "7       8  Watermelon       NaN\n",
      "8       9        Ragi       6.0\n",
      "9      10     Biscuit       5.0\n",
      "10     11     Namkeen       NaN\n",
      "11     12      Maggie       2.0\n",
      "12     13  Vermicilli       9.0\n",
      "13     14        Aata       NaN\n",
      "14     15       Bread       1.0\n",
      "15     16        Ragi       6.0\n",
      "16     17         NaN       5.0\n",
      "17     18     Namkeen       3.0\n",
      "18     19      Maggie       2.0\n",
      "19     20  Vermicilli       9.0\n",
      "20     21         NaN       5.0\n"
     ]
    }
   ],
   "source": [
    "import pandas as pd\n",
    "df=pd.read_csv(\"Book3.csv\")\n",
    "df.loc[7,\"Grocery\"]=\"Watermelon\"\n",
    "print(df)"
   ]
  },
  {
   "cell_type": "code",
   "execution_count": 4,
   "id": "928162d8-176d-40c7-920a-1e7a8fbc3781",
   "metadata": {},
   "outputs": [
    {
     "name": "stdout",
     "output_type": "stream",
     "text": [
      "    S.No.     Grocery  Quantity\n",
      "0       1       Bread       1.0\n",
      "2       3     Biscuit       NaN\n",
      "3       4     Namkeen       3.0\n",
      "4       5      Maggie       2.0\n",
      "5       6  Vermicilli       9.0\n",
      "6       7        Aata       5.0\n",
      "7       8       Bread       NaN\n",
      "8       9        Ragi       6.0\n",
      "9      10     Biscuit       5.0\n",
      "10     11     Namkeen       NaN\n",
      "11     12      Maggie       2.0\n",
      "12     13  Vermicilli       9.0\n",
      "13     14        Aata       NaN\n",
      "14     15       Bread       1.0\n",
      "15     16        Ragi       6.0\n",
      "16     17     Biscuit       5.0\n",
      "17     18     Namkeen       3.0\n",
      "18     19      Maggie       2.0\n",
      "19     20  Vermicilli       9.0\n",
      "20     21        Aata       5.0\n"
     ]
    }
   ],
   "source": [
    "import pandas as pd\n",
    "df=pd.read_csv(\"Book2.csv\")\n",
    "df.drop_duplicates(inplace=True)\n",
    "print(df)\n",
    "#print(df.duplicated())"
   ]
  },
  {
   "cell_type": "code",
   "execution_count": 5,
   "id": "8b47d599-7b8e-4510-9d0b-d69d9eca3524",
   "metadata": {},
   "outputs": [
    {
     "name": "stdout",
     "output_type": "stream",
     "text": [
      "0     False\n",
      "1      True\n",
      "2     False\n",
      "3     False\n",
      "4     False\n",
      "5     False\n",
      "6     False\n",
      "7     False\n",
      "8     False\n",
      "9     False\n",
      "10    False\n",
      "11    False\n",
      "12    False\n",
      "13    False\n",
      "14    False\n",
      "15    False\n",
      "16    False\n",
      "17    False\n",
      "18    False\n",
      "19    False\n",
      "20    False\n",
      "dtype: bool\n"
     ]
    }
   ],
   "source": [
    "import pandas as pd\n",
    "df=pd.read_csv(\"Book2.csv\")\n",
    "print(df.duplicated())"
   ]
  },
  {
   "cell_type": "code",
   "execution_count": null,
   "id": "cb1b9e76-b1a5-4436-b65f-2ca76d8b9e89",
   "metadata": {},
   "outputs": [],
   "source": []
  }
 ],
 "metadata": {
  "kernelspec": {
   "display_name": "Python 3 (ipykernel)",
   "language": "python",
   "name": "python3"
  },
  "language_info": {
   "codemirror_mode": {
    "name": "ipython",
    "version": 3
   },
   "file_extension": ".py",
   "mimetype": "text/x-python",
   "name": "python",
   "nbconvert_exporter": "python",
   "pygments_lexer": "ipython3",
   "version": "3.9.13"
  }
 },
 "nbformat": 4,
 "nbformat_minor": 5
}
