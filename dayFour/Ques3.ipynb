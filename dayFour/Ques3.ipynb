{
 "cells": [
  {
   "cell_type": "code",
   "execution_count": 3,
   "id": "34de4097-f141-48ce-a295-a8fd078ecf5b",
   "metadata": {},
   "outputs": [
    {
     "name": "stdout",
     "output_type": "stream",
     "text": [
      "Vehicle Information:\n",
      "Number of Wheels: 4\n",
      "Number of Airbags: 2\n",
      "Max Speed: 180 km/h\n",
      "\n",
      "\n",
      "Vehicle Information:\n",
      "Number of Wheels: 6\n",
      "Number of Airbags: 4\n",
      "Max Speed: 100 km/h\n",
      "Bus Information:\n",
      "Number of Doors: 2\n",
      "Fare per km: Rs. 16\n",
      "Number of Seats: 30\n"
     ]
    }
   ],
   "source": [
    "\"\"\"Ques3 Create a child class bus from vehicle class that inherit all of the variables & \n",
    "methods from vehicles class the bus class have its own attributes number at doors, \n",
    "fair per kilometer, number of seats, along with inherited attributes\"\"\"\n",
    "class Vehicle:\n",
    "    def __init__(self, num_wheels, num_airbags, max_speed):\n",
    "        self.no_wheel = num_wheels\n",
    "        self.no_airbag = num_airbags\n",
    "        self.max_speed = max_speed\n",
    "    \n",
    "    def display_info(self):\n",
    "        print(\"Vehicle Information:\")\n",
    "        print(\"Number of Wheels:\", self.no_wheel)\n",
    "        print(\"Number of Airbags:\", self.no_airbag)\n",
    "        print(\"Max Speed:\", self.max_speed, \"km/h\")\n",
    "\n",
    "\n",
    "class Bus(Vehicle):\n",
    "    def __init__(self, no_wheel, no_airbag, max_speed, no_door, fare_per_km, no_seat):\n",
    "        super().__init__(no_wheel, no_airbag, max_speed)\n",
    "        self.no_door = no_door\n",
    "        self.fare_per_km = fare_per_km\n",
    "        self.no_seat = no_seat\n",
    "    \n",
    "    def display_info(self):\n",
    "        super().display_info()\n",
    "        print(\"Bus Information:\")\n",
    "        print(\"Number of Doors:\", self.no_door)\n",
    "        print(\"Fare per km:\",\"Rs.\", self.fare_per_km)\n",
    "        print(\"Number of Seats:\", self.no_seat)\n",
    "    \n",
    "vehicle1 = Vehicle(4, 2, 180)\n",
    "vehicle1.display_info()\n",
    "\n",
    "print(\"\\n\")\n",
    "\n",
    "bus1 = Bus(6, 4, 100, 2, 16, 30)\n",
    "bus1.display_info()"
   ]
  },
  {
   "cell_type": "code",
   "execution_count": 2,
   "id": "5d7bfc39-c5d9-41c2-a941-f7396a3a9a0e",
   "metadata": {},
   "outputs": [
    {
     "name": "stdout",
     "output_type": "stream",
     "text": [
      "Vehicle Information:\n",
      "Number of Wheels: 4\n",
      "Number of Airbags: 2\n",
      "Max Speed: 180 km/h\n",
      "\n",
      "\n",
      "Vehicle Information:\n",
      "Number of Wheels: 6\n",
      "Number of Airbags: 4\n",
      "Max Speed: 100 km/h\n",
      "Bus Information:\n",
      "Number of Doors: 2\n",
      "Fare per km: Rs. 16\n",
      "Number of Seats: 30\n",
      "Fare for 10 km journey: Rs 160\n"
     ]
    }
   ],
   "source": [
    "#Write a method to calculate bus fair by accepting distance in kilometer as parameter\n",
    "class Vehicle:\n",
    "    def __init__(self, no_wheel, no_airbag, max_speed):\n",
    "        self.no_wheel = no_wheel\n",
    "        self.no_airbag = no_airbag\n",
    "        self.max_speed = max_speed\n",
    "    \n",
    "    def display_info(self):\n",
    "        print(\"Vehicle Information:\")\n",
    "        print(\"Number of Wheels:\", self.no_wheel)\n",
    "        print(\"Number of Airbags:\", self.no_airbag)\n",
    "        print(\"Max Speed:\", self.max_speed, \"km/h\")\n",
    "\n",
    "\n",
    "class Bus(Vehicle):\n",
    "    def __init__(self, no_wheel, no_airbag, max_speed, no_door, fare_per_km, no_seat):\n",
    "        super().__init__(no_wheel, no_airbag, max_speed)\n",
    "        self.no_door = no_door\n",
    "        self.fare_per_km = fare_per_km\n",
    "        self.no_seat = no_seat\n",
    "    \n",
    "    def display_info(self):\n",
    "        super().display_info()\n",
    "        print(\"Bus Information:\")\n",
    "        print(\"Number of Doors:\", self.no_door)\n",
    "        print(\"Fare per km:\",\"Rs.\", self.fare_per_km)\n",
    "        print(\"Number of Seats:\", self.no_seat)\n",
    "    \n",
    "    def calculate_fare(self, distance_km):\n",
    "        total_fare = distance_km * self.fare_per_km\n",
    "        return total_fare\n",
    "\n",
    "\n",
    "vehicle1 = Vehicle(4, 2, 180)\n",
    "vehicle1.display_info()\n",
    "\n",
    "print(\"\\n\")\n",
    "\n",
    "bus1 = Bus(6, 4, 100, 2, 16, 30)\n",
    "bus1.display_info()\n",
    "distance = 10  \n",
    "fare = bus1.calculate_fare(distance)\n",
    "print(\"Fare for\", distance, \"km journey: Rs\", fare)"
   ]
  },
  {
   "cell_type": "code",
   "execution_count": null,
   "id": "0cd6e16e-72e9-412f-b67a-272f2e0a796e",
   "metadata": {},
   "outputs": [],
   "source": []
  }
 ],
 "metadata": {
  "kernelspec": {
   "display_name": "Python 3 (ipykernel)",
   "language": "python",
   "name": "python3"
  },
  "language_info": {
   "codemirror_mode": {
    "name": "ipython",
    "version": 3
   },
   "file_extension": ".py",
   "mimetype": "text/x-python",
   "name": "python",
   "nbconvert_exporter": "python",
   "pygments_lexer": "ipython3",
   "version": "3.11.7"
  }
 },
 "nbformat": 4,
 "nbformat_minor": 5
}
