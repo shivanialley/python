{
 "cells": [
  {
   "cell_type": "code",
   "execution_count": 2,
   "id": "72f55f31-4377-4188-878d-4f5c99b45fe4",
   "metadata": {},
   "outputs": [
    {
     "name": "stdout",
     "output_type": "stream",
     "text": [
      "4,2,100\n"
     ]
    }
   ],
   "source": [
    " #Ques2 Create a vehicle class with attributes no of wheels no of airbags,Max speed etc \n",
    "      #Create a constructor & a method that displays vehicle's info\n",
    "class Vehicle:\n",
    "    def __init__(self,no_wheel,no_airbag,max_speed):\n",
    "        self.no_wheel=no_wheel\n",
    "        self.no_airbag=no_airbag\n",
    "        self.max_speed=max_speed\n",
    "    def __str__(self):\n",
    "        return f\"{self.no_wheel},{self.no_airbag},{self.max_speed}\"\n",
    "V=Vehicle(4,2,100)\n",
    "print(V)"
   ]
  },
  {
   "cell_type": "code",
   "execution_count": 1,
   "id": "147aa5a3-cf11-4caa-a2ce-ac68949e07dc",
   "metadata": {},
   "outputs": [
    {
     "name": "stdout",
     "output_type": "stream",
     "text": [
      "Vehicle Information:\n",
      "Number of Wheels: 4\n",
      "Number of Airbags: 2\n",
      "Max Speed: 100 km/h\n"
     ]
    }
   ],
   "source": [
    "class Vehicle:\n",
    "    def __init__(self,no_wheel,no_airbag,max_speed):\n",
    "        self.no_wheel=no_wheel\n",
    "        self.no_airbag=no_airbag\n",
    "        self.max_speed=max_speed\n",
    "    def __str__(self):\n",
    "        return f\"{self.no_wheel},{self.no_airbag},{self.max_speed}\"\n",
    "    def display_info(self):\n",
    "        print(\"Vehicle Information:\")\n",
    "        print(\"Number of Wheels:\", self.no_wheel)\n",
    "        print(\"Number of Airbags:\", self.no_airbag)\n",
    "        print(\"Max Speed:\", self.max_speed, \"km/h\")\n",
    "\n",
    "V=Vehicle(4,2,100)\n",
    "V.display_info()"
   ]
  },
  {
   "cell_type": "code",
   "execution_count": null,
   "id": "95900752-6c4e-4d6b-8891-e1faa7699268",
   "metadata": {},
   "outputs": [],
   "source": []
  }
 ],
 "metadata": {
  "kernelspec": {
   "display_name": "Python 3 (ipykernel)",
   "language": "python",
   "name": "python3"
  },
  "language_info": {
   "codemirror_mode": {
    "name": "ipython",
    "version": 3
   },
   "file_extension": ".py",
   "mimetype": "text/x-python",
   "name": "python",
   "nbconvert_exporter": "python",
   "pygments_lexer": "ipython3",
   "version": "3.11.7"
  }
 },
 "nbformat": 4,
 "nbformat_minor": 5
}
