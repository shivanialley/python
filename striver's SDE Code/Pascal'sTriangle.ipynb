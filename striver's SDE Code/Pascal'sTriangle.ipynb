{
 "cells": [
  {
   "cell_type": "code",
   "execution_count": 39,
   "id": "d0d6e39e-80bc-4b44-bc8d-290856a315c8",
   "metadata": {
    "tags": []
   },
   "outputs": [
    {
     "name": "stdin",
     "output_type": "stream",
     "text": [
      " 4\n"
     ]
    },
    {
     "name": "stdout",
     "output_type": "stream",
     "text": [
      "1 \n",
      "1 1 \n",
      "1 2 1 \n",
      "1 3 3 1 \n"
     ]
    }
   ],
   "source": [
    "from typing import *\n",
    "\n",
    "def generate(row):\n",
    "    first = 1\n",
    "    firstrow = [1]\n",
    "    for i in range(1,row):\n",
    "        first *= (row-i)\n",
    "        first //= i\n",
    "        firstrow.append(first)\n",
    "    return firstrow \n",
    "\n",
    "def pascalTriangle(n : int) -> List[List[int]]:\n",
    "    # Write your code here.\n",
    "    mylist = []\n",
    "    for i in range(1,n+1):\n",
    "        mylist.append(generate(i))\n",
    "    return mylist\n",
    "\n",
    "if __name__ == \"__main__\":\n",
    "    n = int(input())\n",
    "    triangle = pascalTriangle(n)\n",
    "    for i in triangle:\n",
    "        for j in i:\n",
    "            print(j,end=\" \")\n",
    "        print()"
   ]
  }
 ],
 "metadata": {
  "kernelspec": {
   "display_name": "Python 3 (ipykernel)",
   "language": "python",
   "name": "python3"
  },
  "language_info": {
   "codemirror_mode": {
    "name": "ipython",
    "version": 3
   },
   "file_extension": ".py",
   "mimetype": "text/x-python",
   "name": "python",
   "nbconvert_exporter": "python",
   "pygments_lexer": "ipython3",
   "version": "3.11.7"
  }
 },
 "nbformat": 4,
 "nbformat_minor": 5
}
