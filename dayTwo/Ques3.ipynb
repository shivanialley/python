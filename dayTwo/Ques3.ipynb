{
 "cells": [
  {
   "cell_type": "code",
   "execution_count": 1,
   "id": "241d1c2a-e264-41b0-8905-f42108579da5",
   "metadata": {},
   "outputs": [
    {
     "name": "stdout",
     "output_type": "stream",
     "text": [
      "['amrita', 'anjana', 'neeraj', 'shivani', 'shubham', 'urvish']\n"
     ]
    }
   ],
   "source": [
    "#Ques3. Read multi word string & print them in alphabetic order\n",
    "string=(\"shubham\",\"anjana\",\"neeraj\",\"shivani\",\"urvish\",\"amrita\")\n",
    "print(sorted(string))"
   ]
  },
  {
   "cell_type": "code",
   "execution_count": null,
   "id": "a409c3da-3a98-47b6-a32f-95f0b3efe746",
   "metadata": {},
   "outputs": [],
   "source": []
  }
 ],
 "metadata": {
  "kernelspec": {
   "display_name": "Python 3 (ipykernel)",
   "language": "python",
   "name": "python3"
  },
  "language_info": {
   "codemirror_mode": {
    "name": "ipython",
    "version": 3
   },
   "file_extension": ".py",
   "mimetype": "text/x-python",
   "name": "python",
   "nbconvert_exporter": "python",
   "pygments_lexer": "ipython3",
   "version": "3.11.7"
  }
 },
 "nbformat": 4,
 "nbformat_minor": 5
}
