{
 "cells": [
  {
   "cell_type": "code",
   "execution_count": 15,
   "id": "bca47c47-8f6c-476e-b21a-fddc9df3b642",
   "metadata": {},
   "outputs": [
    {
     "name": "stdin",
     "output_type": "stream",
     "text": [
      "Enter the number 8\n"
     ]
    },
    {
     "name": "stdout",
     "output_type": "stream",
     "text": [
      "8 is not a perfect number\n"
     ]
    }
   ],
   "source": [
    "#Ques2. Program to check whether number is perfect or not \n",
    "#perfect number 6 divisible of number add them then it is equal to number it is perfect number\n",
    "num=int(input(\"Enter the number\"))\n",
    "\n",
    "temp=0\n",
    "for i in range(1,num):\n",
    "    if (num%i)==0:\n",
    "        temp+=i\n",
    "        flag=1\n",
    "    else:\n",
    "        flag=0\n",
    "    i+=1\n",
    "        \n",
    "if temp==num:\n",
    "    print(num,\"is a perfect number\")\n",
    "else:\n",
    "    print(num,\"is not a perfect number\")"
   ]
  },
  {
   "cell_type": "code",
   "execution_count": null,
   "id": "ed258cc1-1553-4182-8fd0-e22aec3540d3",
   "metadata": {},
   "outputs": [],
   "source": []
  }
 ],
 "metadata": {
  "kernelspec": {
   "display_name": "Python 3 (ipykernel)",
   "language": "python",
   "name": "python3"
  },
  "language_info": {
   "codemirror_mode": {
    "name": "ipython",
    "version": 3
   },
   "file_extension": ".py",
   "mimetype": "text/x-python",
   "name": "python",
   "nbconvert_exporter": "python",
   "pygments_lexer": "ipython3",
   "version": "3.11.7"
  }
 },
 "nbformat": 4,
 "nbformat_minor": 5
}
