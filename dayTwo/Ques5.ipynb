{
 "cells": [
  {
   "cell_type": "code",
   "execution_count": 1,
   "id": "23ef7496-0e96-4b5b-a81c-039224beb539",
   "metadata": {},
   "outputs": [
    {
     "name": "stdout",
     "output_type": "stream",
     "text": [
      "[3, 5, 8, 9, 10, 98, 100]\n"
     ]
    }
   ],
   "source": [
    "#Ques5. Write a program to sort element of tuple #using sort method in order\n",
    "number=(100,3,8,9,5,10,98)\n",
    "print(sorted(number))"
   ]
  },
  {
   "cell_type": "code",
   "execution_count": null,
   "id": "c5ea17ff-51ef-4fd6-b3a6-ea82b4a7c2b5",
   "metadata": {},
   "outputs": [],
   "source": []
  }
 ],
 "metadata": {
  "kernelspec": {
   "display_name": "Python 3 (ipykernel)",
   "language": "python",
   "name": "python3"
  },
  "language_info": {
   "codemirror_mode": {
    "name": "ipython",
    "version": 3
   },
   "file_extension": ".py",
   "mimetype": "text/x-python",
   "name": "python",
   "nbconvert_exporter": "python",
   "pygments_lexer": "ipython3",
   "version": "3.11.7"
  }
 },
 "nbformat": 4,
 "nbformat_minor": 5
}
