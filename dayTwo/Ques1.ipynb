{
 "cells": [
  {
   "cell_type": "code",
   "execution_count": 5,
   "id": "2471bfe1-5407-4b3e-8d36-92b81546349b",
   "metadata": {},
   "outputs": [
    {
     "name": "stdin",
     "output_type": "stream",
     "text": [
      "Enter the first number 8\n",
      "Enter the second number 4\n",
      "Enter the third number 9\n"
     ]
    },
    {
     "name": "stdout",
     "output_type": "stream",
     "text": [
      "8 4 9\n",
      "9 is the largest number\n"
     ]
    }
   ],
   "source": [
    "#Ques1. Program to demonstrate if elif & else by checking largest of three numbers\n",
    "num1=int(input(\"Enter the first number\"))\n",
    "num2=int(input(\"Enter the second number\"))\n",
    "num3=int(input(\"Enter the third number\"))\n",
    "\n",
    "print(num1,num2,num3)\n",
    "\n",
    "if num1>num2 and num1>num3:\n",
    "    print(num1,\"is the largest number\")\n",
    "elif num2>num1 and num2>num3:\n",
    "    print(num2,\"is the largest number\")\n",
    "else:\n",
    "    print(num3,\"is the largest number\")"
   ]
  },
  {
   "cell_type": "code",
   "execution_count": null,
   "id": "8ead6815-bf8c-4038-bcd6-bcc7e2b5bd7f",
   "metadata": {},
   "outputs": [],
   "source": []
  }
 ],
 "metadata": {
  "kernelspec": {
   "display_name": "Python 3 (ipykernel)",
   "language": "python",
   "name": "python3"
  },
  "language_info": {
   "codemirror_mode": {
    "name": "ipython",
    "version": 3
   },
   "file_extension": ".py",
   "mimetype": "text/x-python",
   "name": "python",
   "nbconvert_exporter": "python",
   "pygments_lexer": "ipython3",
   "version": "3.11.7"
  }
 },
 "nbformat": 4,
 "nbformat_minor": 5
}
