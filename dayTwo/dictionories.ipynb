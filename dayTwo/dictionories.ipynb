{
 "cells": [
  {
   "cell_type": "code",
   "execution_count": 21,
   "id": "eb07b60b-8dd0-4b2f-835e-36e2475cd038",
   "metadata": {},
   "outputs": [
    {
     "name": "stdout",
     "output_type": "stream",
     "text": [
      "{'brand': 'honda', 'model': 'city', 'year': 1990}\n"
     ]
    }
   ],
   "source": [
    "thisdict={\n",
    "    \"brand\":\"honda\",\n",
    "    \"model\":\"city\",\n",
    "    \"year\":1990\n",
    "}\n",
    "\n",
    "print(thisdict)"
   ]
  },
  {
   "cell_type": "code",
   "execution_count": 5,
   "id": "31697c4b-8188-47ad-9cc8-2642c995e047",
   "metadata": {},
   "outputs": [
    {
     "name": "stdout",
     "output_type": "stream",
     "text": [
      "city\n"
     ]
    }
   ],
   "source": [
    "thisdict={\n",
    "    \"brand\":\"honda\",\n",
    "    \"model\":\"city\",\n",
    "    \"year\":1990\n",
    "}\n",
    "\n",
    "print(thisdict[\"model\"])"
   ]
  },
  {
   "cell_type": "code",
   "execution_count": 7,
   "id": "eb6dbf29-6481-4c96-8a9b-455a9a145dfb",
   "metadata": {},
   "outputs": [
    {
     "name": "stdout",
     "output_type": "stream",
     "text": [
      "{'brand': 'honda', 'model': 'city', 'year': 1997}\n"
     ]
    }
   ],
   "source": [
    "thisdict={\n",
    "    \"brand\":\"honda\",\n",
    "    \"model\":\"city\",\n",
    "    \"year\":1990,\n",
    "    \"year\":1997#only this key value is taken\n",
    "}\n",
    "\n",
    "print(thisdict)"
   ]
  },
  {
   "cell_type": "code",
   "execution_count": 8,
   "id": "1452643a-d320-43d7-ad43-8eec2166282b",
   "metadata": {},
   "outputs": [
    {
     "name": "stdout",
     "output_type": "stream",
     "text": [
      "3\n"
     ]
    }
   ],
   "source": [
    "thisdict={\n",
    "    \"brand\":\"honda\",\n",
    "    \"model\":\"city\",\n",
    "    \"year\":1990\n",
    "}\n",
    "\n",
    "print(len(thisdict))"
   ]
  },
  {
   "cell_type": "code",
   "execution_count": 12,
   "id": "cb71e912-9329-4d32-93c4-ef0d913ec9c2",
   "metadata": {},
   "outputs": [
    {
     "name": "stdout",
     "output_type": "stream",
     "text": [
      "dict_keys(['brand', 'model', 'year'])\n",
      "dict_keys(['brand', 'model', 'year', 'color'])\n",
      "{'brand': 'honda', 'model': 'city', 'year': 1990, 'color': 'white'}\n"
     ]
    }
   ],
   "source": [
    "thisdict={\n",
    "    \"brand\":\"honda\",\n",
    "    \"model\":\"city\",\n",
    "    \"year\":1990\n",
    "}\n",
    "x=thisdict.keys()\n",
    "print(x)\n",
    "thisdict[\"color\"]=\"white\"\n",
    "print(x)\n",
    "print(thisdict)"
   ]
  },
  {
   "cell_type": "code",
   "execution_count": 13,
   "id": "a7e3bab9-39fb-4804-887b-a515b9599a3a",
   "metadata": {},
   "outputs": [
    {
     "name": "stdout",
     "output_type": "stream",
     "text": [
      "dict_values(['honda', 'city', 1990])\n",
      "dict_values(['honda', 'city', 1990, 'white'])\n",
      "{'brand': 'honda', 'model': 'city', 'year': 1990, 'color': 'white'}\n"
     ]
    }
   ],
   "source": [
    "thisdict={\n",
    "    \"brand\":\"honda\",\n",
    "    \"model\":\"city\",\n",
    "    \"year\":1990\n",
    "}\n",
    "x=thisdict.values()\n",
    "print(x)\n",
    "thisdict[\"color\"]=\"white\"\n",
    "print(x)\n",
    "print(thisdict)"
   ]
  },
  {
   "cell_type": "code",
   "execution_count": 14,
   "id": "5d6113da-81d4-485d-bdf6-db3769e34ae1",
   "metadata": {},
   "outputs": [
    {
     "name": "stdout",
     "output_type": "stream",
     "text": [
      "dict_items([('brand', 'honda'), ('model', 'city'), ('year', 1990)])\n",
      "dict_items([('brand', 'honda'), ('model', 'city'), ('year', 1990), ('color', 'white')])\n",
      "{'brand': 'honda', 'model': 'city', 'year': 1990, 'color': 'white'}\n"
     ]
    }
   ],
   "source": [
    "thisdict={\n",
    "    \"brand\":\"honda\",\n",
    "    \"model\":\"city\",\n",
    "    \"year\":1990\n",
    "}\n",
    "x=thisdict.items()\n",
    "print(x)\n",
    "thisdict[\"color\"]=\"white\"\n",
    "print(x)\n",
    "print(thisdict)"
   ]
  },
  {
   "cell_type": "code",
   "execution_count": 15,
   "id": "9f6c7a52-4dab-40ea-acf4-b2c6d2d70ae1",
   "metadata": {},
   "outputs": [
    {
     "name": "stdout",
     "output_type": "stream",
     "text": [
      "{'brand': 'honda', 'year': 1990}\n"
     ]
    }
   ],
   "source": [
    "thisdict={\n",
    "    \"brand\":\"honda\",\n",
    "    \"model\":\"city\",\n",
    "    \"year\":1990\n",
    "}\n",
    "thisdict.pop(\"model\")\n",
    "print(thisdict)"
   ]
  },
  {
   "cell_type": "code",
   "execution_count": 16,
   "id": "af25418b-9251-48e6-a4f7-b841da178379",
   "metadata": {},
   "outputs": [
    {
     "name": "stdout",
     "output_type": "stream",
     "text": [
      "{'brand': 'honda', 'model': 'city'}\n"
     ]
    }
   ],
   "source": [
    "thisdict={\n",
    "    \"brand\":\"honda\",\n",
    "    \"model\":\"city\",\n",
    "    \"year\":1990\n",
    "}\n",
    "thisdict.popitem()\n",
    "print(thisdict)"
   ]
  },
  {
   "cell_type": "code",
   "execution_count": 22,
   "id": "0485d9d9-56c6-4c19-b7f8-801dfb854bb1",
   "metadata": {},
   "outputs": [],
   "source": [
    "thisdict={\n",
    "    \"brand\":\"honda\",\n",
    "    \"model\":\"city\",\n",
    "    \"year\":1990\n",
    "}\n",
    "del thisdict\n",
    "#print(thisdict)"
   ]
  },
  {
   "cell_type": "code",
   "execution_count": 19,
   "id": "f1aae1c2-39fc-41f8-a12e-c214a8d5e85e",
   "metadata": {},
   "outputs": [
    {
     "name": "stdout",
     "output_type": "stream",
     "text": [
      "{'model': 'city', 'year': 1990}\n"
     ]
    }
   ],
   "source": [
    "thisdict={\n",
    "    \"brand\":\"honda\",\n",
    "    \"model\":\"city\",\n",
    "    \"year\":1990\n",
    "}\n",
    "del thisdict[\"brand\"]\n",
    "print(thisdict)"
   ]
  },
  {
   "cell_type": "code",
   "execution_count": 20,
   "id": "3180a9f7-873a-4253-afbb-c82f07052b7e",
   "metadata": {},
   "outputs": [
    {
     "name": "stdout",
     "output_type": "stream",
     "text": [
      "{}\n"
     ]
    }
   ],
   "source": [
    "thisdict={\n",
    "    \"brand\":\"honda\",\n",
    "    \"model\":\"city\",\n",
    "    \"year\":1990\n",
    "}\n",
    "thisdict.clear()\n",
    "print(thisdict)"
   ]
  },
  {
   "cell_type": "code",
   "execution_count": null,
   "id": "794610a9-d5fc-46e6-bb80-0393482649b5",
   "metadata": {},
   "outputs": [],
   "source": []
  }
 ],
 "metadata": {
  "kernelspec": {
   "display_name": "Python 3 (ipykernel)",
   "language": "python",
   "name": "python3"
  },
  "language_info": {
   "codemirror_mode": {
    "name": "ipython",
    "version": 3
   },
   "file_extension": ".py",
   "mimetype": "text/x-python",
   "name": "python",
   "nbconvert_exporter": "python",
   "pygments_lexer": "ipython3",
   "version": "3.11.7"
  }
 },
 "nbformat": 4,
 "nbformat_minor": 5
}
