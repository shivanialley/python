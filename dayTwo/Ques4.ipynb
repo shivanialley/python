{
 "cells": [
  {
   "cell_type": "code",
   "execution_count": 1,
   "id": "b67314b2-ac92-45ad-acd7-a19316278403",
   "metadata": {},
   "outputs": [
    {
     "name": "stdout",
     "output_type": "stream",
     "text": [
      "3\n"
     ]
    }
   ],
   "source": [
    "\"\"\"Ques4. Car = {\"i10\":\"grey\",\n",
    "                 \"kushaq\":Red\",\n",
    "                 \"i20\":\"white\"\n",
    "                 }\"\"\"\n",
    "#how many cars in dictionary\n",
    "car={\n",
    "    \"i10\":\"grey\",\n",
    "    \"kushaq\":\"red\",\n",
    "    \"i20\":\"white\"\n",
    "}\n",
    "\n",
    "print(len(car))"
   ]
  },
  {
   "cell_type": "code",
   "execution_count": 3,
   "id": "b4592e6e-3217-4641-b486-220a91193f3a",
   "metadata": {},
   "outputs": [
    {
     "name": "stdout",
     "output_type": "stream",
     "text": [
      "{'kushaq': 'red', 'i20': 'white'}\n"
     ]
    }
   ],
   "source": [
    "#remove cari10\n",
    "car={\n",
    "    \"i10\":\"grey\",\n",
    "    \"kushaq\":\"red\",\n",
    "    \"i20\":\"white\"\n",
    "}\n",
    "\n",
    "del car[\"i10\"]\n",
    "print(car)"
   ]
  },
  {
   "cell_type": "code",
   "execution_count": 4,
   "id": "8cbbc0c8-1401-49fd-bcbc-ca4dfa9a5780",
   "metadata": {},
   "outputs": [
    {
     "name": "stdout",
     "output_type": "stream",
     "text": [
      "{'i10': 'grey', 'kushaq': 'black', 'i20': 'white'}\n"
     ]
    }
   ],
   "source": [
    "#change kushaq to black\n",
    "car={\n",
    "    \"i10\":\"grey\",\n",
    "    \"kushaq\":\"red\",\n",
    "    \"i20\":\"white\"\n",
    "}\n",
    "\n",
    "car[\"kushaq\"]=\"black\"\n",
    "print(car)"
   ]
  },
  {
   "cell_type": "code",
   "execution_count": 5,
   "id": "927819c0-9601-4934-83c7-80bf261e077d",
   "metadata": {},
   "outputs": [
    {
     "name": "stdout",
     "output_type": "stream",
     "text": [
      "{'i10': 'grey', 'kushaq': 'black', 'i20': 'white'}\n"
     ]
    }
   ],
   "source": [
    "#change kushaq to black\n",
    "car={\n",
    "    \"i10\":\"grey\",\n",
    "    \"kushaq\":\"red\",\n",
    "    \"kushaq\":\"black\",\n",
    "    \"i20\":\"white\"\n",
    "}\n",
    "\n",
    "print(car)"
   ]
  },
  {
   "cell_type": "code",
   "execution_count": null,
   "id": "d25ce870-dcf3-46a6-8620-b02dee600408",
   "metadata": {},
   "outputs": [],
   "source": []
  }
 ],
 "metadata": {
  "kernelspec": {
   "display_name": "Python 3 (ipykernel)",
   "language": "python",
   "name": "python3"
  },
  "language_info": {
   "codemirror_mode": {
    "name": "ipython",
    "version": 3
   },
   "file_extension": ".py",
   "mimetype": "text/x-python",
   "name": "python",
   "nbconvert_exporter": "python",
   "pygments_lexer": "ipython3",
   "version": "3.11.7"
  }
 },
 "nbformat": 4,
 "nbformat_minor": 5
}
