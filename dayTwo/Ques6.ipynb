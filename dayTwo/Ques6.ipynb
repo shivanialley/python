{
 "cells": [
  {
   "cell_type": "code",
   "execution_count": 1,
   "id": "a97ba059-db12-4587-927c-6c666f052e03",
   "metadata": {},
   "outputs": [
    {
     "name": "stdout",
     "output_type": "stream",
     "text": [
      "{'name': 'urvish', 'number': 8434324342, 'address': 'G-245/D-1', 'locality': 'Ghaziabad', 'city': 'uttar Pradesh'}\n"
     ]
    }
   ],
   "source": [
    "\"\"\"Ques6. Implement contact book using dictionaries \n",
    "     name, address, number, locality, city\n",
    "     ask from user also\"\"\"\n",
    "contact={\n",
    "    \"name\":\"urvish\",\n",
    "    \"number\":8434324342,\n",
    "    \"address\":\"G-245/D-1\",\n",
    "    \"locality\":\"Ghaziabad\",\n",
    "    \"city\":\"uttar Pradesh\"}\n",
    "print(contact)"
   ]
  },
  {
   "cell_type": "code",
   "execution_count": 3,
   "id": "88cb1c08-8fe4-46ce-9360-e4fe2573c44d",
   "metadata": {},
   "outputs": [
    {
     "name": "stdin",
     "output_type": "stream",
     "text": [
      "Enter the number of entity 5\n",
      "Enter the key name\n",
      "Enter the value anjana\n",
      "Enter the key number\n",
      "Enter the value 8231535534\n",
      "Enter the key address\n",
      "Enter the value G-245/D-1\n",
      "Enter the key Locality\n",
      "Enter the value Ghaziabad\n",
      "Enter the key City\n",
      "Enter the value Uttar Pradesh\n"
     ]
    },
    {
     "name": "stdout",
     "output_type": "stream",
     "text": [
      "Dictionary info {'name': 'anjana', 'number': '8231535534', 'address': 'G-245/D-1', 'Locality': 'Ghaziabad', 'City': 'Uttar Pradesh'}\n"
     ]
    }
   ],
   "source": [
    "contact={}\n",
    "num=int(input(\"Enter the number of entity\"))\n",
    "\n",
    "for i in range(num):\n",
    "    key=input(\"Enter the key\")\n",
    "    value=input(\"Enter the value\")\n",
    "    contact[key]=value\n",
    "\n",
    "print(\"Dictionary info\",contact)  "
   ]
  },
  {
   "cell_type": "code",
   "execution_count": null,
   "id": "d4abdc9a-c3f9-401b-934c-af0c69b8722e",
   "metadata": {},
   "outputs": [],
   "source": []
  }
 ],
 "metadata": {
  "kernelspec": {
   "display_name": "Python 3 (ipykernel)",
   "language": "python",
   "name": "python3"
  },
  "language_info": {
   "codemirror_mode": {
    "name": "ipython",
    "version": 3
   },
   "file_extension": ".py",
   "mimetype": "text/x-python",
   "name": "python",
   "nbconvert_exporter": "python",
   "pygments_lexer": "ipython3",
   "version": "3.11.7"
  }
 },
 "nbformat": 4,
 "nbformat_minor": 5
}
