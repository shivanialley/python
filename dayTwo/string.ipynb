{
 "cells": [
  {
   "cell_type": "code",
   "execution_count": 6,
   "id": "3fadff9d-2ece-4dec-a647-dd0a101376c0",
   "metadata": {},
   "outputs": [
    {
     "name": "stdout",
     "output_type": "stream",
     "text": [
      "Good Morning,\n",
      "hello,\n",
      "hi\n"
     ]
    }
   ],
   "source": [
    "str='''Good Morning,\n",
    "hello,\n",
    "hi'''\n",
    "print(str)"
   ]
  },
  {
   "cell_type": "code",
   "execution_count": 2,
   "id": "3ee74721-f6d2-4aac-8934-3e8db008f9b6",
   "metadata": {},
   "outputs": [
    {
     "name": "stdout",
     "output_type": "stream",
     "text": [
      "e\n"
     ]
    }
   ],
   "source": [
    "a=\"hello,World\"\n",
    "print(a[1])"
   ]
  },
  {
   "cell_type": "code",
   "execution_count": 3,
   "id": "9cc41320-a0c9-49d9-9fd4-63f8041af7ce",
   "metadata": {
    "tags": []
   },
   "outputs": [
    {
     "name": "stdout",
     "output_type": "stream",
     "text": [
      "Good Morning,\n",
      "hello,\n",
      "hi\n"
     ]
    }
   ],
   "source": [
    "str=\"\"\"Good Morning,\n",
    "hello,\n",
    "hi\"\"\"\n",
    "print(str)"
   ]
  },
  {
   "cell_type": "code",
   "execution_count": 7,
   "id": "aea21cec-3f2b-4656-b3a4-c3fd3953205e",
   "metadata": {},
   "outputs": [
    {
     "name": "stdout",
     "output_type": "stream",
     "text": [
      "11\n"
     ]
    }
   ],
   "source": [
    "a=\"hello,World\"\n",
    "print(len(a))"
   ]
  },
  {
   "cell_type": "code",
   "execution_count": 9,
   "id": "6f94e392-f327-4bd5-9f50-fd75df29d357",
   "metadata": {},
   "outputs": [
    {
     "name": "stdout",
     "output_type": "stream",
     "text": [
      "False\n"
     ]
    }
   ],
   "source": [
    "txt=\"my name is shivani\"\n",
    "print(\"good\"in txt)"
   ]
  },
  {
   "cell_type": "code",
   "execution_count": 11,
   "id": "3e346be5-6f4c-4a46-acf1-b5e6dfee19de",
   "metadata": {},
   "outputs": [],
   "source": [
    "txt=\"my name is shivani\"\n",
    "#if \"shivani\"in txt:\n",
    "if \"good\"in txt:\n",
    "    print(\"yes it is print\")"
   ]
  },
  {
   "cell_type": "code",
   "execution_count": 13,
   "id": "7551f210-0504-40a9-a567-36c0e6fd56ba",
   "metadata": {},
   "outputs": [
    {
     "name": "stdout",
     "output_type": "stream",
     "text": [
      "False\n"
     ]
    }
   ],
   "source": [
    "txt=\"my name is shivani\"\n",
    "print(\"shivani\"not in txt)"
   ]
  },
  {
   "cell_type": "code",
   "execution_count": 16,
   "id": "eb070262-15a7-4803-a305-94623e2648f3",
   "metadata": {},
   "outputs": [
    {
     "name": "stdout",
     "output_type": "stream",
     "text": [
      "yes it is print\n"
     ]
    }
   ],
   "source": [
    "txt=\"my name is shivani\"\n",
    "#if \"shivani\"not in txt:\n",
    "if \"good\"not in txt:\n",
    "    print(\"yes it is print\")"
   ]
  },
  {
   "cell_type": "code",
   "execution_count": 17,
   "id": "7bb35e20-63fe-4869-b55f-69904051710f",
   "metadata": {},
   "outputs": [
    {
     "name": "stdout",
     "output_type": "stream",
     "text": [
      "llo\n"
     ]
    }
   ],
   "source": [
    "b=\"Hello,World!\"\n",
    "print(b[2:5])"
   ]
  },
  {
   "cell_type": "code",
   "execution_count": 18,
   "id": "2efa6495-33d3-4705-ba19-9d1e075a3eda",
   "metadata": {},
   "outputs": [
    {
     "name": "stdout",
     "output_type": "stream",
     "text": [
      "Hello\n"
     ]
    }
   ],
   "source": [
    "b=\"Hello,World!\"\n",
    "print(b[:5])"
   ]
  },
  {
   "cell_type": "code",
   "execution_count": 19,
   "id": "b4cef914-fee3-446d-a891-7c43fd532836",
   "metadata": {},
   "outputs": [
    {
     "name": "stdout",
     "output_type": "stream",
     "text": [
      "llo,World!\n"
     ]
    }
   ],
   "source": [
    "b=\"Hello,World!\"\n",
    "print(b[2:])"
   ]
  },
  {
   "cell_type": "code",
   "execution_count": 20,
   "id": "5346dc4b-1158-4aa0-81ee-cd4dbd78e7b4",
   "metadata": {},
   "outputs": [
    {
     "name": "stdout",
     "output_type": "stream",
     "text": [
      "orl\n"
     ]
    }
   ],
   "source": [
    "b=\"Hello,World!\"\n",
    "print(b[-5:-2])#from higher limit 5 position to higher limit 2 position"
   ]
  },
  {
   "cell_type": "code",
   "execution_count": 22,
   "id": "3e3efe2e-8653-4544-99e5-2ac36b58a840",
   "metadata": {},
   "outputs": [
    {
     "name": "stdout",
     "output_type": "stream",
     "text": [
      "lo \n"
     ]
    }
   ],
   "source": [
    "c=\"hello to everyone\"\n",
    "print(c[3:6])"
   ]
  },
  {
   "cell_type": "code",
   "execution_count": 23,
   "id": "42ac47ea-d082-49a9-8439-64448c4d192b",
   "metadata": {},
   "outputs": [
    {
     "name": "stdout",
     "output_type": "stream",
     "text": [
      "hello\n"
     ]
    }
   ],
   "source": [
    "c=\"hello to everyone\"\n",
    "print(c[:5])"
   ]
  },
  {
   "cell_type": "code",
   "execution_count": 24,
   "id": "0c58ab3c-7f53-4de8-b32a-98c9b8a0c677",
   "metadata": {},
   "outputs": [
    {
     "name": "stdout",
     "output_type": "stream",
     "text": [
      "lo to everyone\n"
     ]
    }
   ],
   "source": [
    "c=\"hello to everyone\"\n",
    "print(c[3:])"
   ]
  },
  {
   "cell_type": "code",
   "execution_count": 26,
   "id": "4925a63b-adca-438f-b26a-c4a8335a0767",
   "metadata": {},
   "outputs": [
    {
     "name": "stdout",
     "output_type": "stream",
     "text": [
      "er\n"
     ]
    }
   ],
   "source": [
    "c=\"hello to everyone\"\n",
    "print(c[-6:-4])"
   ]
  },
  {
   "cell_type": "code",
   "execution_count": 27,
   "id": "88ff9228-afdc-4161-81e0-c37d4cd2a45a",
   "metadata": {},
   "outputs": [
    {
     "name": "stdout",
     "output_type": "stream",
     "text": [
      "HELLO,WORLD\n"
     ]
    }
   ],
   "source": [
    "a=\"hello,World\"\n",
    "print(a.upper())"
   ]
  },
  {
   "cell_type": "code",
   "execution_count": 28,
   "id": "9cd01d25-c956-4fed-a004-659edd6810b1",
   "metadata": {},
   "outputs": [
    {
     "name": "stdout",
     "output_type": "stream",
     "text": [
      "hello,world\n"
     ]
    }
   ],
   "source": [
    "a=\"hello,World\"\n",
    "print(a.lower())"
   ]
  },
  {
   "cell_type": "code",
   "execution_count": 31,
   "id": "07f0ad37-4e59-4f42-b58b-d68a29fc374a",
   "metadata": {},
   "outputs": [
    {
     "name": "stdout",
     "output_type": "stream",
     "text": [
      "hello , World\n"
     ]
    }
   ],
   "source": [
    "a=\"   hello , World\"\n",
    "print(a.strip())"
   ]
  },
  {
   "cell_type": "code",
   "execution_count": 33,
   "id": "39b8fed2-db64-4b2c-b89b-79cec9e131e1",
   "metadata": {},
   "outputs": [
    {
     "name": "stdout",
     "output_type": "stream",
     "text": [
      "hellorWorld\n"
     ]
    }
   ],
   "source": [
    "a=\"hello,World\"\n",
    "print(a.replace(',','r'))"
   ]
  },
  {
   "cell_type": "code",
   "execution_count": 38,
   "id": "3778e983-a9cf-43b9-b736-85fc1ea498f5",
   "metadata": {},
   "outputs": [
    {
     "name": "stdout",
     "output_type": "stream",
     "text": [
      "['hello', 'World']\n"
     ]
    }
   ],
   "source": [
    "a=\"hello/World\"\n",
    "print(a.split(\"/\"))"
   ]
  },
  {
   "cell_type": "code",
   "execution_count": 40,
   "id": "4e6741bf-aba8-4877-8ca8-ed9e4f0e5c0b",
   "metadata": {},
   "outputs": [
    {
     "name": "stdout",
     "output_type": "stream",
     "text": [
      "goodmorning\n"
     ]
    }
   ],
   "source": [
    "a=\"good\"\n",
    "b=\"morning\"\n",
    "c=a+b\n",
    "print(c)"
   ]
  },
  {
   "cell_type": "code",
   "execution_count": 41,
   "id": "49d8ae4a-95d8-43cf-a759-49e8939f65e0",
   "metadata": {},
   "outputs": [
    {
     "name": "stdout",
     "output_type": "stream",
     "text": [
      "good morning\n"
     ]
    }
   ],
   "source": [
    "a=\"good\"\n",
    "b=\"morning\"\n",
    "c=a+\" \"+b\n",
    "print(c)"
   ]
  },
  {
   "cell_type": "code",
   "execution_count": 42,
   "id": "f904a3a2-ab41-4c77-8d40-46fc6b85d2ed",
   "metadata": {},
   "outputs": [
    {
     "ename": "TypeError",
     "evalue": "can only concatenate str (not \"int\") to str",
     "output_type": "error",
     "traceback": [
      "\u001b[1;31m---------------------------------------------------------------------------\u001b[0m",
      "\u001b[1;31mTypeError\u001b[0m                                 Traceback (most recent call last)",
      "\u001b[1;32m~\\AppData\\Local\\Temp\\ipykernel_6440\\2596155646.py\u001b[0m in \u001b[0;36m<module>\u001b[1;34m\u001b[0m\n\u001b[0;32m      1\u001b[0m \u001b[0mage\u001b[0m \u001b[1;33m=\u001b[0m \u001b[1;36m36\u001b[0m\u001b[1;33m\u001b[0m\u001b[1;33m\u001b[0m\u001b[0m\n\u001b[1;32m----> 2\u001b[1;33m \u001b[0mtxt\u001b[0m \u001b[1;33m=\u001b[0m \u001b[1;34m\"My name is shivani, i am\"\u001b[0m\u001b[1;33m+\u001b[0m\u001b[0mage\u001b[0m\u001b[1;33m\u001b[0m\u001b[1;33m\u001b[0m\u001b[0m\n\u001b[0m\u001b[0;32m      3\u001b[0m \u001b[0mprint\u001b[0m\u001b[1;33m(\u001b[0m\u001b[0mtxt\u001b[0m\u001b[1;33m)\u001b[0m\u001b[1;33m\u001b[0m\u001b[1;33m\u001b[0m\u001b[0m\n",
      "\u001b[1;31mTypeError\u001b[0m: can only concatenate str (not \"int\") to str"
     ]
    }
   ],
   "source": [
    "age = 36\n",
    "txt = \"My name is shivani, i am\"+age\n",
    "print(txt)"
   ]
  },
  {
   "cell_type": "code",
   "execution_count": 44,
   "id": "2c248965-336e-435a-842c-a951e5005e0a",
   "metadata": {},
   "outputs": [
    {
     "name": "stdout",
     "output_type": "stream",
     "text": [
      "I want 3 pieces of item 565 to pay 23.22 dollars\n"
     ]
    }
   ],
   "source": [
    "quantity = 3\n",
    "itemno =565\n",
    "price =23.22\n",
    "myorder = \"I want {} pieces of item {} to pay {} dollars\"\n",
    "print(myorder.format(quantity,itemno,price))"
   ]
  },
  {
   "cell_type": "code",
   "execution_count": 46,
   "id": "40f8b09b-0cd6-430a-8650-6eb8c7d2995f",
   "metadata": {},
   "outputs": [
    {
     "name": "stdout",
     "output_type": "stream",
     "text": [
      "I want 3 pieces of item 565 to pay 23.22 dollars\n"
     ]
    }
   ],
   "source": [
    "quantity = 3\n",
    "itemno =565\n",
    "price =23.22\n",
    "myorder = \"I want {0} pieces of item {1} to pay {2} dollars\"\n",
    "print(myorder.format(quantity,itemno,price))"
   ]
  },
  {
   "cell_type": "code",
   "execution_count": 47,
   "id": "eda060e5-9142-4e60-ad9b-f4e55dbcdf09",
   "metadata": {},
   "outputs": [
    {
     "name": "stdout",
     "output_type": "stream",
     "text": [
      "I have to pay 23.22 dollar for 3 pieces of 565 items\n"
     ]
    }
   ],
   "source": [
    "quantity = 3\n",
    "itemno =565\n",
    "price =23.22\n",
    "myorder = \"I have to pay {2} dollar for {0} pieces of {1} items\"\n",
    "print(myorder.format(quantity,itemno,price))"
   ]
  },
  {
   "cell_type": "code",
   "execution_count": 50,
   "id": "19150678-713a-497e-a814-38d5b9f4ba60",
   "metadata": {},
   "outputs": [
    {
     "name": "stdout",
     "output_type": "stream",
     "text": [
      "My name is shivani, i am 25\n"
     ]
    }
   ],
   "source": [
    "age = 25\n",
    "txt = \"My name is shivani, i am {}\"\n",
    "print(txt.format(age))"
   ]
  },
  {
   "cell_type": "code",
   "execution_count": 51,
   "id": "91c8d10e-f97d-4317-8415-ca9249873170",
   "metadata": {},
   "outputs": [
    {
     "ename": "SyntaxError",
     "evalue": "invalid syntax (1252778892.py, line 1)",
     "output_type": "error",
     "traceback": [
      "\u001b[1;36m  File \u001b[1;32m\"C:\\Users\\corporate\\AppData\\Local\\Temp\\ipykernel_6440\\1252778892.py\"\u001b[1;36m, line \u001b[1;32m1\u001b[0m\n\u001b[1;33m    txt = \"we are the so-called\"viking\"from the north\"\u001b[0m\n\u001b[1;37m                                ^\u001b[0m\n\u001b[1;31mSyntaxError\u001b[0m\u001b[1;31m:\u001b[0m invalid syntax\n"
     ]
    }
   ],
   "source": [
    "txt = \"we are the so-called\"viking\"from the north\"\n",
    "print(txt)"
   ]
  },
  {
   "cell_type": "code",
   "execution_count": 52,
   "id": "cee272ed-2eb0-40b1-982c-4b98c5b3954e",
   "metadata": {},
   "outputs": [
    {
     "name": "stdout",
     "output_type": "stream",
     "text": [
      "we are the so-called\"viking\"from the north\n"
     ]
    }
   ],
   "source": [
    "txt = \"we are the so-called\\\"viking\\\"from the north\"\n",
    "print(txt)"
   ]
  },
  {
   "cell_type": "code",
   "execution_count": 54,
   "id": "ffa82a4b-b5d2-4027-9aa4-28bfc957cae7",
   "metadata": {},
   "outputs": [
    {
     "name": "stdout",
     "output_type": "stream",
     "text": [
      "hellorWorld\n",
      "hellorWorld\n",
      "hello,World\n"
     ]
    }
   ],
   "source": [
    "a=\"hello,World\"\n",
    "print(a.replace(',','r'))\n",
    "r=a.replace(',','r')\n",
    "print(r)\n",
    "print(a)"
   ]
  },
  {
   "cell_type": "code",
   "execution_count": null,
   "id": "07924373-e21d-4efc-b567-23f5f144b74a",
   "metadata": {},
   "outputs": [],
   "source": []
  }
 ],
 "metadata": {
  "kernelspec": {
   "display_name": "Python 3 (ipykernel)",
   "language": "python",
   "name": "python3"
  },
  "language_info": {
   "codemirror_mode": {
    "name": "ipython",
    "version": 3
   },
   "file_extension": ".py",
   "mimetype": "text/x-python",
   "name": "python",
   "nbconvert_exporter": "python",
   "pygments_lexer": "ipython3",
   "version": "3.9.13"
  }
 },
 "nbformat": 4,
 "nbformat_minor": 5
}
