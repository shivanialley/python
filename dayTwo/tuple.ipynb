{
 "cells": [
  {
   "cell_type": "code",
   "execution_count": 1,
   "id": "719130ad-70e5-43d9-9dba-936c6cc58c79",
   "metadata": {},
   "outputs": [
    {
     "name": "stdout",
     "output_type": "stream",
     "text": [
      "('car', 'bus', 'truck')\n"
     ]
    }
   ],
   "source": [
    "mytuple=(\"car\",\"bus\",\"truck\")\n",
    "print(mytuple)"
   ]
  },
  {
   "cell_type": "code",
   "execution_count": 2,
   "id": "fd3a2db0-445d-48c4-9b11-b334cd36381d",
   "metadata": {},
   "outputs": [
    {
     "name": "stdout",
     "output_type": "stream",
     "text": [
      "('car', 'bus', 'truck', 'bus', 'truck')\n"
     ]
    }
   ],
   "source": [
    "mytuple=(\"car\",\"bus\",\"truck\",\"bus\",\"truck\")\n",
    "print(mytuple)"
   ]
  },
  {
   "cell_type": "code",
   "execution_count": 3,
   "id": "e8d19a04-c284-4f16-8995-12ff3f01ce48",
   "metadata": {},
   "outputs": [
    {
     "name": "stdout",
     "output_type": "stream",
     "text": [
      "5\n"
     ]
    }
   ],
   "source": [
    "mytuple=(\"car\",\"bus\",\"truck\",\"bus\",\"truck\")\n",
    "print(len(mytuple))"
   ]
  },
  {
   "cell_type": "code",
   "execution_count": 4,
   "id": "20e9d5f5-0df8-40fa-98f9-af7575d191d2",
   "metadata": {},
   "outputs": [
    {
     "name": "stdout",
     "output_type": "stream",
     "text": [
      "<class 'tuple'>\n"
     ]
    }
   ],
   "source": [
    "mytuple=(\"car\",)\n",
    "print(type(mytuple))"
   ]
  },
  {
   "cell_type": "code",
   "execution_count": 5,
   "id": "e9b460fb-b403-4a53-a70a-4b66886d7efa",
   "metadata": {},
   "outputs": [
    {
     "name": "stdout",
     "output_type": "stream",
     "text": [
      "<class 'str'>\n"
     ]
    }
   ],
   "source": [
    "mytuple=(\"car\")\n",
    "print(type(mytuple))"
   ]
  },
  {
   "cell_type": "code",
   "execution_count": 6,
   "id": "9c55bc20-5c2b-4ee4-8739-fe4e0c736fb6",
   "metadata": {},
   "outputs": [
    {
     "name": "stdout",
     "output_type": "stream",
     "text": [
      "('car', 'bus', 'truck')\n",
      "(1, 4, 5, 6, 7)\n",
      "(True, False, True)\n",
      "(1.3, 4.5, 6.7)\n",
      "('uru', 214, True, 324.1)\n"
     ]
    }
   ],
   "source": [
    "tuple1=(\"car\",\"bus\",\"truck\")\n",
    "tuple2=(1,4,5,6,7)\n",
    "tuple3=(True,False,True)#T 7 F should be capital\n",
    "tuple4=(1.3,4.5,6.7)\n",
    "tuple5=(\"uru\",214,True,324.1)\n",
    "print(tuple1)\n",
    "print(tuple2)\n",
    "print(tuple3)\n",
    "print(tuple4)\n",
    "print(tuple5)"
   ]
  },
  {
   "cell_type": "code",
   "execution_count": 7,
   "id": "c0735ab2-9a5f-40e6-aa2c-08975e26b7a6",
   "metadata": {},
   "outputs": [
    {
     "name": "stdout",
     "output_type": "stream",
     "text": [
      "truck\n"
     ]
    }
   ],
   "source": [
    "mytuple=(\"car\",\"bus\",\"truck\",\"bus\",\"truck\")\n",
    "print(mytuple[2])"
   ]
  },
  {
   "cell_type": "code",
   "execution_count": 8,
   "id": "dffc856d-c302-4acd-937c-6f82cc98bf74",
   "metadata": {},
   "outputs": [
    {
     "name": "stdout",
     "output_type": "stream",
     "text": [
      "truck\n"
     ]
    }
   ],
   "source": [
    "mytuple=(\"car\",\"bus\",\"truck\",\"bus\",\"truck\")\n",
    "print(mytuple[-1])"
   ]
  },
  {
   "cell_type": "code",
   "execution_count": 9,
   "id": "fd287799-c4e4-4718-9bb6-56a904b9e9a6",
   "metadata": {},
   "outputs": [
    {
     "name": "stdout",
     "output_type": "stream",
     "text": [
      "('truck', 'bus', 'truck')\n"
     ]
    }
   ],
   "source": [
    "mytuple=(\"car\",\"bus\",\"truck\",\"bus\",\"truck\")\n",
    "print(mytuple[2:5])"
   ]
  },
  {
   "cell_type": "code",
   "execution_count": 10,
   "id": "0c624dc9-aeb5-4c52-acc4-d0acffc1d00f",
   "metadata": {},
   "outputs": [
    {
     "name": "stdout",
     "output_type": "stream",
     "text": [
      "('car', 'bus', 'truck', 'bus', 'truck')\n"
     ]
    }
   ],
   "source": [
    "mytuple=(\"car\",\"bus\",\"truck\",\"bus\",\"truck\")\n",
    "print(mytuple[:5])"
   ]
  },
  {
   "cell_type": "code",
   "execution_count": 11,
   "id": "eac6f5f5-d9b1-43c2-b0af-66a6bdb924d8",
   "metadata": {},
   "outputs": [
    {
     "name": "stdout",
     "output_type": "stream",
     "text": [
      "('truck', 'bus', 'truck')\n"
     ]
    }
   ],
   "source": [
    "mytuple=(\"car\",\"bus\",\"truck\",\"bus\",\"truck\")\n",
    "print(mytuple[2:])"
   ]
  },
  {
   "cell_type": "code",
   "execution_count": 12,
   "id": "e93b17f6-a041-4719-af4d-dc03cdadf7f4",
   "metadata": {},
   "outputs": [
    {
     "name": "stdout",
     "output_type": "stream",
     "text": [
      "('bus', 'truck')\n"
     ]
    }
   ],
   "source": [
    "mytuple=(\"car\",\"bus\",\"truck\",\"bus\",\"truck\")\n",
    "print(mytuple[-4:-2])"
   ]
  },
  {
   "cell_type": "code",
   "execution_count": 13,
   "id": "45a6f4e9-2fc2-4126-b186-2be6395f87bb",
   "metadata": {},
   "outputs": [
    {
     "name": "stdout",
     "output_type": "stream",
     "text": [
      "yes is in tuple\n"
     ]
    }
   ],
   "source": [
    "mytuple=(\"car\",\"bus\",\"truck\",\"bus\",\"truck\")\n",
    "if \"car\" in mytuple:\n",
    "    print(\"yes is in tuple\")"
   ]
  },
  {
   "cell_type": "code",
   "execution_count": 14,
   "id": "cef6b9b7-c13b-48a5-b690-f1f283b45dfc",
   "metadata": {},
   "outputs": [
    {
     "name": "stdout",
     "output_type": "stream",
     "text": [
      "('apple', 'banana', 'cherry', 'orange')\n"
     ]
    }
   ],
   "source": [
    "x=(\"apple\",\"banana\",\"cherry\")\n",
    "y=(\"orange\",)\n",
    "x+=y\n",
    "print(x)"
   ]
  },
  {
   "cell_type": "code",
   "execution_count": 15,
   "id": "3750357f-84c1-4f66-a679-ef6a2b129e18",
   "metadata": {},
   "outputs": [
    {
     "name": "stdout",
     "output_type": "stream",
     "text": [
      "('apple', 'banana', 'cherry')\n",
      "['apple', 'banana', 'cherry']\n",
      "['apple', 'kiwi', 'cherry']\n",
      "['apple', 'cherry']\n",
      "['apple', 'cherry', 'orange']\n",
      "('apple', 'cherry', 'orange')\n"
     ]
    }
   ],
   "source": [
    "#this is important\n",
    "x=(\"apple\",\"banana\",\"cherry\")\n",
    "print(x)\n",
    "y=list(x)\n",
    "print(y)\n",
    "#y.remove(\"banana\")\n",
    "#print(y)\n",
    "y[1]=\"kiwi\"\n",
    "print(y)\n",
    "y.remove(\"kiwi\")\n",
    "print(y)\n",
    "y.append(\"orange\")#add element in tuple\n",
    "print(y)\n",
    "x=tuple(y)\n",
    "print(x)\n",
    "del x\n",
    "#print(x)"
   ]
  },
  {
   "cell_type": "code",
   "execution_count": 19,
   "id": "a8720ec4-1dd9-438a-a295-9e5623354812",
   "metadata": {},
   "outputs": [
    {
     "name": "stdout",
     "output_type": "stream",
     "text": [
      "('apple', 'banana', 'cherry')\n",
      "apple\n",
      "banana\n",
      "cherry\n",
      "('apple', 'banana', 'cherry')\n"
     ]
    }
   ],
   "source": [
    "x=(\"apple\",\"banana\",\"cherry\")#packing a tuple\n",
    "print(x)\n",
    "(red,yellow,pink)=x#unpacking a tuple\n",
    "print(red)\n",
    "print(yellow)\n",
    "print(pink)\n",
    "print(x)"
   ]
  },
  {
   "cell_type": "code",
   "execution_count": 22,
   "id": "846a87f2-79c4-4448-9a13-dabc1c7d5475",
   "metadata": {},
   "outputs": [
    {
     "name": "stdout",
     "output_type": "stream",
     "text": [
      "apple\n",
      "['banana', 'cherry', 'mango']\n",
      "kiwi\n"
     ]
    }
   ],
   "source": [
    "x=(\"apple\",\"banana\",\"cherry\",\"mango\",\"kiwi\")\n",
    "(red,yellow,*pink)=x # * carry all other element\n",
    "(red,*yellow,pink)=x\n",
    "print(red)\n",
    "print(yellow)\n",
    "print(pink)"
   ]
  },
  {
   "cell_type": "code",
   "execution_count": 23,
   "id": "7defc593-c3ef-4fa7-b59c-6b6de468942b",
   "metadata": {},
   "outputs": [
    {
     "name": "stdout",
     "output_type": "stream",
     "text": [
      "('apple', 'banana', 'cherry', 'mango', 'kiwi', 'apple', 'banana', 'cherry', 'mango', 'kiwi')\n"
     ]
    }
   ],
   "source": [
    "x=(\"apple\",\"banana\",\"cherry\",\"mango\",\"kiwi\")\n",
    "mytuple=x*2\n",
    "print(mytuple)"
   ]
  },
  {
   "cell_type": "code",
   "execution_count": 24,
   "id": "96a79d98-868f-4378-90dd-8ad95990936f",
   "metadata": {},
   "outputs": [
    {
     "name": "stdout",
     "output_type": "stream",
     "text": [
      "('apple', 'banana', 'cherry', 'mango', 'kiwi', 1, 2, 4, 45, 67, 76)\n"
     ]
    }
   ],
   "source": [
    "x=(\"apple\",\"banana\",\"cherry\",\"mango\",\"kiwi\")\n",
    "y=(1,2,4,45,67,76)\n",
    "z=x+y\n",
    "print(z)"
   ]
  },
  {
   "cell_type": "code",
   "execution_count": null,
   "id": "ceef1eec-f3ed-45f8-8dbc-77d7a55f3fd3",
   "metadata": {},
   "outputs": [],
   "source": []
  }
 ],
 "metadata": {
  "kernelspec": {
   "display_name": "Python 3 (ipykernel)",
   "language": "python",
   "name": "python3"
  },
  "language_info": {
   "codemirror_mode": {
    "name": "ipython",
    "version": 3
   },
   "file_extension": ".py",
   "mimetype": "text/x-python",
   "name": "python",
   "nbconvert_exporter": "python",
   "pygments_lexer": "ipython3",
   "version": "3.9.13"
  }
 },
 "nbformat": 4,
 "nbformat_minor": 5
}
